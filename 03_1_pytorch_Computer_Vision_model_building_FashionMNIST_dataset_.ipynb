{
  "nbformat": 4,
  "nbformat_minor": 0,
  "metadata": {
    "colab": {
      "provenance": []
    },
    "kernelspec": {
      "name": "python3",
      "display_name": "Python 3"
    },
    "language_info": {
      "name": "python"
    },
    "widgets": {
      "application/vnd.jupyter.widget-state+json": {
        "40067cae7c1f46a8af838567f8f18f0a": {
          "model_module": "@jupyter-widgets/controls",
          "model_name": "HBoxModel",
          "model_module_version": "1.5.0",
          "state": {
            "_dom_classes": [],
            "_model_module": "@jupyter-widgets/controls",
            "_model_module_version": "1.5.0",
            "_model_name": "HBoxModel",
            "_view_count": null,
            "_view_module": "@jupyter-widgets/controls",
            "_view_module_version": "1.5.0",
            "_view_name": "HBoxView",
            "box_style": "",
            "children": [
              "IPY_MODEL_48bfcac969b84b72ae3ab3ff0153f77a",
              "IPY_MODEL_cd925e1269274320a6e5f95b093d164c",
              "IPY_MODEL_11abbb0f4c7a400ca9dc072da69f9e24"
            ],
            "layout": "IPY_MODEL_2fd5d536e78f4070adc38f3162c9ab46"
          }
        },
        "48bfcac969b84b72ae3ab3ff0153f77a": {
          "model_module": "@jupyter-widgets/controls",
          "model_name": "HTMLModel",
          "model_module_version": "1.5.0",
          "state": {
            "_dom_classes": [],
            "_model_module": "@jupyter-widgets/controls",
            "_model_module_version": "1.5.0",
            "_model_name": "HTMLModel",
            "_view_count": null,
            "_view_module": "@jupyter-widgets/controls",
            "_view_module_version": "1.5.0",
            "_view_name": "HTMLView",
            "description": "",
            "description_tooltip": null,
            "layout": "IPY_MODEL_5b1017a0ecc541f4860394d43bc0853c",
            "placeholder": "​",
            "style": "IPY_MODEL_fd4e162b71c54e9a981404fc145ed455",
            "value": "100%"
          }
        },
        "cd925e1269274320a6e5f95b093d164c": {
          "model_module": "@jupyter-widgets/controls",
          "model_name": "FloatProgressModel",
          "model_module_version": "1.5.0",
          "state": {
            "_dom_classes": [],
            "_model_module": "@jupyter-widgets/controls",
            "_model_module_version": "1.5.0",
            "_model_name": "FloatProgressModel",
            "_view_count": null,
            "_view_module": "@jupyter-widgets/controls",
            "_view_module_version": "1.5.0",
            "_view_name": "ProgressView",
            "bar_style": "success",
            "description": "",
            "description_tooltip": null,
            "layout": "IPY_MODEL_3111090190dd46cda601950b76a23f59",
            "max": 3,
            "min": 0,
            "orientation": "horizontal",
            "style": "IPY_MODEL_2ed6c80d5a934ffba1c463102b6d4750",
            "value": 3
          }
        },
        "11abbb0f4c7a400ca9dc072da69f9e24": {
          "model_module": "@jupyter-widgets/controls",
          "model_name": "HTMLModel",
          "model_module_version": "1.5.0",
          "state": {
            "_dom_classes": [],
            "_model_module": "@jupyter-widgets/controls",
            "_model_module_version": "1.5.0",
            "_model_name": "HTMLModel",
            "_view_count": null,
            "_view_module": "@jupyter-widgets/controls",
            "_view_module_version": "1.5.0",
            "_view_name": "HTMLView",
            "description": "",
            "description_tooltip": null,
            "layout": "IPY_MODEL_4f2fde2b9d264149a55d62b7d248d08b",
            "placeholder": "​",
            "style": "IPY_MODEL_850f495cd833409f813238bfb1d4cacc",
            "value": " 3/3 [00:32&lt;00:00, 10.76s/it]"
          }
        },
        "2fd5d536e78f4070adc38f3162c9ab46": {
          "model_module": "@jupyter-widgets/base",
          "model_name": "LayoutModel",
          "model_module_version": "1.2.0",
          "state": {
            "_model_module": "@jupyter-widgets/base",
            "_model_module_version": "1.2.0",
            "_model_name": "LayoutModel",
            "_view_count": null,
            "_view_module": "@jupyter-widgets/base",
            "_view_module_version": "1.2.0",
            "_view_name": "LayoutView",
            "align_content": null,
            "align_items": null,
            "align_self": null,
            "border": null,
            "bottom": null,
            "display": null,
            "flex": null,
            "flex_flow": null,
            "grid_area": null,
            "grid_auto_columns": null,
            "grid_auto_flow": null,
            "grid_auto_rows": null,
            "grid_column": null,
            "grid_gap": null,
            "grid_row": null,
            "grid_template_areas": null,
            "grid_template_columns": null,
            "grid_template_rows": null,
            "height": null,
            "justify_content": null,
            "justify_items": null,
            "left": null,
            "margin": null,
            "max_height": null,
            "max_width": null,
            "min_height": null,
            "min_width": null,
            "object_fit": null,
            "object_position": null,
            "order": null,
            "overflow": null,
            "overflow_x": null,
            "overflow_y": null,
            "padding": null,
            "right": null,
            "top": null,
            "visibility": null,
            "width": null
          }
        },
        "5b1017a0ecc541f4860394d43bc0853c": {
          "model_module": "@jupyter-widgets/base",
          "model_name": "LayoutModel",
          "model_module_version": "1.2.0",
          "state": {
            "_model_module": "@jupyter-widgets/base",
            "_model_module_version": "1.2.0",
            "_model_name": "LayoutModel",
            "_view_count": null,
            "_view_module": "@jupyter-widgets/base",
            "_view_module_version": "1.2.0",
            "_view_name": "LayoutView",
            "align_content": null,
            "align_items": null,
            "align_self": null,
            "border": null,
            "bottom": null,
            "display": null,
            "flex": null,
            "flex_flow": null,
            "grid_area": null,
            "grid_auto_columns": null,
            "grid_auto_flow": null,
            "grid_auto_rows": null,
            "grid_column": null,
            "grid_gap": null,
            "grid_row": null,
            "grid_template_areas": null,
            "grid_template_columns": null,
            "grid_template_rows": null,
            "height": null,
            "justify_content": null,
            "justify_items": null,
            "left": null,
            "margin": null,
            "max_height": null,
            "max_width": null,
            "min_height": null,
            "min_width": null,
            "object_fit": null,
            "object_position": null,
            "order": null,
            "overflow": null,
            "overflow_x": null,
            "overflow_y": null,
            "padding": null,
            "right": null,
            "top": null,
            "visibility": null,
            "width": null
          }
        },
        "fd4e162b71c54e9a981404fc145ed455": {
          "model_module": "@jupyter-widgets/controls",
          "model_name": "DescriptionStyleModel",
          "model_module_version": "1.5.0",
          "state": {
            "_model_module": "@jupyter-widgets/controls",
            "_model_module_version": "1.5.0",
            "_model_name": "DescriptionStyleModel",
            "_view_count": null,
            "_view_module": "@jupyter-widgets/base",
            "_view_module_version": "1.2.0",
            "_view_name": "StyleView",
            "description_width": ""
          }
        },
        "3111090190dd46cda601950b76a23f59": {
          "model_module": "@jupyter-widgets/base",
          "model_name": "LayoutModel",
          "model_module_version": "1.2.0",
          "state": {
            "_model_module": "@jupyter-widgets/base",
            "_model_module_version": "1.2.0",
            "_model_name": "LayoutModel",
            "_view_count": null,
            "_view_module": "@jupyter-widgets/base",
            "_view_module_version": "1.2.0",
            "_view_name": "LayoutView",
            "align_content": null,
            "align_items": null,
            "align_self": null,
            "border": null,
            "bottom": null,
            "display": null,
            "flex": null,
            "flex_flow": null,
            "grid_area": null,
            "grid_auto_columns": null,
            "grid_auto_flow": null,
            "grid_auto_rows": null,
            "grid_column": null,
            "grid_gap": null,
            "grid_row": null,
            "grid_template_areas": null,
            "grid_template_columns": null,
            "grid_template_rows": null,
            "height": null,
            "justify_content": null,
            "justify_items": null,
            "left": null,
            "margin": null,
            "max_height": null,
            "max_width": null,
            "min_height": null,
            "min_width": null,
            "object_fit": null,
            "object_position": null,
            "order": null,
            "overflow": null,
            "overflow_x": null,
            "overflow_y": null,
            "padding": null,
            "right": null,
            "top": null,
            "visibility": null,
            "width": null
          }
        },
        "2ed6c80d5a934ffba1c463102b6d4750": {
          "model_module": "@jupyter-widgets/controls",
          "model_name": "ProgressStyleModel",
          "model_module_version": "1.5.0",
          "state": {
            "_model_module": "@jupyter-widgets/controls",
            "_model_module_version": "1.5.0",
            "_model_name": "ProgressStyleModel",
            "_view_count": null,
            "_view_module": "@jupyter-widgets/base",
            "_view_module_version": "1.2.0",
            "_view_name": "StyleView",
            "bar_color": null,
            "description_width": ""
          }
        },
        "4f2fde2b9d264149a55d62b7d248d08b": {
          "model_module": "@jupyter-widgets/base",
          "model_name": "LayoutModel",
          "model_module_version": "1.2.0",
          "state": {
            "_model_module": "@jupyter-widgets/base",
            "_model_module_version": "1.2.0",
            "_model_name": "LayoutModel",
            "_view_count": null,
            "_view_module": "@jupyter-widgets/base",
            "_view_module_version": "1.2.0",
            "_view_name": "LayoutView",
            "align_content": null,
            "align_items": null,
            "align_self": null,
            "border": null,
            "bottom": null,
            "display": null,
            "flex": null,
            "flex_flow": null,
            "grid_area": null,
            "grid_auto_columns": null,
            "grid_auto_flow": null,
            "grid_auto_rows": null,
            "grid_column": null,
            "grid_gap": null,
            "grid_row": null,
            "grid_template_areas": null,
            "grid_template_columns": null,
            "grid_template_rows": null,
            "height": null,
            "justify_content": null,
            "justify_items": null,
            "left": null,
            "margin": null,
            "max_height": null,
            "max_width": null,
            "min_height": null,
            "min_width": null,
            "object_fit": null,
            "object_position": null,
            "order": null,
            "overflow": null,
            "overflow_x": null,
            "overflow_y": null,
            "padding": null,
            "right": null,
            "top": null,
            "visibility": null,
            "width": null
          }
        },
        "850f495cd833409f813238bfb1d4cacc": {
          "model_module": "@jupyter-widgets/controls",
          "model_name": "DescriptionStyleModel",
          "model_module_version": "1.5.0",
          "state": {
            "_model_module": "@jupyter-widgets/controls",
            "_model_module_version": "1.5.0",
            "_model_name": "DescriptionStyleModel",
            "_view_count": null,
            "_view_module": "@jupyter-widgets/base",
            "_view_module_version": "1.2.0",
            "_view_name": "StyleView",
            "description_width": ""
          }
        },
        "1b932f34bc154fea959e06a13de00c47": {
          "model_module": "@jupyter-widgets/controls",
          "model_name": "HBoxModel",
          "model_module_version": "1.5.0",
          "state": {
            "_dom_classes": [],
            "_model_module": "@jupyter-widgets/controls",
            "_model_module_version": "1.5.0",
            "_model_name": "HBoxModel",
            "_view_count": null,
            "_view_module": "@jupyter-widgets/controls",
            "_view_module_version": "1.5.0",
            "_view_name": "HBoxView",
            "box_style": "",
            "children": [
              "IPY_MODEL_80b6ad4f4ffa405ea7cc64efdb0b4718",
              "IPY_MODEL_f33209e149be44fc8fa0e7f81b4f1f79",
              "IPY_MODEL_5f12739436aa4b949ecde266329bd45c"
            ],
            "layout": "IPY_MODEL_0aa213bae5a748edbfe4c4b563098075"
          }
        },
        "80b6ad4f4ffa405ea7cc64efdb0b4718": {
          "model_module": "@jupyter-widgets/controls",
          "model_name": "HTMLModel",
          "model_module_version": "1.5.0",
          "state": {
            "_dom_classes": [],
            "_model_module": "@jupyter-widgets/controls",
            "_model_module_version": "1.5.0",
            "_model_name": "HTMLModel",
            "_view_count": null,
            "_view_module": "@jupyter-widgets/controls",
            "_view_module_version": "1.5.0",
            "_view_name": "HTMLView",
            "description": "",
            "description_tooltip": null,
            "layout": "IPY_MODEL_d51f7e1fee8a430486278171513bbce2",
            "placeholder": "​",
            "style": "IPY_MODEL_f45209350f71454fab2cfeff8e4683b8",
            "value": "100%"
          }
        },
        "f33209e149be44fc8fa0e7f81b4f1f79": {
          "model_module": "@jupyter-widgets/controls",
          "model_name": "FloatProgressModel",
          "model_module_version": "1.5.0",
          "state": {
            "_dom_classes": [],
            "_model_module": "@jupyter-widgets/controls",
            "_model_module_version": "1.5.0",
            "_model_name": "FloatProgressModel",
            "_view_count": null,
            "_view_module": "@jupyter-widgets/controls",
            "_view_module_version": "1.5.0",
            "_view_name": "ProgressView",
            "bar_style": "success",
            "description": "",
            "description_tooltip": null,
            "layout": "IPY_MODEL_869992f3a22c4eb3bc476dbd1598ade1",
            "max": 313,
            "min": 0,
            "orientation": "horizontal",
            "style": "IPY_MODEL_d47ddc987ba64461a565b1d086510292",
            "value": 313
          }
        },
        "5f12739436aa4b949ecde266329bd45c": {
          "model_module": "@jupyter-widgets/controls",
          "model_name": "HTMLModel",
          "model_module_version": "1.5.0",
          "state": {
            "_dom_classes": [],
            "_model_module": "@jupyter-widgets/controls",
            "_model_module_version": "1.5.0",
            "_model_name": "HTMLModel",
            "_view_count": null,
            "_view_module": "@jupyter-widgets/controls",
            "_view_module_version": "1.5.0",
            "_view_name": "HTMLView",
            "description": "",
            "description_tooltip": null,
            "layout": "IPY_MODEL_b7206f6a6abc4923bd7aa64a015ed9b6",
            "placeholder": "​",
            "style": "IPY_MODEL_6c9dbb6d61ea46ad8bb494e9ede950e2",
            "value": " 313/313 [00:01&lt;00:00, 249.82it/s]"
          }
        },
        "0aa213bae5a748edbfe4c4b563098075": {
          "model_module": "@jupyter-widgets/base",
          "model_name": "LayoutModel",
          "model_module_version": "1.2.0",
          "state": {
            "_model_module": "@jupyter-widgets/base",
            "_model_module_version": "1.2.0",
            "_model_name": "LayoutModel",
            "_view_count": null,
            "_view_module": "@jupyter-widgets/base",
            "_view_module_version": "1.2.0",
            "_view_name": "LayoutView",
            "align_content": null,
            "align_items": null,
            "align_self": null,
            "border": null,
            "bottom": null,
            "display": null,
            "flex": null,
            "flex_flow": null,
            "grid_area": null,
            "grid_auto_columns": null,
            "grid_auto_flow": null,
            "grid_auto_rows": null,
            "grid_column": null,
            "grid_gap": null,
            "grid_row": null,
            "grid_template_areas": null,
            "grid_template_columns": null,
            "grid_template_rows": null,
            "height": null,
            "justify_content": null,
            "justify_items": null,
            "left": null,
            "margin": null,
            "max_height": null,
            "max_width": null,
            "min_height": null,
            "min_width": null,
            "object_fit": null,
            "object_position": null,
            "order": null,
            "overflow": null,
            "overflow_x": null,
            "overflow_y": null,
            "padding": null,
            "right": null,
            "top": null,
            "visibility": null,
            "width": null
          }
        },
        "d51f7e1fee8a430486278171513bbce2": {
          "model_module": "@jupyter-widgets/base",
          "model_name": "LayoutModel",
          "model_module_version": "1.2.0",
          "state": {
            "_model_module": "@jupyter-widgets/base",
            "_model_module_version": "1.2.0",
            "_model_name": "LayoutModel",
            "_view_count": null,
            "_view_module": "@jupyter-widgets/base",
            "_view_module_version": "1.2.0",
            "_view_name": "LayoutView",
            "align_content": null,
            "align_items": null,
            "align_self": null,
            "border": null,
            "bottom": null,
            "display": null,
            "flex": null,
            "flex_flow": null,
            "grid_area": null,
            "grid_auto_columns": null,
            "grid_auto_flow": null,
            "grid_auto_rows": null,
            "grid_column": null,
            "grid_gap": null,
            "grid_row": null,
            "grid_template_areas": null,
            "grid_template_columns": null,
            "grid_template_rows": null,
            "height": null,
            "justify_content": null,
            "justify_items": null,
            "left": null,
            "margin": null,
            "max_height": null,
            "max_width": null,
            "min_height": null,
            "min_width": null,
            "object_fit": null,
            "object_position": null,
            "order": null,
            "overflow": null,
            "overflow_x": null,
            "overflow_y": null,
            "padding": null,
            "right": null,
            "top": null,
            "visibility": null,
            "width": null
          }
        },
        "f45209350f71454fab2cfeff8e4683b8": {
          "model_module": "@jupyter-widgets/controls",
          "model_name": "DescriptionStyleModel",
          "model_module_version": "1.5.0",
          "state": {
            "_model_module": "@jupyter-widgets/controls",
            "_model_module_version": "1.5.0",
            "_model_name": "DescriptionStyleModel",
            "_view_count": null,
            "_view_module": "@jupyter-widgets/base",
            "_view_module_version": "1.2.0",
            "_view_name": "StyleView",
            "description_width": ""
          }
        },
        "869992f3a22c4eb3bc476dbd1598ade1": {
          "model_module": "@jupyter-widgets/base",
          "model_name": "LayoutModel",
          "model_module_version": "1.2.0",
          "state": {
            "_model_module": "@jupyter-widgets/base",
            "_model_module_version": "1.2.0",
            "_model_name": "LayoutModel",
            "_view_count": null,
            "_view_module": "@jupyter-widgets/base",
            "_view_module_version": "1.2.0",
            "_view_name": "LayoutView",
            "align_content": null,
            "align_items": null,
            "align_self": null,
            "border": null,
            "bottom": null,
            "display": null,
            "flex": null,
            "flex_flow": null,
            "grid_area": null,
            "grid_auto_columns": null,
            "grid_auto_flow": null,
            "grid_auto_rows": null,
            "grid_column": null,
            "grid_gap": null,
            "grid_row": null,
            "grid_template_areas": null,
            "grid_template_columns": null,
            "grid_template_rows": null,
            "height": null,
            "justify_content": null,
            "justify_items": null,
            "left": null,
            "margin": null,
            "max_height": null,
            "max_width": null,
            "min_height": null,
            "min_width": null,
            "object_fit": null,
            "object_position": null,
            "order": null,
            "overflow": null,
            "overflow_x": null,
            "overflow_y": null,
            "padding": null,
            "right": null,
            "top": null,
            "visibility": null,
            "width": null
          }
        },
        "d47ddc987ba64461a565b1d086510292": {
          "model_module": "@jupyter-widgets/controls",
          "model_name": "ProgressStyleModel",
          "model_module_version": "1.5.0",
          "state": {
            "_model_module": "@jupyter-widgets/controls",
            "_model_module_version": "1.5.0",
            "_model_name": "ProgressStyleModel",
            "_view_count": null,
            "_view_module": "@jupyter-widgets/base",
            "_view_module_version": "1.2.0",
            "_view_name": "StyleView",
            "bar_color": null,
            "description_width": ""
          }
        },
        "b7206f6a6abc4923bd7aa64a015ed9b6": {
          "model_module": "@jupyter-widgets/base",
          "model_name": "LayoutModel",
          "model_module_version": "1.2.0",
          "state": {
            "_model_module": "@jupyter-widgets/base",
            "_model_module_version": "1.2.0",
            "_model_name": "LayoutModel",
            "_view_count": null,
            "_view_module": "@jupyter-widgets/base",
            "_view_module_version": "1.2.0",
            "_view_name": "LayoutView",
            "align_content": null,
            "align_items": null,
            "align_self": null,
            "border": null,
            "bottom": null,
            "display": null,
            "flex": null,
            "flex_flow": null,
            "grid_area": null,
            "grid_auto_columns": null,
            "grid_auto_flow": null,
            "grid_auto_rows": null,
            "grid_column": null,
            "grid_gap": null,
            "grid_row": null,
            "grid_template_areas": null,
            "grid_template_columns": null,
            "grid_template_rows": null,
            "height": null,
            "justify_content": null,
            "justify_items": null,
            "left": null,
            "margin": null,
            "max_height": null,
            "max_width": null,
            "min_height": null,
            "min_width": null,
            "object_fit": null,
            "object_position": null,
            "order": null,
            "overflow": null,
            "overflow_x": null,
            "overflow_y": null,
            "padding": null,
            "right": null,
            "top": null,
            "visibility": null,
            "width": null
          }
        },
        "6c9dbb6d61ea46ad8bb494e9ede950e2": {
          "model_module": "@jupyter-widgets/controls",
          "model_name": "DescriptionStyleModel",
          "model_module_version": "1.5.0",
          "state": {
            "_model_module": "@jupyter-widgets/controls",
            "_model_module_version": "1.5.0",
            "_model_name": "DescriptionStyleModel",
            "_view_count": null,
            "_view_module": "@jupyter-widgets/base",
            "_view_module_version": "1.2.0",
            "_view_name": "StyleView",
            "description_width": ""
          }
        }
      }
    }
  },
  "cells": [
    {
      "cell_type": "markdown",
      "source": [
        "#computer vision\n",
        "\n",
        " It involves developing algorithms and techniques to help computers gain high-level understanding from digital images or videos.\n",
        "\n",
        "By using convolution neural networks - in the domain of pictures"
      ],
      "metadata": {
        "id": "OydnJhbDdm-L"
      }
    },
    {
      "cell_type": "markdown",
      "source": [
        "We can also perform binary and multiclass classification in Computer Vision.\n",
        "\n",
        "Applications of Computer Vision:\n",
        "* used for object detection , segmentation --> sections of an image\n",
        "* tesla computer vision --> they have 8 cameras on the their self driving cars, they use computer vision to understand their images,they turn images into the vector spaces.\n",
        "* tesla uses PyTorch to train their machine learning models.\n",
        "* another thing is that tesla FSD breaks uses computer vision."
      ],
      "metadata": {
        "id": "TFYCcg6Ld6NH"
      }
    },
    {
      "cell_type": "code",
      "source": [
        "#computer vision inputs and outputs\n",
        "\n",
        "w=224\n",
        "h=224\n",
        "c=3  #colour channels r,g,b"
      ],
      "metadata": {
        "id": "P8SyoBTlUpM7"
      },
      "execution_count": 116,
      "outputs": []
    },
    {
      "cell_type": "markdown",
      "source": [
        "# Steps :\n",
        "\n",
        "1. convert to numerical encoding, then to predicted output and then to actual output\n",
        "2. the numerical encoded inputs are given to the algorithm and the output of the algorithm are actually the predicted outputs.\n",
        "3. the algorithm that usually does this conversion is the CNN or the Convolutinal Neural Network\n",
        "--> CNN works the best with the image data. There are differnt types of neural networks other than CNN as well."
      ],
      "metadata": {
        "id": "HCsIyWWGehcO"
      }
    },
    {
      "cell_type": "markdown",
      "source": [
        "if we encode any image, we might have 'batch_size , width, height, color channels'. these can vary\n",
        "\n",
        "shape = [32 , 224 ,224 , 3]\n",
        "\n",
        "then we have the output shape of 3 because in this example, we have 3 classes."
      ],
      "metadata": {
        "id": "pedj7-J6esJA"
      }
    },
    {
      "cell_type": "markdown",
      "source": [
        "Note: we can have color channels first and color channels last, different libraries take different order but in the long term, we can use color channels last."
      ],
      "metadata": {
        "id": "EYnMEAbAeyO5"
      }
    },
    {
      "cell_type": "markdown",
      "source": [
        "#what is a CNN?\n",
        "\n",
        "--> architectures that are pretty good at recognising patterns in the images."
      ],
      "metadata": {
        "id": "UsGlmkcWe45j"
      }
    },
    {
      "cell_type": "markdown",
      "source": [
        "#architecture of a CNN:\n",
        "\n",
        "1. input image\n",
        "2. input layer --> takes in target images and preprocesses them for further layers\n",
        "3. convolution layer --> learns the most important layers\n",
        "4. hidden activation layers --> add non-linearity to the learned features\n",
        "5. pooling layers --> reduces the dimensionality of learned image features\n",
        "6. output layers/ linear layer --> takes learned features and outputs them in shape of target labels\n",
        "7. output activation --> coverts the output logits to the predicted probabilities\n"
      ],
      "metadata": {
        "id": "KTZDqKore7hT"
      }
    },
    {
      "cell_type": "markdown",
      "source": [
        "# computer vision libraries in Pytorch\n",
        "\n",
        "\n",
        "1. torchvision --> base domain library for CV\n",
        "2. torchvision.Datasets --> get datasets and dataloading functions for CV\n",
        "3. torchvision.models --> get pretrained CV models\n",
        "4. torchvision.transforms --> functions for manipulating your vision data to be suitable for use.\n",
        "5. torch.utils.data.Dataset --> base dataset class for PyTorch\n",
        "6. torch.utils.data.DataLoader --> creates Python iterable over a dataset.\n",
        "\n"
      ],
      "metadata": {
        "id": "EhUpbH0WfHtU"
      }
    },
    {
      "cell_type": "markdown",
      "source": [
        "#FashionMNIST dataset"
      ],
      "metadata": {
        "id": "3XNxymAZfs_t"
      }
    },
    {
      "cell_type": "code",
      "source": [
        "import torch\n",
        "from torch import nn\n",
        "\n",
        "import torchvision\n",
        "from torchvision import datasets\n",
        "from torchvision import transforms\n",
        "from torchvision.transforms import ToTensor\n",
        "\n",
        "import matplotlib.pyplot as plt\n",
        "\n",
        "print(torch.__version__)\n",
        "print(torchvision.__version__)"
      ],
      "metadata": {
        "colab": {
          "base_uri": "https://localhost:8080/"
        },
        "id": "__wosrfddOeh",
        "outputId": "bd15a612-9e11-46d0-d3eb-8025c5e1bb2d"
      },
      "execution_count": 117,
      "outputs": [
        {
          "output_type": "stream",
          "name": "stdout",
          "text": [
            "2.2.1+cu121\n",
            "0.17.1+cu121\n"
          ]
        }
      ]
    },
    {
      "cell_type": "code",
      "source": [
        "#using the built-in dataset\n",
        "\n",
        "#setup the training data\n",
        "from torchvision import datasets\n",
        "\n",
        "train_data = datasets.FashionMNIST(\n",
        "    root = \"data\", #where to download the data to--\n",
        "    train = True, #do we want the training dataset, if False we get the testing dataset\n",
        "    download = True, #to get the dataset\n",
        "    transform = torchvision.transforms.ToTensor(), #convert the data to tensors\n",
        "    target_transform = None #how we want to transform the labels/targets\n",
        ")\n",
        "\n",
        "\n",
        "test_data = datasets.FashionMNIST(\n",
        "    root=\"data\",\n",
        "    train = False,\n",
        "    download = True,\n",
        "    transform = ToTensor(),\n",
        "    target_transform = None\n",
        ")"
      ],
      "metadata": {
        "id": "WT5uRCXLfOi7"
      },
      "execution_count": 118,
      "outputs": []
    },
    {
      "cell_type": "code",
      "source": [
        "#checking out the parameters or the attributes of the data\n",
        "len(train_data) , len(test_data)"
      ],
      "metadata": {
        "colab": {
          "base_uri": "https://localhost:8080/"
        },
        "id": "F1BDrBJEhHp_",
        "outputId": "be37e4a4-2a02-4c85-a6fa-d87784e4abfd"
      },
      "execution_count": 119,
      "outputs": [
        {
          "output_type": "execute_result",
          "data": {
            "text/plain": [
              "(60000, 10000)"
            ]
          },
          "metadata": {},
          "execution_count": 119
        }
      ]
    },
    {
      "cell_type": "code",
      "source": [
        "#see the first training example\n",
        "image , label = train_data[0]\n",
        "image , label"
      ],
      "metadata": {
        "colab": {
          "base_uri": "https://localhost:8080/"
        },
        "id": "G3VqOpq4hxDG",
        "outputId": "ed86d251-c812-4e0d-f0c0-fc667cbf9ad7"
      },
      "execution_count": 120,
      "outputs": [
        {
          "output_type": "execute_result",
          "data": {
            "text/plain": [
              "(tensor([[[0.0000, 0.0000, 0.0000, 0.0000, 0.0000, 0.0000, 0.0000, 0.0000,\n",
              "           0.0000, 0.0000, 0.0000, 0.0000, 0.0000, 0.0000, 0.0000, 0.0000,\n",
              "           0.0000, 0.0000, 0.0000, 0.0000, 0.0000, 0.0000, 0.0000, 0.0000,\n",
              "           0.0000, 0.0000, 0.0000, 0.0000],\n",
              "          [0.0000, 0.0000, 0.0000, 0.0000, 0.0000, 0.0000, 0.0000, 0.0000,\n",
              "           0.0000, 0.0000, 0.0000, 0.0000, 0.0000, 0.0000, 0.0000, 0.0000,\n",
              "           0.0000, 0.0000, 0.0000, 0.0000, 0.0000, 0.0000, 0.0000, 0.0000,\n",
              "           0.0000, 0.0000, 0.0000, 0.0000],\n",
              "          [0.0000, 0.0000, 0.0000, 0.0000, 0.0000, 0.0000, 0.0000, 0.0000,\n",
              "           0.0000, 0.0000, 0.0000, 0.0000, 0.0000, 0.0000, 0.0000, 0.0000,\n",
              "           0.0000, 0.0000, 0.0000, 0.0000, 0.0000, 0.0000, 0.0000, 0.0000,\n",
              "           0.0000, 0.0000, 0.0000, 0.0000],\n",
              "          [0.0000, 0.0000, 0.0000, 0.0000, 0.0000, 0.0000, 0.0000, 0.0000,\n",
              "           0.0000, 0.0000, 0.0000, 0.0000, 0.0039, 0.0000, 0.0000, 0.0510,\n",
              "           0.2863, 0.0000, 0.0000, 0.0039, 0.0157, 0.0000, 0.0000, 0.0000,\n",
              "           0.0000, 0.0039, 0.0039, 0.0000],\n",
              "          [0.0000, 0.0000, 0.0000, 0.0000, 0.0000, 0.0000, 0.0000, 0.0000,\n",
              "           0.0000, 0.0000, 0.0000, 0.0000, 0.0118, 0.0000, 0.1412, 0.5333,\n",
              "           0.4980, 0.2431, 0.2118, 0.0000, 0.0000, 0.0000, 0.0039, 0.0118,\n",
              "           0.0157, 0.0000, 0.0000, 0.0118],\n",
              "          [0.0000, 0.0000, 0.0000, 0.0000, 0.0000, 0.0000, 0.0000, 0.0000,\n",
              "           0.0000, 0.0000, 0.0000, 0.0000, 0.0235, 0.0000, 0.4000, 0.8000,\n",
              "           0.6902, 0.5255, 0.5647, 0.4824, 0.0902, 0.0000, 0.0000, 0.0000,\n",
              "           0.0000, 0.0471, 0.0392, 0.0000],\n",
              "          [0.0000, 0.0000, 0.0000, 0.0000, 0.0000, 0.0000, 0.0000, 0.0000,\n",
              "           0.0000, 0.0000, 0.0000, 0.0000, 0.0000, 0.0000, 0.6078, 0.9255,\n",
              "           0.8118, 0.6980, 0.4196, 0.6118, 0.6314, 0.4275, 0.2510, 0.0902,\n",
              "           0.3020, 0.5098, 0.2824, 0.0588],\n",
              "          [0.0000, 0.0000, 0.0000, 0.0000, 0.0000, 0.0000, 0.0000, 0.0000,\n",
              "           0.0000, 0.0000, 0.0000, 0.0039, 0.0000, 0.2706, 0.8118, 0.8745,\n",
              "           0.8549, 0.8471, 0.8471, 0.6392, 0.4980, 0.4745, 0.4784, 0.5725,\n",
              "           0.5529, 0.3451, 0.6745, 0.2588],\n",
              "          [0.0000, 0.0000, 0.0000, 0.0000, 0.0000, 0.0000, 0.0000, 0.0000,\n",
              "           0.0000, 0.0039, 0.0039, 0.0039, 0.0000, 0.7843, 0.9098, 0.9098,\n",
              "           0.9137, 0.8980, 0.8745, 0.8745, 0.8431, 0.8353, 0.6431, 0.4980,\n",
              "           0.4824, 0.7686, 0.8980, 0.0000],\n",
              "          [0.0000, 0.0000, 0.0000, 0.0000, 0.0000, 0.0000, 0.0000, 0.0000,\n",
              "           0.0000, 0.0000, 0.0000, 0.0000, 0.0000, 0.7176, 0.8824, 0.8471,\n",
              "           0.8745, 0.8941, 0.9216, 0.8902, 0.8784, 0.8706, 0.8784, 0.8667,\n",
              "           0.8745, 0.9608, 0.6784, 0.0000],\n",
              "          [0.0000, 0.0000, 0.0000, 0.0000, 0.0000, 0.0000, 0.0000, 0.0000,\n",
              "           0.0000, 0.0000, 0.0000, 0.0000, 0.0000, 0.7569, 0.8941, 0.8549,\n",
              "           0.8353, 0.7765, 0.7059, 0.8314, 0.8235, 0.8275, 0.8353, 0.8745,\n",
              "           0.8627, 0.9529, 0.7922, 0.0000],\n",
              "          [0.0000, 0.0000, 0.0000, 0.0000, 0.0000, 0.0000, 0.0000, 0.0000,\n",
              "           0.0000, 0.0039, 0.0118, 0.0000, 0.0471, 0.8588, 0.8627, 0.8314,\n",
              "           0.8549, 0.7529, 0.6627, 0.8902, 0.8157, 0.8549, 0.8784, 0.8314,\n",
              "           0.8863, 0.7725, 0.8196, 0.2039],\n",
              "          [0.0000, 0.0000, 0.0000, 0.0000, 0.0000, 0.0000, 0.0000, 0.0000,\n",
              "           0.0000, 0.0000, 0.0235, 0.0000, 0.3882, 0.9569, 0.8706, 0.8627,\n",
              "           0.8549, 0.7961, 0.7765, 0.8667, 0.8431, 0.8353, 0.8706, 0.8627,\n",
              "           0.9608, 0.4667, 0.6549, 0.2196],\n",
              "          [0.0000, 0.0000, 0.0000, 0.0000, 0.0000, 0.0000, 0.0000, 0.0000,\n",
              "           0.0000, 0.0157, 0.0000, 0.0000, 0.2157, 0.9255, 0.8941, 0.9020,\n",
              "           0.8941, 0.9412, 0.9098, 0.8353, 0.8549, 0.8745, 0.9176, 0.8510,\n",
              "           0.8510, 0.8196, 0.3608, 0.0000],\n",
              "          [0.0000, 0.0000, 0.0039, 0.0157, 0.0235, 0.0275, 0.0078, 0.0000,\n",
              "           0.0000, 0.0000, 0.0000, 0.0000, 0.9294, 0.8863, 0.8510, 0.8745,\n",
              "           0.8706, 0.8588, 0.8706, 0.8667, 0.8471, 0.8745, 0.8980, 0.8431,\n",
              "           0.8549, 1.0000, 0.3020, 0.0000],\n",
              "          [0.0000, 0.0118, 0.0000, 0.0000, 0.0000, 0.0000, 0.0000, 0.0000,\n",
              "           0.0000, 0.2431, 0.5686, 0.8000, 0.8941, 0.8118, 0.8353, 0.8667,\n",
              "           0.8549, 0.8157, 0.8275, 0.8549, 0.8784, 0.8745, 0.8588, 0.8431,\n",
              "           0.8784, 0.9569, 0.6235, 0.0000],\n",
              "          [0.0000, 0.0000, 0.0000, 0.0000, 0.0706, 0.1725, 0.3216, 0.4196,\n",
              "           0.7412, 0.8941, 0.8627, 0.8706, 0.8510, 0.8863, 0.7843, 0.8039,\n",
              "           0.8275, 0.9020, 0.8784, 0.9176, 0.6902, 0.7373, 0.9804, 0.9725,\n",
              "           0.9137, 0.9333, 0.8431, 0.0000],\n",
              "          [0.0000, 0.2235, 0.7333, 0.8157, 0.8784, 0.8667, 0.8784, 0.8157,\n",
              "           0.8000, 0.8392, 0.8157, 0.8196, 0.7843, 0.6235, 0.9608, 0.7569,\n",
              "           0.8078, 0.8745, 1.0000, 1.0000, 0.8667, 0.9176, 0.8667, 0.8275,\n",
              "           0.8627, 0.9098, 0.9647, 0.0000],\n",
              "          [0.0118, 0.7922, 0.8941, 0.8784, 0.8667, 0.8275, 0.8275, 0.8392,\n",
              "           0.8039, 0.8039, 0.8039, 0.8627, 0.9412, 0.3137, 0.5882, 1.0000,\n",
              "           0.8980, 0.8667, 0.7373, 0.6039, 0.7490, 0.8235, 0.8000, 0.8196,\n",
              "           0.8706, 0.8941, 0.8824, 0.0000],\n",
              "          [0.3843, 0.9137, 0.7765, 0.8235, 0.8706, 0.8980, 0.8980, 0.9176,\n",
              "           0.9765, 0.8627, 0.7608, 0.8431, 0.8510, 0.9451, 0.2549, 0.2863,\n",
              "           0.4157, 0.4588, 0.6588, 0.8588, 0.8667, 0.8431, 0.8510, 0.8745,\n",
              "           0.8745, 0.8784, 0.8980, 0.1137],\n",
              "          [0.2941, 0.8000, 0.8314, 0.8000, 0.7569, 0.8039, 0.8275, 0.8824,\n",
              "           0.8471, 0.7255, 0.7725, 0.8078, 0.7765, 0.8353, 0.9412, 0.7647,\n",
              "           0.8902, 0.9608, 0.9373, 0.8745, 0.8549, 0.8314, 0.8196, 0.8706,\n",
              "           0.8627, 0.8667, 0.9020, 0.2627],\n",
              "          [0.1882, 0.7961, 0.7176, 0.7608, 0.8353, 0.7725, 0.7255, 0.7451,\n",
              "           0.7608, 0.7529, 0.7922, 0.8392, 0.8588, 0.8667, 0.8627, 0.9255,\n",
              "           0.8824, 0.8471, 0.7804, 0.8078, 0.7294, 0.7098, 0.6941, 0.6745,\n",
              "           0.7098, 0.8039, 0.8078, 0.4510],\n",
              "          [0.0000, 0.4784, 0.8588, 0.7569, 0.7020, 0.6706, 0.7176, 0.7686,\n",
              "           0.8000, 0.8235, 0.8353, 0.8118, 0.8275, 0.8235, 0.7843, 0.7686,\n",
              "           0.7608, 0.7490, 0.7647, 0.7490, 0.7765, 0.7529, 0.6902, 0.6118,\n",
              "           0.6549, 0.6941, 0.8235, 0.3608],\n",
              "          [0.0000, 0.0000, 0.2902, 0.7412, 0.8314, 0.7490, 0.6863, 0.6745,\n",
              "           0.6863, 0.7098, 0.7255, 0.7373, 0.7412, 0.7373, 0.7569, 0.7765,\n",
              "           0.8000, 0.8196, 0.8235, 0.8235, 0.8275, 0.7373, 0.7373, 0.7608,\n",
              "           0.7529, 0.8471, 0.6667, 0.0000],\n",
              "          [0.0078, 0.0000, 0.0000, 0.0000, 0.2588, 0.7843, 0.8706, 0.9294,\n",
              "           0.9373, 0.9490, 0.9647, 0.9529, 0.9569, 0.8667, 0.8627, 0.7569,\n",
              "           0.7490, 0.7020, 0.7137, 0.7137, 0.7098, 0.6902, 0.6510, 0.6588,\n",
              "           0.3882, 0.2275, 0.0000, 0.0000],\n",
              "          [0.0000, 0.0000, 0.0000, 0.0000, 0.0000, 0.0000, 0.0000, 0.1569,\n",
              "           0.2392, 0.1725, 0.2824, 0.1608, 0.1373, 0.0000, 0.0000, 0.0000,\n",
              "           0.0000, 0.0000, 0.0000, 0.0000, 0.0000, 0.0000, 0.0000, 0.0000,\n",
              "           0.0000, 0.0000, 0.0000, 0.0000],\n",
              "          [0.0000, 0.0000, 0.0000, 0.0000, 0.0000, 0.0000, 0.0000, 0.0000,\n",
              "           0.0000, 0.0000, 0.0000, 0.0000, 0.0000, 0.0000, 0.0000, 0.0000,\n",
              "           0.0000, 0.0000, 0.0000, 0.0000, 0.0000, 0.0000, 0.0000, 0.0000,\n",
              "           0.0000, 0.0000, 0.0000, 0.0000],\n",
              "          [0.0000, 0.0000, 0.0000, 0.0000, 0.0000, 0.0000, 0.0000, 0.0000,\n",
              "           0.0000, 0.0000, 0.0000, 0.0000, 0.0000, 0.0000, 0.0000, 0.0000,\n",
              "           0.0000, 0.0000, 0.0000, 0.0000, 0.0000, 0.0000, 0.0000, 0.0000,\n",
              "           0.0000, 0.0000, 0.0000, 0.0000]]]),\n",
              " 9)"
            ]
          },
          "metadata": {},
          "execution_count": 120
        }
      ]
    },
    {
      "cell_type": "code",
      "source": [
        "class_names = train_data.classes\n",
        "class_names"
      ],
      "metadata": {
        "colab": {
          "base_uri": "https://localhost:8080/"
        },
        "id": "Xf0ngepHh2zt",
        "outputId": "4140848e-aec9-4c99-9b2a-7639e5ff7de6"
      },
      "execution_count": 121,
      "outputs": [
        {
          "output_type": "execute_result",
          "data": {
            "text/plain": [
              "['T-shirt/top',\n",
              " 'Trouser',\n",
              " 'Pullover',\n",
              " 'Dress',\n",
              " 'Coat',\n",
              " 'Sandal',\n",
              " 'Shirt',\n",
              " 'Sneaker',\n",
              " 'Bag',\n",
              " 'Ankle boot']"
            ]
          },
          "metadata": {},
          "execution_count": 121
        }
      ]
    },
    {
      "cell_type": "code",
      "source": [
        "class_to_index = train_data.class_to_idx #map class labels (or categories) to their corresponding indices\n",
        "class_to_index"
      ],
      "metadata": {
        "colab": {
          "base_uri": "https://localhost:8080/"
        },
        "id": "v-_Fjlrlibve",
        "outputId": "1be8b1b2-2a46-4a23-dd95-c990badd7131"
      },
      "execution_count": 122,
      "outputs": [
        {
          "output_type": "execute_result",
          "data": {
            "text/plain": [
              "{'T-shirt/top': 0,\n",
              " 'Trouser': 1,\n",
              " 'Pullover': 2,\n",
              " 'Dress': 3,\n",
              " 'Coat': 4,\n",
              " 'Sandal': 5,\n",
              " 'Shirt': 6,\n",
              " 'Sneaker': 7,\n",
              " 'Bag': 8,\n",
              " 'Ankle boot': 9}"
            ]
          },
          "metadata": {},
          "execution_count": 122
        }
      ]
    },
    {
      "cell_type": "code",
      "source": [
        "train_data.targets"
      ],
      "metadata": {
        "colab": {
          "base_uri": "https://localhost:8080/"
        },
        "id": "NM13yW1_ip1t",
        "outputId": "f0c08778-ea77-46f1-cd4e-f8786945a5a5"
      },
      "execution_count": 123,
      "outputs": [
        {
          "output_type": "execute_result",
          "data": {
            "text/plain": [
              "tensor([9, 0, 0,  ..., 3, 0, 5])"
            ]
          },
          "metadata": {},
          "execution_count": 123
        }
      ]
    },
    {
      "cell_type": "code",
      "source": [
        "#checking the shape of the image\n",
        "image.shape , label #label is associated with the category"
      ],
      "metadata": {
        "colab": {
          "base_uri": "https://localhost:8080/"
        },
        "id": "6Ekne1UWiwC4",
        "outputId": "ed108ca9-76f9-4cd2-f999-3c7627939fd7"
      },
      "execution_count": 124,
      "outputs": [
        {
          "output_type": "execute_result",
          "data": {
            "text/plain": [
              "(torch.Size([1, 28, 28]), 9)"
            ]
          },
          "metadata": {},
          "execution_count": 124
        }
      ]
    },
    {
      "cell_type": "markdown",
      "source": [
        "--> reason why cant we access the shape of the label directly: Integers do not have shapes because they are scalar values representing single data points.\n"
      ],
      "metadata": {
        "id": "-Xak3tN3_Tc1"
      }
    },
    {
      "cell_type": "code",
      "source": [
        "print(f'image shape is: {image.shape} --> [color channel, height, width]')\n",
        "print(f'image label is: {class_names[label]}')"
      ],
      "metadata": {
        "colab": {
          "base_uri": "https://localhost:8080/"
        },
        "id": "G93BbV54i8lX",
        "outputId": "22924e2b-f88a-4a61-95ac-6791d8fd23f1"
      },
      "execution_count": 126,
      "outputs": [
        {
          "output_type": "stream",
          "name": "stdout",
          "text": [
            "image shape is: torch.Size([1, 28, 28]) --> [color channel, height, width]\n",
            "image label is: Ankle boot\n"
          ]
        }
      ]
    },
    {
      "cell_type": "markdown",
      "source": [
        "#visualising the data\n"
      ],
      "metadata": {
        "id": "SVg4_POl_XTb"
      }
    },
    {
      "cell_type": "code",
      "source": [
        "image , label = train_data[0]\n",
        "print(f'image shape: {image.shape}')"
      ],
      "metadata": {
        "colab": {
          "base_uri": "https://localhost:8080/"
        },
        "id": "oKQOHxkpj8Dn",
        "outputId": "d69ad2a5-c3d9-4c6f-feb9-e5e63cfd848b"
      },
      "execution_count": 127,
      "outputs": [
        {
          "output_type": "stream",
          "name": "stdout",
          "text": [
            "image shape: torch.Size([1, 28, 28])\n"
          ]
        }
      ]
    },
    {
      "cell_type": "markdown",
      "source": [
        "--> Pytorch expects the color channel in the last position/index."
      ],
      "metadata": {
        "id": "fJpGy0ag_Zrx"
      }
    },
    {
      "cell_type": "code",
      "source": [
        "plt.imshow(image.squeeze())"
      ],
      "metadata": {
        "colab": {
          "base_uri": "https://localhost:8080/",
          "height": 447
        },
        "id": "O8pi-m9Yk7ao",
        "outputId": "68e08d37-90bc-4937-8881-4e12ddea3157"
      },
      "execution_count": 129,
      "outputs": [
        {
          "output_type": "execute_result",
          "data": {
            "text/plain": [
              "<matplotlib.image.AxesImage at 0x796e9061e200>"
            ]
          },
          "metadata": {},
          "execution_count": 129
        },
        {
          "output_type": "display_data",
          "data": {
            "text/plain": [
              "<Figure size 640x480 with 1 Axes>"
            ],
            "image/png": "[encoded data removed]"
          },
          "metadata": {}
        }
      ]
    },
    {
      "cell_type": "code",
      "source": [
        "plt.imshow(image.squeeze() , cmap = 'Spectral')\n",
        "plt.title(class_names[label])\n",
        "plt.axis(True)"
      ],
      "metadata": {
        "colab": {
          "base_uri": "https://localhost:8080/",
          "height": 469
        },
        "id": "nGlxtHCnbIrV",
        "outputId": "5f39a1ba-2c3d-4f97-da32-cef4e837acb9"
      },
      "execution_count": 130,
      "outputs": [
        {
          "output_type": "execute_result",
          "data": {
            "text/plain": [
              "(-0.5, 27.5, 27.5, -0.5)"
            ]
          },
          "metadata": {},
          "execution_count": 130
        },
        {
          "output_type": "display_data",
          "data": {
            "text/plain": [
              "<Figure size 640x480 with 1 Axes>"
            ],
            "image/png": "[encoded data removed]"
          },
          "metadata": {}
        }
      ]
    },
    {
      "cell_type": "code",
      "source": [
        "#to plot more images\n",
        "#torch.manual_seed(42)\n",
        "fig = plt.figure(figsize=(9,9))\n",
        "rows , cols = 4, 4\n",
        "for i in range(1, rows*cols+1):\n",
        "  random_idx = torch.randint(0, len(train_data) , size=[1]).item() # The size=[1] argument specifies that a single random integer should be generated. .item() is used to extract the randomly generated integer value\n",
        "  print(random_idx)\n",
        "  img, label = train_data[random_idx]\n",
        "  fig.add_subplot(rows, cols, i)\n",
        "  plt.imshow(img.squeeze(), cmap=\"pink\")\n",
        "  plt.title(class_names[label])\n",
        "  plt.axis(False)"
      ],
      "metadata": {
        "colab": {
          "base_uri": "https://localhost:8080/",
          "height": 1000
        },
        "id": "pO6FZTiWbVWS",
        "outputId": "4d5ec604-c04d-4edf-d60e-a30e8de50ff5"
      },
      "execution_count": 131,
      "outputs": [
        {
          "output_type": "stream",
          "name": "stdout",
          "text": [
            "10026\n",
            "27335\n",
            "38620\n",
            "11924\n",
            "14950\n",
            "57113\n",
            "31378\n",
            "29014\n",
            "47210\n",
            "18954\n",
            "18231\n",
            "47572\n",
            "29315\n",
            "48295\n",
            "48567\n",
            "24706\n"
          ]
        },
        {
          "output_type": "display_data",
          "data": {
            "text/plain": [
              "<Figure size 900x900 with 16 Axes>"
            ],
            "image/png": "[encoded data removed]"
          },
          "metadata": {}
        }
      ]
    },
    {
      "cell_type": "markdown",
      "source": [
        "#do these items could be modelled with linear lines or non-linearity?\n"
      ],
      "metadata": {
        "id": "nm3Ns6vu_gtY"
      }
    },
    {
      "cell_type": "code",
      "source": [
        "train_data , test_data"
      ],
      "metadata": {
        "colab": {
          "base_uri": "https://localhost:8080/"
        },
        "id": "gfoSvctWYdKO",
        "outputId": "63527418-3076-46b5-da56-bac39d88d5e5"
      },
      "execution_count": 133,
      "outputs": [
        {
          "output_type": "execute_result",
          "data": {
            "text/plain": [
              "(Dataset FashionMNIST\n",
              "     Number of datapoints: 60000\n",
              "     Root location: data\n",
              "     Split: Train\n",
              "     StandardTransform\n",
              " Transform: ToTensor(),\n",
              " Dataset FashionMNIST\n",
              "     Number of datapoints: 10000\n",
              "     Root location: data\n",
              "     Split: Test\n",
              "     StandardTransform\n",
              " Transform: ToTensor())"
            ]
          },
          "metadata": {},
          "execution_count": 133
        }
      ]
    },
    {
      "cell_type": "markdown",
      "source": [
        "* right now the data is in the form of PyTorch datasets\n",
        "* dataloader turns our dataset into a python iterable.\n",
        "* more specifically, we want to turn our data into mini-batches\n",
        "\n",
        "\n",
        "#why do we need batches?\n",
        "--> because we want our model to look at all the 60,000 images and learn because its a small dataset in the domain of Deep Learning.\n",
        "\n",
        "\n"
      ],
      "metadata": {
        "id": "QIrrNbXh_jTf"
      }
    },
    {
      "cell_type": "markdown",
      "source": [
        "#reasons for making batches:-\n",
        "\n",
        "1. it is more computationally efficient, the computer might not be able to look at 60000 images in one hit.\n",
        "So, we break the data to 32 images at a time, called batch size.\n",
        "\n",
        "2. it gives our neural network more chances to update its gradient per epoch.\n",
        " this makes the NN update every 32 images instead of every 60,000 images.\n"
      ],
      "metadata": {
        "id": "rCZTnmQ-_ycg"
      }
    },
    {
      "cell_type": "markdown",
      "source": [
        "#prepare the dataloader\n"
      ],
      "metadata": {
        "id": "qHsuZP5y_7VT"
      }
    },
    {
      "cell_type": "code",
      "source": [
        "\n",
        "from torch.utils.data import DataLoader\n",
        "\n",
        "batch_size = 32 #setup the batch size hyperparameter\n",
        "\n",
        "train_dataloader = DataLoader(dataset=train_data,\n",
        "                              batch_size=batch_size,\n",
        "                              shuffle=True) #for randomness\n",
        "\n",
        "test_dataloader = DataLoader(dataset=test_data,\n",
        "                             batch_size=batch_size,\n",
        "                             shuffle=False)\n",
        "\n",
        "train_dataloader , test_dataloader"
      ],
      "metadata": {
        "colab": {
          "base_uri": "https://localhost:8080/"
        },
        "id": "1ZIPqxSgZthq",
        "outputId": "2c5a6a23-0554-4a14-fb7c-282c85b2851c"
      },
      "execution_count": 135,
      "outputs": [
        {
          "output_type": "execute_result",
          "data": {
            "text/plain": [
              "(<torch.utils.data.dataloader.DataLoader at 0x796e80957ac0>,\n",
              " <torch.utils.data.dataloader.DataLoader at 0x796e80954970>)"
            ]
          },
          "metadata": {},
          "execution_count": 135
        }
      ]
    },
    {
      "cell_type": "code",
      "source": [
        "#to check what we have created\n",
        "print(f'Dataloaders: {train_dataloader , test_dataloader}')\n",
        "print(f'Length of the training dataloader is: {len(train_dataloader)} with batches of {batch_size}')\n",
        "print(f'Length of the testing dataloader is: {len(test_dataloader)} with batches of {batch_size}')\n"
      ],
      "metadata": {
        "colab": {
          "base_uri": "https://localhost:8080/"
        },
        "id": "h9wHd5tSje9Q",
        "outputId": "dea359fc-7016-4343-dd3e-81d52dc7f98b"
      },
      "execution_count": 136,
      "outputs": [
        {
          "output_type": "stream",
          "name": "stdout",
          "text": [
            "Dataloaders: (<torch.utils.data.dataloader.DataLoader object at 0x796e80957ac0>, <torch.utils.data.dataloader.DataLoader object at 0x796e80954970>)\n",
            "Length of the training dataloader is: 1875 with batches of 32\n",
            "Length of the testing dataloader is: 313 with batches of 32\n"
          ]
        }
      ]
    },
    {
      "cell_type": "code",
      "source": [
        "train_features_batch , train_labels_batch = next(iter(train_dataloader))\n",
        "train_features_batch.shape , train_labels_batch.shape"
      ],
      "metadata": {
        "colab": {
          "base_uri": "https://localhost:8080/"
        },
        "id": "xfwBbm6LlMH5",
        "outputId": "c799ebe2-d84b-4540-e91a-d0b90c0f3d59"
      },
      "execution_count": 137,
      "outputs": [
        {
          "output_type": "execute_result",
          "data": {
            "text/plain": [
              "(torch.Size([32, 1, 28, 28]), torch.Size([32]))"
            ]
          },
          "metadata": {},
          "execution_count": 137
        }
      ]
    },
    {
      "cell_type": "markdown",
      "source": [
        "* the iter helps you to iterate over the batches and the next helps you to retrieve the next item from the iterator\n",
        "\n",
        "* we have tensor with 32 samples with dimensions and 32 labels associated with the 32 samples."
      ],
      "metadata": {
        "id": "8f6q2U4c_-XG"
      }
    },
    {
      "cell_type": "markdown",
      "source": [
        "#getting a random sample\n"
      ],
      "metadata": {
        "id": "LIQqCs7zAKTE"
      }
    },
    {
      "cell_type": "code",
      "source": [
        "#torch.manual_seed(42)\n",
        "random_idx = torch.randint(0, len(train_features_batch) , size=[1]).item()\n",
        "img, label = train_features_batch[random_idx], train_labels_batch[random_idx]\n",
        "plt.imshow(img.squeeze(), cmap=\"gray\")\n",
        "plt.title(class_names[label])\n",
        "plt.axis(False)\n",
        "print(f'image size: {img.shape}')\n",
        "print(f'label: {label} , label size: {label.shape}')"
      ],
      "metadata": {
        "colab": {
          "base_uri": "https://localhost:8080/",
          "height": 463
        },
        "id": "SiNg9WOqjxg_",
        "outputId": "c7f30b3f-efd5-4561-c5e3-b6f6ac7164ff"
      },
      "execution_count": 140,
      "outputs": [
        {
          "output_type": "stream",
          "name": "stdout",
          "text": [
            "image size: torch.Size([1, 28, 28])\n",
            "label: 4 , label size: torch.Size([])\n"
          ]
        },
        {
          "output_type": "display_data",
          "data": {
            "text/plain": [
              "<Figure size 640x480 with 1 Axes>"
            ],
            "image/png": "[encoded data removed]"
          },
          "metadata": {}
        }
      ]
    },
    {
      "cell_type": "markdown",
      "source": [
        "* so now, we have 1875 batches of 32 images each instead of 60,000 images\n"
      ],
      "metadata": {
        "id": "3h9BGl09AMeq"
      }
    },
    {
      "cell_type": "markdown",
      "source": [
        "#building a baseline model\n",
        "\n",
        "--> a baseline model is a simple model we try to improve with some experiments.\n",
        "\n",
        "\n",
        "--> or in simple terms, start and then add complexity when necessary"
      ],
      "metadata": {
        "id": "VN4Za4gMARo4"
      }
    },
    {
      "cell_type": "code",
      "source": [
        "#create a flatten layer -->a flatten layer is a type of layer that is used to reshape the input data into a one-dimensional array\n",
        "flatten_model = nn.Flatten()\n",
        "\n",
        "#get a single sample\n",
        "x = train_features_batch[0]\n",
        "x.shape\n",
        "\n",
        "#now lets flatten the sample\n",
        "output = flatten_model(x)\n",
        "\n",
        "print(f'shape before flattening: {x.shape}, it consisted of [color_channels, height, width]')\n",
        "print(f'shape after flattening: {output.shape}, it now consists of [color_channels, height*wodth]')"
      ],
      "metadata": {
        "colab": {
          "base_uri": "https://localhost:8080/"
        },
        "id": "aKMQ6MVbpk7n",
        "outputId": "b1afac7b-8fcc-4ae9-bfaa-57b8b93d3130"
      },
      "execution_count": 143,
      "outputs": [
        {
          "output_type": "stream",
          "name": "stdout",
          "text": [
            "shape before flattening: torch.Size([1, 28, 28]), it consisted of [color_channels, height, width]\n",
            "shape after flattening: torch.Size([1, 784]), it now consists of [color_channels, height*wodth]\n"
          ]
        }
      ]
    },
    {
      "cell_type": "markdown",
      "source": [
        "* Once the input data has been flattened, it can be passed as input to the fully connected layers of the neural network.\n",
        "\n",
        "*  we had done flattening because we want to use a linear layer as the baseline model.\n",
        "\n",
        "* the linear layer cannot handle multi-dimensional data like our images, so we wanted to have a single vector as our input  \n"
      ],
      "metadata": {
        "id": "7HVHDk8lAiRa"
      }
    },
    {
      "cell_type": "code",
      "source": [
        "from torch import nn\n",
        "class FashionMNISTModel(nn.Module):\n",
        "  def __init__(self,\n",
        "               input_shape: int,\n",
        "               hidden_units: int,\n",
        "               output_shape: int):\n",
        "    super().__init__()\n",
        "    self.layer_stack = nn.Sequential(\n",
        "        nn.Flatten(),\n",
        "        nn.Linear(in_features = input_shape,\n",
        "                  out_features = hidden_units),\n",
        "        nn.Linear(in_features = hidden_units,\n",
        "                  out_features = output_shape)\n",
        "    )\n",
        "\n",
        "  def forward(self,x):\n",
        "    return self.layer_stack(x)\n",
        "\n",
        "\n"
      ],
      "metadata": {
        "id": "svVxyk4urkFK"
      },
      "execution_count": 146,
      "outputs": []
    },
    {
      "cell_type": "code",
      "source": [
        "torch.manual_seed(42)\n",
        "\n",
        "model0 = FashionMNISTModel(\n",
        "    input_shape = 784,  #28*28\n",
        "    hidden_units = 10,\n",
        "    output_shape=len(class_names) #one for every class\n",
        ").to('cpu')\n",
        "\n",
        "model0"
      ],
      "metadata": {
        "colab": {
          "base_uri": "https://localhost:8080/"
        },
        "id": "WU2L3bbJssrB",
        "outputId": "d8f346e5-3090-4c25-8a79-9281f36665bd"
      },
      "execution_count": 147,
      "outputs": [
        {
          "output_type": "execute_result",
          "data": {
            "text/plain": [
              "FashionMNISTModel(\n",
              "  (layer_stack): Sequential(\n",
              "    (0): Flatten(start_dim=1, end_dim=-1)\n",
              "    (1): Linear(in_features=784, out_features=10, bias=True)\n",
              "    (2): Linear(in_features=10, out_features=10, bias=True)\n",
              "  )\n",
              ")"
            ]
          },
          "metadata": {},
          "execution_count": 147
        }
      ]
    },
    {
      "cell_type": "code",
      "source": [
        "trial = torch.rand([1,1,28,28])\n",
        "model0(trial)"
      ],
      "metadata": {
        "colab": {
          "base_uri": "https://localhost:8080/"
        },
        "id": "wXjFvjbbtRwP",
        "outputId": "53198f83-141a-49c4-8f04-0be8928ea631"
      },
      "execution_count": 148,
      "outputs": [
        {
          "output_type": "execute_result",
          "data": {
            "text/plain": [
              "tensor([[-0.0315,  0.3171,  0.0531, -0.2525,  0.5959,  0.2112,  0.3233,  0.2694,\n",
              "         -0.1004,  0.0157]], grad_fn=<AddmmBackward0>)"
            ]
          },
          "metadata": {},
          "execution_count": 148
        }
      ]
    },
    {
      "cell_type": "markdown",
      "source": [
        "--> if we remove the 0th layer from the layer i.e the Flatten layer we get the error in the trial saying mat1 and mat2 cannot be multiplied"
      ],
      "metadata": {
        "id": "Gx1gGloNAsQN"
      }
    },
    {
      "cell_type": "markdown",
      "source": [
        "#Metrics for the model:\n",
        "\n",
        "1. LOSS FN --> since we are working with multiclass data, loss fn will be 'CrossEntropyLoss()'\n",
        "2. OPTIMZER --> torch.optim.SGD\n",
        "3. EVALUATION METRIC --> accuracy\n",
        "'''"
      ],
      "metadata": {
        "id": "d4bHGGG4AzZn"
      }
    },
    {
      "cell_type": "markdown",
      "source": [
        "#importing helper functions\n"
      ],
      "metadata": {
        "id": "pEvfUA6hA_Ep"
      }
    },
    {
      "cell_type": "code",
      "source": [
        "import requests\n",
        "from pathlib import Path\n",
        "\n",
        "if Path('helper_functions.py').is_file():\n",
        "  print('helper function already exists, skipping download...')\n",
        "else:\n",
        "  print('Downloading the helper_functions.py')\n",
        "  request = requests.get('https://raw.githubusercontent.com/mrdbourke/pytorch-deep-learning/main/helper_functions.py')\n",
        "  with open('helper_functions.py','wb') as f:\n",
        "    f.write(request.content)"
      ],
      "metadata": {
        "colab": {
          "base_uri": "https://localhost:8080/"
        },
        "id": "xHNof2YwwAHZ",
        "outputId": "907c822f-fd89-4252-dfea-84cd247e84d4"
      },
      "execution_count": 151,
      "outputs": [
        {
          "output_type": "stream",
          "name": "stdout",
          "text": [
            "helper function already exists, skipping download...\n"
          ]
        }
      ]
    },
    {
      "cell_type": "code",
      "source": [
        "#import the accuracy metric from the file\n",
        "from helper_functions import accuracy_fn\n",
        "\n",
        "#set up the loss function and optimizer\n",
        "loss_fn = nn.CrossEntropyLoss()\n",
        "optimizer = torch.optim.SGD(params = model0.parameters(),\n",
        "                            lr=0.1)"
      ],
      "metadata": {
        "id": "v_UYZA1QwADl"
      },
      "execution_count": 152,
      "outputs": []
    },
    {
      "cell_type": "code",
      "source": [
        "'''def accuracy_fn(y_true, y_pred):\n",
        "  correct = torch.eq(y_true, y_pred).sum().item()\n",
        "  acc = (correct/len(y_pred)) * 100\n",
        "  return acc'''"
      ],
      "metadata": {
        "id": "hffjzEvGveTI"
      },
      "execution_count": null,
      "outputs": []
    },
    {
      "cell_type": "code",
      "source": [
        "'''import numpy as np\n",
        "def plot_decision_boundary(model: torch.nn.Module, X: torch.Tensor, y: torch.Tensor):\n",
        "\n",
        "    # Put everything to CPU (works better with NumPy + Matplotlib)\n",
        "    model.to(\"cpu\")\n",
        "    X, y = X.to(\"cpu\"), y.to(\"cpu\")\n",
        "\n",
        "    # Setup prediction boundaries and grid\n",
        "    x_min, x_max = X[:, 0].min() - 0.1, X[:, 0].max() + 0.1\n",
        "    y_min, y_max = X[:, 1].min() - 0.1, X[:, 1].max() + 0.1\n",
        "    xx, yy = np.meshgrid(np.linspace(x_min, x_max, 101), np.linspace(y_min, y_max, 101))\n",
        "\n",
        "    # Make features\n",
        "    X_to_pred_on = torch.from_numpy(np.column_stack((xx.ravel(), yy.ravel()))).float()\n",
        "\n",
        "    # Make predictions\n",
        "    model.eval()\n",
        "    with torch.inference_mode():\n",
        "        y_logits = model(X_to_pred_on)\n",
        "\n",
        "    # Test for multi-class or binary and adjust logits to prediction labels\n",
        "    if len(torch.unique(y)) > 2:\n",
        "        y_pred = torch.softmax(y_logits, dim=1).argmax(dim=1)  # mutli-class\n",
        "    else:\n",
        "        y_pred = torch.round(torch.sigmoid(y_logits))  # binary\n",
        "\n",
        "\n",
        "    # Reshape preds and plot\n",
        "    y_pred = y_pred.reshape(xx.shape).detach().numpy()\n",
        "    plt.contourf(xx, yy, y_pred, cmap=plt.cm.RdYlBu, alpha=0.7)\n",
        "    plt.scatter(X[:, 0], X[:, 1], c=y, s=40, cmap=plt.cm.RdYlBu)\n",
        "    plt.xlim(xx.min(), xx.max())\n",
        "    plt.ylim(yy.min(), yy.max())'''"
      ],
      "metadata": {
        "id": "yoVpczYIveEG"
      },
      "execution_count": null,
      "outputs": []
    },
    {
      "cell_type": "markdown",
      "source": [
        "#creating a function to time our experiments\n",
        "\n",
        "two main things we want to track:\n",
        "\n",
        "1. models performance(loss and acc)\n",
        "2. how fast it runs\n",
        "\n"
      ],
      "metadata": {
        "id": "zMngVp_sBFBi"
      }
    },
    {
      "cell_type": "code",
      "source": [
        "from timeit import default_timer as timer\n",
        "\n",
        "def print_train_time(start: float,\n",
        "                     end:float,\n",
        "                     device: torch.device = None):\n",
        "  #prints the diff b/w start and stop time\n",
        "  total_time = end - start\n",
        "  print(f'train time on {device}: {total_time:.3f} seconds')\n",
        "  return total_time"
      ],
      "metadata": {
        "id": "t-4rf2TLyxsV"
      },
      "execution_count": 156,
      "outputs": []
    },
    {
      "cell_type": "code",
      "source": [
        "start_time = timer()\n",
        "\n",
        "end_time = timer()\n",
        "print_train_time(start=start_time , end=end_time, device='cpu')"
      ],
      "metadata": {
        "colab": {
          "base_uri": "https://localhost:8080/"
        },
        "id": "1hLz85LGzaEC",
        "outputId": "b56db0e5-e113-4f6b-945a-6998273a3285"
      },
      "execution_count": 157,
      "outputs": [
        {
          "output_type": "stream",
          "name": "stdout",
          "text": [
            "train time on cpu: 0.000 seconds\n"
          ]
        },
        {
          "output_type": "execute_result",
          "data": {
            "text/plain": [
              "5.806999979540706e-05"
            ]
          },
          "metadata": {},
          "execution_count": 157
        }
      ]
    },
    {
      "cell_type": "markdown",
      "source": [
        "#training loop\n",
        "\n",
        "\n",
        "1. loop through epochs\n",
        "2. loop through training batches,  perform training steps, calculate the loss per batch.\n",
        "3. loop through testing batches, perform testing steps, calculate the test loss per batch.\n",
        "4. print out everything\n",
        "5. time it all\n"
      ],
      "metadata": {
        "id": "jxRLDkqTBKSs"
      }
    },
    {
      "cell_type": "code",
      "source": [
        "#import tqdm for progress bar\n",
        "from tqdm.auto import tqdm\n",
        "\n",
        "#set the seed and start the timer\n",
        "torch.manual_seed(42)\n",
        "train_time_start_on_cpu = timer()\n",
        "\n",
        "#set the number of epochs\n",
        "epochs = 3\n",
        "\n",
        "#create a training and testing loop\n",
        "for epoch in tqdm(range(epochs)):\n",
        "  print(f'epoch: {epoch}\\n------')\n",
        "\n",
        "  ####training\n",
        "  train_loss = 0 #cumulating values\n",
        "  #add a loop to loop through training batches\n",
        "  for batch, (x,y) in enumerate(train_dataloader): #x is the image and y is the label\n",
        "    model0.train()\n",
        "    #1. forward pass\n",
        "    y_pred = model0(x)\n",
        "\n",
        "    #2. calculate the loss (per batch)\n",
        "    loss = loss_fn(y_pred , y)\n",
        "    train_loss+= loss #to add loss of every batch\n",
        "\n",
        "    #3. optimizer zero grad\n",
        "    optimizer.zero_grad()\n",
        "\n",
        "    #4. loss backward\n",
        "    loss.backward()\n",
        "\n",
        "    #5. optimizer step\n",
        "    optimizer.step()\n",
        "\n",
        "    if batch%400 == 0:\n",
        "       print(f'looked at {batch * len(x)}/{len(train_dataloader.dataset)} samples.')\n",
        "\n",
        "  #divide total train loss by length of the train dataloader\n",
        "  train_loss /= len(train_dataloader)\n",
        "\n",
        "\n",
        "  ###testing\n",
        "  test_loss , test_acc = 0,0\n",
        "  model0.eval()\n",
        "  with torch.inference_mode():\n",
        "    for x_test,y_test in test_dataloader:\n",
        "\n",
        "      #1. forward pass\n",
        "      test_pred = model0(x_test)\n",
        "\n",
        "      #2. calculate the loss\n",
        "      test_loss+= loss_fn(test_pred , y_test)\n",
        "\n",
        "      #3. calculate the accuracy\n",
        "      test_acc+= accuracy_fn(y_true= y_test, y_pred = test_pred.argmax(dim=1))\n",
        "\n",
        "    #calculate the test loss average per batch\n",
        "    test_loss /= len(test_dataloader)\n",
        "\n",
        "    #calculate the test acc average per batch\n",
        "    test_acc/=len(test_dataloader)\n",
        "\n",
        "  #print out everything\n",
        "  print(f'\\ntrain loss: {train_loss:.4f} | test loss:{test_loss:.4f} | test acc : {test_acc:.4f}%')\n",
        "\n",
        "#calculate the training time\n",
        "train_time_end_on_cpu = timer()\n",
        "total_train_time_model0 = print_train_time(start = train_time_start_on_cpu,\n",
        "                                           end = train_time_end_on_cpu,\n",
        "                                           device = str(next(model0.parameters()).device))"
      ],
      "metadata": {
        "colab": {
          "base_uri": "https://localhost:8080/",
          "height": 535,
          "referenced_widgets": [
            "40067cae7c1f46a8af838567f8f18f0a",
            "48bfcac969b84b72ae3ab3ff0153f77a",
            "cd925e1269274320a6e5f95b093d164c",
            "11abbb0f4c7a400ca9dc072da69f9e24",
            "2fd5d536e78f4070adc38f3162c9ab46",
            "5b1017a0ecc541f4860394d43bc0853c",
            "fd4e162b71c54e9a981404fc145ed455",
            "3111090190dd46cda601950b76a23f59",
            "2ed6c80d5a934ffba1c463102b6d4750",
            "4f2fde2b9d264149a55d62b7d248d08b",
            "850f495cd833409f813238bfb1d4cacc"
          ]
        },
        "id": "bGhYLUZ_1y6O",
        "outputId": "545effbb-1c95-471b-ed0e-c6114608a80a"
      },
      "execution_count": 159,
      "outputs": [
        {
          "output_type": "display_data",
          "data": {
            "text/plain": [
              "  0%|          | 0/3 [00:00<?, ?it/s]"
            ],
            "application/vnd.jupyter.widget-view+json": {
              "version_major": 2,
              "version_minor": 0,
              "model_id": "40067cae7c1f46a8af838567f8f18f0a"
            }
          },
          "metadata": {}
        },
        {
          "output_type": "stream",
          "name": "stdout",
          "text": [
            "epoch: 0\n",
            "------\n",
            "looked at 0/60000 samples.\n",
            "looked at 12800/60000 samples.\n",
            "looked at 25600/60000 samples.\n",
            "looked at 38400/60000 samples.\n",
            "looked at 51200/60000 samples.\n",
            "\n",
            "train loss: 0.5904 | test loss:0.5095 | test acc : 82.0387%\n",
            "epoch: 1\n",
            "------\n",
            "looked at 0/60000 samples.\n",
            "looked at 12800/60000 samples.\n",
            "looked at 25600/60000 samples.\n",
            "looked at 38400/60000 samples.\n",
            "looked at 51200/60000 samples.\n",
            "\n",
            "train loss: 0.4763 | test loss:0.4799 | test acc : 83.1969%\n",
            "epoch: 2\n",
            "------\n",
            "looked at 0/60000 samples.\n",
            "looked at 12800/60000 samples.\n",
            "looked at 25600/60000 samples.\n",
            "looked at 38400/60000 samples.\n",
            "looked at 51200/60000 samples.\n",
            "\n",
            "train loss: 0.4550 | test loss:0.4766 | test acc : 83.4265%\n",
            "train time on cpu: 32.266 seconds\n"
          ]
        }
      ]
    },
    {
      "cell_type": "markdown",
      "source": [
        "#making predictions and getting model results\n"
      ],
      "metadata": {
        "id": "4MlB_tJ9BPfT"
      }
    },
    {
      "cell_type": "code",
      "source": [
        "torch.manual_seed(42)\n",
        "def eval_model(model: torch.nn.Module,\n",
        "               data_loader: torch.utils.data.DataLoader,\n",
        "               loss_fn: torch.nn.Module,\n",
        "               accuracy_fn):\n",
        "  #returns a dict containing the results of the model predictions on data_loader\n",
        "  loss ,  acc = 0 , 0\n",
        "  model.eval()\n",
        "  with torch.inference_mode():\n",
        "    for x,y in tqdm(data_loader):\n",
        "      y_pred = model(x)  #predictions\n",
        "\n",
        "      loss += loss_fn(y_pred , y)\n",
        "      acc+= accuracy_fn(y_true=y,\n",
        "                        y_pred=y_pred.argmax(dim=1))\n",
        "\n",
        "    #scale loss and acc to find the average loss and acc per batch\n",
        "    loss/= len(data_loader)\n",
        "    acc/= len(data_loader)\n",
        "\n",
        "  return {'model_name:' : model.__class__.__name__,\n",
        "          'model_loss:' : loss.item(),\n",
        "          'model_acc:' : acc}\n",
        "\n",
        "#calculate results\n",
        "model0_results = eval_model(model=model0,\n",
        "                            data_loader=test_dataloader,\n",
        "                            loss_fn=loss_fn,\n",
        "                            accuracy_fn=accuracy_fn)\n",
        "model0_results\n",
        "\n",
        ""
      ],
      "metadata": {
        "colab": {
          "base_uri": "https://localhost:8080/",
          "height": 101,
          "referenced_widgets": [
            "1b932f34bc154fea959e06a13de00c47",
            "80b6ad4f4ffa405ea7cc64efdb0b4718",
            "f33209e149be44fc8fa0e7f81b4f1f79",
            "5f12739436aa4b949ecde266329bd45c",
            "0aa213bae5a748edbfe4c4b563098075",
            "d51f7e1fee8a430486278171513bbce2",
            "f45209350f71454fab2cfeff8e4683b8",
            "869992f3a22c4eb3bc476dbd1598ade1",
            "d47ddc987ba64461a565b1d086510292",
            "b7206f6a6abc4923bd7aa64a015ed9b6",
            "6c9dbb6d61ea46ad8bb494e9ede950e2"
          ]
        },
        "id": "SMyOBY8s7b2d",
        "outputId": "7bfb7f75-dc9a-45c0-f6e3-c49f3149bc5f"
      },
      "execution_count": 160,
      "outputs": [
        {
          "output_type": "display_data",
          "data": {
            "text/plain": [
              "  0%|          | 0/313 [00:00<?, ?it/s]"
            ],
            "application/vnd.jupyter.widget-view+json": {
              "version_major": 2,
              "version_minor": 0,
              "model_id": "1b932f34bc154fea959e06a13de00c47"
            }
          },
          "metadata": {}
        },
        {
          "output_type": "execute_result",
          "data": {
            "text/plain": [
              "{'model_name:': 'FashionMNISTModel',\n",
              " 'model_loss:': 0.47663894295692444,\n",
              " 'model_acc:': 83.42651757188499}"
            ]
          },
          "metadata": {},
          "execution_count": 160
        }
      ]
    },
    {
      "cell_type": "code",
      "source": [],
      "metadata": {
        "id": "dmIIrvKk-K2T"
      },
      "execution_count": 160,
      "outputs": []
    }
  ]
}