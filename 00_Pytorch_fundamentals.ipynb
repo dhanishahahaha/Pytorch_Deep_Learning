{
  "nbformat": 4,
  "nbformat_minor": 0,
  "metadata": {
    "colab": {
      "provenance": []
    },
    "kernelspec": {
      "name": "python3",
      "display_name": "Python 3"
    },
    "language_info": {
      "name": "python"
    }
  },
  "cells": [
    {
      "cell_type": "code",
      "execution_count": null,
      "metadata": {
        "id": "lkaUlDBsUTD8",
        "colab": {
          "base_uri": "https://localhost:8080/"
        },
        "outputId": "be3bac80-8064-4316-c791-c4b958e42989"
      },
      "outputs": [
        {
          "output_type": "stream",
          "name": "stdout",
          "text": [
            "Mon Mar 18 18:53:58 2024       \n",
            "+---------------------------------------------------------------------------------------+\n",
            "| NVIDIA-SMI 535.104.05             Driver Version: 535.104.05   CUDA Version: 12.2     |\n",
            "|-----------------------------------------+----------------------+----------------------+\n",
            "| GPU  Name                 Persistence-M | Bus-Id        Disp.A | Volatile Uncorr. ECC |\n",
            "| Fan  Temp   Perf          Pwr:Usage/Cap |         Memory-Usage | GPU-Util  Compute M. |\n",
            "|                                         |                      |               MIG M. |\n",
            "|=========================================+======================+======================|\n",
            "|   0  Tesla T4                       Off | 00000000:00:04.0 Off |                    0 |\n",
            "| N/A   48C    P8              10W /  70W |      0MiB / 15360MiB |      0%      Default |\n",
            "|                                         |                      |                  N/A |\n",
            "+-----------------------------------------+----------------------+----------------------+\n",
            "                                                                                         \n",
            "+---------------------------------------------------------------------------------------+\n",
            "| Processes:                                                                            |\n",
            "|  GPU   GI   CI        PID   Type   Process name                            GPU Memory |\n",
            "|        ID   ID                                                             Usage      |\n",
            "|=======================================================================================|\n",
            "|  No running processes found                                                           |\n",
            "+---------------------------------------------------------------------------------------+\n"
          ]
        }
      ],
      "source": [
        "#testing for the gpu\n",
        "\n",
        "!nvidia-smi"
      ]
    },
    {
      "cell_type": "markdown",
      "source": [
        "#00_pytorch_fundamentals    \n",
        " https://www.learnpytorch.io/00_pytorch_fundamentals/"
      ],
      "metadata": {
        "id": "E4twm8Es7FME"
      }
    },
    {
      "cell_type": "code",
      "source": [
        "import torch\n",
        "import numpy as np\n",
        "import pandas as pd\n",
        "import matplotlib.pyplot as plt\n",
        "print(torch.__version__)"
      ],
      "metadata": {
        "colab": {
          "base_uri": "https://localhost:8080/"
        },
        "id": "dBX6Z0hd7HuD",
        "outputId": "3664c64d-b89b-4b20-a1f3-af482b9c36d5"
      },
      "execution_count": null,
      "outputs": [
        {
          "output_type": "stream",
          "name": "stdout",
          "text": [
            "2.2.1+cu121\n"
          ]
        }
      ]
    },
    {
      "cell_type": "markdown",
      "source": [
        "#introduction to tensors"
      ],
      "metadata": {
        "id": "lDGYKkBu6s9C"
      }
    },
    {
      "cell_type": "code",
      "source": [
        "##creating tensors\n",
        "\n",
        "#scalar\n",
        "scalar = torch.tensor(7)\n",
        "scalar\n"
      ],
      "metadata": {
        "colab": {
          "base_uri": "https://localhost:8080/"
        },
        "id": "aIKj7CiX7Lqo",
        "outputId": "aafe2173-bf5c-45b5-c2a3-efde1c76f81d"
      },
      "execution_count": null,
      "outputs": [
        {
          "output_type": "execute_result",
          "data": {
            "text/plain": [
              "tensor(7)"
            ]
          },
          "metadata": {},
          "execution_count": 2
        }
      ]
    },
    {
      "cell_type": "code",
      "source": [
        "scalar.ndim"
      ],
      "metadata": {
        "colab": {
          "base_uri": "https://localhost:8080/"
        },
        "id": "3CWsLhzV6vcv",
        "outputId": "eb147af6-f3ef-437a-b662-2636ca49c346"
      },
      "execution_count": null,
      "outputs": [
        {
          "output_type": "execute_result",
          "data": {
            "text/plain": [
              "0"
            ]
          },
          "metadata": {},
          "execution_count": 3
        }
      ]
    },
    {
      "cell_type": "code",
      "source": [
        "#getting tensor back as a python int\n",
        "scalar.item()"
      ],
      "metadata": {
        "colab": {
          "base_uri": "https://localhost:8080/"
        },
        "id": "Zu0eYm6o9lHx",
        "outputId": "96da1ed2-40e3-4a71-ba6b-cdbd4869a046"
      },
      "execution_count": null,
      "outputs": [
        {
          "output_type": "execute_result",
          "data": {
            "text/plain": [
              "7"
            ]
          },
          "metadata": {},
          "execution_count": 4
        }
      ]
    },
    {
      "cell_type": "code",
      "source": [
        "#vector\n",
        "vector = torch.tensor([7,7])\n",
        "vector"
      ],
      "metadata": {
        "colab": {
          "base_uri": "https://localhost:8080/"
        },
        "id": "0OTp5HWO9nSW",
        "outputId": "4d59a851-53ad-4365-fc60-9da7940817f6"
      },
      "execution_count": null,
      "outputs": [
        {
          "output_type": "execute_result",
          "data": {
            "text/plain": [
              "tensor([7, 7])"
            ]
          },
          "metadata": {},
          "execution_count": 5
        }
      ]
    },
    {
      "cell_type": "code",
      "source": [
        "vector.ndim"
      ],
      "metadata": {
        "colab": {
          "base_uri": "https://localhost:8080/"
        },
        "id": "FKSTKh8--Enn",
        "outputId": "fbd13e45-a52f-4b88-d59a-b837eb5ec026"
      },
      "execution_count": null,
      "outputs": [
        {
          "output_type": "execute_result",
          "data": {
            "text/plain": [
              "1"
            ]
          },
          "metadata": {},
          "execution_count": 6
        }
      ]
    },
    {
      "cell_type": "code",
      "source": [
        "vector.shape"
      ],
      "metadata": {
        "colab": {
          "base_uri": "https://localhost:8080/"
        },
        "id": "yk_G4BFE-LID",
        "outputId": "de798634-a2e4-4c45-b7bc-bd26cc92eaf1"
      },
      "execution_count": null,
      "outputs": [
        {
          "output_type": "execute_result",
          "data": {
            "text/plain": [
              "torch.Size([2])"
            ]
          },
          "metadata": {},
          "execution_count": 7
        }
      ]
    },
    {
      "cell_type": "code",
      "source": [
        "#matrix\n",
        "\n",
        "matrix = torch.tensor([[7,8],\n",
        "                       [9,10]])\n",
        "matrix"
      ],
      "metadata": {
        "colab": {
          "base_uri": "https://localhost:8080/"
        },
        "id": "iYBFLxrZ-M0N",
        "outputId": "75d697a4-b94f-4472-ab60-f4a3f6151ebe"
      },
      "execution_count": null,
      "outputs": [
        {
          "output_type": "execute_result",
          "data": {
            "text/plain": [
              "tensor([[ 7,  8],\n",
              "        [ 9, 10]])"
            ]
          },
          "metadata": {},
          "execution_count": 8
        }
      ]
    },
    {
      "cell_type": "code",
      "source": [
        "matrix.ndim"
      ],
      "metadata": {
        "colab": {
          "base_uri": "https://localhost:8080/"
        },
        "id": "wGgQ41Ge-qav",
        "outputId": "4a3f8daa-7b7a-4368-cce1-9b100f4ef2aa"
      },
      "execution_count": null,
      "outputs": [
        {
          "output_type": "execute_result",
          "data": {
            "text/plain": [
              "2"
            ]
          },
          "metadata": {},
          "execution_count": 9
        }
      ]
    },
    {
      "cell_type": "code",
      "source": [
        "matrix[0]"
      ],
      "metadata": {
        "colab": {
          "base_uri": "https://localhost:8080/"
        },
        "id": "XWYsoUg3-tZ-",
        "outputId": "f804ee61-330b-475d-90ac-7db6672b644d"
      },
      "execution_count": null,
      "outputs": [
        {
          "output_type": "execute_result",
          "data": {
            "text/plain": [
              "tensor([7, 8])"
            ]
          },
          "metadata": {},
          "execution_count": 10
        }
      ]
    },
    {
      "cell_type": "code",
      "source": [
        "matrix[1]"
      ],
      "metadata": {
        "colab": {
          "base_uri": "https://localhost:8080/"
        },
        "id": "TigKs1Z9-v5j",
        "outputId": "8058c11c-c787-49b7-d320-9ca795f8485c"
      },
      "execution_count": null,
      "outputs": [
        {
          "output_type": "execute_result",
          "data": {
            "text/plain": [
              "tensor([ 9, 10])"
            ]
          },
          "metadata": {},
          "execution_count": 11
        }
      ]
    },
    {
      "cell_type": "code",
      "source": [
        "matrix.shape"
      ],
      "metadata": {
        "colab": {
          "base_uri": "https://localhost:8080/"
        },
        "id": "Cqhf__nP-y8d",
        "outputId": "53339778-48f3-41e0-83cd-03f320a67a1a"
      },
      "execution_count": null,
      "outputs": [
        {
          "output_type": "execute_result",
          "data": {
            "text/plain": [
              "torch.Size([2, 2])"
            ]
          },
          "metadata": {},
          "execution_count": 12
        }
      ]
    },
    {
      "cell_type": "code",
      "source": [
        "# tensor\n",
        "\n",
        "tensor = torch.tensor([[[1,2,4],\n",
        "                        [3,6,9],\n",
        "                        [9,8,7]]])\n",
        "tensor"
      ],
      "metadata": {
        "colab": {
          "base_uri": "https://localhost:8080/"
        },
        "id": "haR3oRKJ-0XG",
        "outputId": "b75ac24e-51eb-4fec-c141-243634bec96f"
      },
      "execution_count": null,
      "outputs": [
        {
          "output_type": "execute_result",
          "data": {
            "text/plain": [
              "tensor([[[1, 2, 4],\n",
              "         [3, 6, 9],\n",
              "         [9, 8, 7]]])"
            ]
          },
          "metadata": {},
          "execution_count": 13
        }
      ]
    },
    {
      "cell_type": "code",
      "source": [
        "tensor.ndim"
      ],
      "metadata": {
        "colab": {
          "base_uri": "https://localhost:8080/"
        },
        "id": "nLBpsnSm_JEX",
        "outputId": "31800f32-b650-4652-847f-fa604fd5bed0"
      },
      "execution_count": null,
      "outputs": [
        {
          "output_type": "execute_result",
          "data": {
            "text/plain": [
              "3"
            ]
          },
          "metadata": {},
          "execution_count": 14
        }
      ]
    },
    {
      "cell_type": "code",
      "source": [
        "tensor.shape"
      ],
      "metadata": {
        "colab": {
          "base_uri": "https://localhost:8080/"
        },
        "id": "ih2YM2J8_RJd",
        "outputId": "d2d26987-c494-4c57-8738-94a8da22274b"
      },
      "execution_count": null,
      "outputs": [
        {
          "output_type": "execute_result",
          "data": {
            "text/plain": [
              "torch.Size([1, 3, 3])"
            ]
          },
          "metadata": {},
          "execution_count": 15
        }
      ]
    },
    {
      "cell_type": "code",
      "source": [
        "tensor[0]"
      ],
      "metadata": {
        "colab": {
          "base_uri": "https://localhost:8080/"
        },
        "id": "0H36keeB_Tm2",
        "outputId": "6ed19e25-6744-49af-e5d8-ec5f1cef54a8"
      },
      "execution_count": null,
      "outputs": [
        {
          "output_type": "execute_result",
          "data": {
            "text/plain": [
              "tensor([[1, 2, 4],\n",
              "        [3, 6, 9],\n",
              "        [9, 8, 7]])"
            ]
          },
          "metadata": {},
          "execution_count": 16
        }
      ]
    },
    {
      "cell_type": "code",
      "source": [
        "hd = torch.tensor([[[[1,2,3,4],\n",
        "                     [4,7,8,9]]]])\n",
        "hd"
      ],
      "metadata": {
        "colab": {
          "base_uri": "https://localhost:8080/"
        },
        "id": "aZwImwax_lTF",
        "outputId": "26649979-56ee-4105-bfc3-7fd9a79f3f69"
      },
      "execution_count": null,
      "outputs": [
        {
          "output_type": "execute_result",
          "data": {
            "text/plain": [
              "tensor([[[[1, 2, 3, 4],\n",
              "          [4, 7, 8, 9]]]])"
            ]
          },
          "metadata": {},
          "execution_count": 17
        }
      ]
    },
    {
      "cell_type": "code",
      "source": [
        "hd.shape"
      ],
      "metadata": {
        "colab": {
          "base_uri": "https://localhost:8080/"
        },
        "id": "5CTYQSdVAGBK",
        "outputId": "7ac4677b-9cca-461e-8fb9-27acb200f8a0"
      },
      "execution_count": null,
      "outputs": [
        {
          "output_type": "execute_result",
          "data": {
            "text/plain": [
              "torch.Size([1, 1, 2, 4])"
            ]
          },
          "metadata": {},
          "execution_count": 18
        }
      ]
    },
    {
      "cell_type": "code",
      "source": [
        "hd[0][0][1][2]"
      ],
      "metadata": {
        "colab": {
          "base_uri": "https://localhost:8080/"
        },
        "id": "r5najv10AH30",
        "outputId": "d5834caf-6a48-401a-9d7b-f62b33ae09e8"
      },
      "execution_count": null,
      "outputs": [
        {
          "output_type": "execute_result",
          "data": {
            "text/plain": [
              "tensor(8)"
            ]
          },
          "metadata": {},
          "execution_count": 19
        }
      ]
    },
    {
      "cell_type": "markdown",
      "source": [
        "#random tensors\n",
        "\n",
        "they are important because the way many neural networks learn is that they start with tensors full of random numbers and then they adjust those random numbers to better represent the data."
      ],
      "metadata": {
        "id": "V8lLo02F61Ka"
      }
    },
    {
      "cell_type": "code",
      "source": [
        "#create a random tensor\n",
        "random_tensor = torch.rand(1,3,4)\n",
        "random_tensor"
      ],
      "metadata": {
        "colab": {
          "base_uri": "https://localhost:8080/"
        },
        "id": "NO1BaZZRCDD4",
        "outputId": "af78a694-6b5b-4952-8051-19f88cd26b51"
      },
      "execution_count": null,
      "outputs": [
        {
          "output_type": "execute_result",
          "data": {
            "text/plain": [
              "tensor([[[0.3973, 0.3614, 0.6026, 0.0274],\n",
              "         [0.9869, 0.4242, 0.9629, 0.4333],\n",
              "         [0.0825, 0.5632, 0.1844, 0.2328]]])"
            ]
          },
          "metadata": {},
          "execution_count": 21
        }
      ]
    },
    {
      "cell_type": "code",
      "source": [
        "random_tensor.ndim"
      ],
      "metadata": {
        "colab": {
          "base_uri": "https://localhost:8080/"
        },
        "id": "Gr0pMbOkCUXJ",
        "outputId": "486e76ff-63f8-4ea8-d348-a6b2a5af7598"
      },
      "execution_count": null,
      "outputs": [
        {
          "output_type": "execute_result",
          "data": {
            "text/plain": [
              "3"
            ]
          },
          "metadata": {},
          "execution_count": 22
        }
      ]
    },
    {
      "cell_type": "code",
      "source": [
        "#create a random tensor with similar shape to an image tensor\n",
        "random_image_size_tensor = torch.rand(size=(224,224,3))\n",
        "random_image_size_tensor"
      ],
      "metadata": {
        "colab": {
          "base_uri": "https://localhost:8080/"
        },
        "id": "eSsMrmBrCeLk",
        "outputId": "157643c4-e5ef-407c-e005-be765bede925"
      },
      "execution_count": null,
      "outputs": [
        {
          "output_type": "execute_result",
          "data": {
            "text/plain": [
              "tensor([[[0.1053, 0.8663, 0.2276],\n",
              "         [0.5117, 0.2319, 0.8874],\n",
              "         [0.7008, 0.6536, 0.0634],\n",
              "         ...,\n",
              "         [0.9558, 0.4984, 0.4366],\n",
              "         [0.3639, 0.3639, 0.2315],\n",
              "         [0.6604, 0.0771, 0.5981]],\n",
              "\n",
              "        [[0.6829, 0.0915, 0.5569],\n",
              "         [0.9753, 0.3653, 0.6067],\n",
              "         [0.5815, 0.1859, 0.7187],\n",
              "         ...,\n",
              "         [0.5778, 0.5173, 0.4112],\n",
              "         [0.1893, 0.3990, 0.0372],\n",
              "         [0.2197, 0.5893, 0.8704]],\n",
              "\n",
              "        [[0.8000, 0.6596, 0.3064],\n",
              "         [0.5695, 0.5281, 0.7335],\n",
              "         [0.3459, 0.0872, 0.9582],\n",
              "         ...,\n",
              "         [0.0919, 0.7347, 0.1861],\n",
              "         [0.0072, 0.6967, 0.5392],\n",
              "         [0.0620, 0.2727, 0.8347]],\n",
              "\n",
              "        ...,\n",
              "\n",
              "        [[0.4328, 0.8753, 0.6707],\n",
              "         [0.4607, 0.9658, 0.3621],\n",
              "         [0.3264, 0.1299, 0.1430],\n",
              "         ...,\n",
              "         [0.3894, 0.3714, 0.7968],\n",
              "         [0.2496, 0.9353, 0.9793],\n",
              "         [0.1442, 0.4560, 0.4445]],\n",
              "\n",
              "        [[0.7231, 0.8474, 0.7571],\n",
              "         [0.8493, 0.0367, 0.6024],\n",
              "         [0.7908, 0.2768, 0.7327],\n",
              "         ...,\n",
              "         [0.9947, 0.5950, 0.8418],\n",
              "         [0.6910, 0.2007, 0.6703],\n",
              "         [0.9100, 0.0552, 0.6850]],\n",
              "\n",
              "        [[0.3757, 0.3256, 0.8997],\n",
              "         [0.1671, 0.6544, 0.1203],\n",
              "         [0.5522, 0.7939, 0.6766],\n",
              "         ...,\n",
              "         [0.4066, 0.1321, 0.5470],\n",
              "         [0.6801, 0.6397, 0.5475],\n",
              "         [0.0148, 0.1270, 0.3637]]])"
            ]
          },
          "metadata": {},
          "execution_count": 23
        }
      ]
    },
    {
      "cell_type": "code",
      "source": [
        "random_image_size_tensor.shape , random_image_size_tensor.ndim"
      ],
      "metadata": {
        "colab": {
          "base_uri": "https://localhost:8080/"
        },
        "id": "chWH0b6GDQgY",
        "outputId": "bfaf7b80-dc59-4b6b-c9d2-ac85cd231928"
      },
      "execution_count": null,
      "outputs": [
        {
          "output_type": "execute_result",
          "data": {
            "text/plain": [
              "(torch.Size([224, 224, 3]), 3)"
            ]
          },
          "metadata": {},
          "execution_count": 24
        }
      ]
    },
    {
      "cell_type": "code",
      "source": [
        "#create a tensor of all zeros\n",
        "zeros = torch.zeros(size=(3,4))\n",
        "zeros"
      ],
      "metadata": {
        "colab": {
          "base_uri": "https://localhost:8080/"
        },
        "id": "KN3_n4FFDnC0",
        "outputId": "fae3419d-d1c8-45cc-e00a-cd2c381791a4"
      },
      "execution_count": null,
      "outputs": [
        {
          "output_type": "execute_result",
          "data": {
            "text/plain": [
              "tensor([[0., 0., 0., 0.],\n",
              "        [0., 0., 0., 0.],\n",
              "        [0., 0., 0., 0.]])"
            ]
          },
          "metadata": {},
          "execution_count": 25
        }
      ]
    },
    {
      "cell_type": "code",
      "source": [
        "zeros*random_tensor"
      ],
      "metadata": {
        "colab": {
          "base_uri": "https://localhost:8080/"
        },
        "id": "ipDAfOe2E6YA",
        "outputId": "918c95b8-8fb6-4834-e6a7-796cfe09d0f4"
      },
      "execution_count": null,
      "outputs": [
        {
          "output_type": "execute_result",
          "data": {
            "text/plain": [
              "tensor([[[0., 0., 0., 0.],\n",
              "         [0., 0., 0., 0.],\n",
              "         [0., 0., 0., 0.]]])"
            ]
          },
          "metadata": {},
          "execution_count": 26
        }
      ]
    },
    {
      "cell_type": "code",
      "source": [
        "#create a tensor of ones\n",
        "ones = torch.ones(size=(3,4))\n",
        "ones"
      ],
      "metadata": {
        "colab": {
          "base_uri": "https://localhost:8080/"
        },
        "id": "5fZ4oNUbE_4Z",
        "outputId": "e2d4e793-2b0e-4ec1-9d83-8af641c5cec1"
      },
      "execution_count": null,
      "outputs": [
        {
          "output_type": "execute_result",
          "data": {
            "text/plain": [
              "tensor([[1., 1., 1., 1.],\n",
              "        [1., 1., 1., 1.],\n",
              "        [1., 1., 1., 1.]])"
            ]
          },
          "metadata": {},
          "execution_count": 27
        }
      ]
    },
    {
      "cell_type": "code",
      "source": [
        "ones.dtype"
      ],
      "metadata": {
        "colab": {
          "base_uri": "https://localhost:8080/"
        },
        "id": "cZdS2FegFFgr",
        "outputId": "89852744-4d6d-4413-d581-0a7117d53f07"
      },
      "execution_count": null,
      "outputs": [
        {
          "output_type": "execute_result",
          "data": {
            "text/plain": [
              "torch.float32"
            ]
          },
          "metadata": {},
          "execution_count": 28
        }
      ]
    },
    {
      "cell_type": "code",
      "source": [
        "zeros.dtype"
      ],
      "metadata": {
        "id": "aEDkGGV3FQ88",
        "outputId": "83982db0-4d5a-48b9-9782-57dc18d6e731",
        "colab": {
          "base_uri": "https://localhost:8080/"
        }
      },
      "execution_count": null,
      "outputs": [
        {
          "output_type": "execute_result",
          "data": {
            "text/plain": [
              "torch.float32"
            ]
          },
          "metadata": {},
          "execution_count": 29
        }
      ]
    },
    {
      "cell_type": "code",
      "source": [
        "#creating tensors in a range\n",
        "\n",
        "torch.range(0,10)"
      ],
      "metadata": {
        "id": "yI4JAF30FVw1",
        "colab": {
          "base_uri": "https://localhost:8080/"
        },
        "outputId": "2a540c5a-6195-4dc8-ff2d-f2e1f4bf0683"
      },
      "execution_count": null,
      "outputs": [
        {
          "output_type": "stream",
          "name": "stderr",
          "text": [
            "<ipython-input-30-4d6181ba4d58>:3: UserWarning: torch.range is deprecated and will be removed in a future release because its behavior is inconsistent with Python's range builtin. Instead, use torch.arange, which produces values in [start, end).\n",
            "  torch.range(0,10)\n"
          ]
        },
        {
          "output_type": "execute_result",
          "data": {
            "text/plain": [
              "tensor([ 0.,  1.,  2.,  3.,  4.,  5.,  6.,  7.,  8.,  9., 10.])"
            ]
          },
          "metadata": {},
          "execution_count": 30
        }
      ]
    },
    {
      "cell_type": "code",
      "source": [
        "one_to_ten = torch.arange(start=0,end=1100,step=77)\n",
        "one_to_ten"
      ],
      "metadata": {
        "colab": {
          "base_uri": "https://localhost:8080/"
        },
        "id": "yWuP0OD0f0hB",
        "outputId": "afc0c700-8eed-4c3b-fa2f-63fe80aba38b"
      },
      "execution_count": null,
      "outputs": [
        {
          "output_type": "execute_result",
          "data": {
            "text/plain": [
              "tensor([   0,   77,  154,  231,  308,  385,  462,  539,  616,  693,  770,  847,\n",
              "         924, 1001, 1078])"
            ]
          },
          "metadata": {},
          "execution_count": 35
        }
      ]
    },
    {
      "cell_type": "code",
      "source": [
        "one_to_ten = torch.arange(start=1,end=11,step=1)\n",
        "one_to_ten"
      ],
      "metadata": {
        "colab": {
          "base_uri": "https://localhost:8080/"
        },
        "id": "0kegNA1wf9pn",
        "outputId": "fb48dde3-d021-45f7-f4b3-b8b3f30fb698"
      },
      "execution_count": null,
      "outputs": [
        {
          "output_type": "execute_result",
          "data": {
            "text/plain": [
              "tensor([ 1,  2,  3,  4,  5,  6,  7,  8,  9, 10])"
            ]
          },
          "metadata": {},
          "execution_count": 36
        }
      ]
    },
    {
      "cell_type": "code",
      "source": [
        "#creating tensor like\n",
        "one_to_eleven = torch.zeros_like(one_to_ten)\n",
        "one_to_eleven"
      ],
      "metadata": {
        "colab": {
          "base_uri": "https://localhost:8080/"
        },
        "id": "OilGqvFGgUtf",
        "outputId": "33c814ab-03ae-41dc-8f05-095badf8eea6"
      },
      "execution_count": null,
      "outputs": [
        {
          "output_type": "execute_result",
          "data": {
            "text/plain": [
              "tensor([0, 0, 0, 0, 0, 0, 0, 0, 0, 0])"
            ]
          },
          "metadata": {},
          "execution_count": 38
        }
      ]
    },
    {
      "cell_type": "code",
      "source": [
        "one_to_nine = torch.ones_like(one_to_ten)\n",
        "one_to_nine"
      ],
      "metadata": {
        "colab": {
          "base_uri": "https://localhost:8080/"
        },
        "id": "P_BOGdMSgmyH",
        "outputId": "02a85076-9c9a-4988-bef7-4cb91e9d159d"
      },
      "execution_count": null,
      "outputs": [
        {
          "output_type": "execute_result",
          "data": {
            "text/plain": [
              "tensor([1, 1, 1, 1, 1, 1, 1, 1, 1, 1])"
            ]
          },
          "metadata": {},
          "execution_count": 39
        }
      ]
    },
    {
      "cell_type": "code",
      "source": [
        "#tensor datatypes\n",
        "float_32_tensor = torch.tensor([3.0,6.0,9.0],\n",
        "                               dtype= None)\n",
        "float_32_tensor"
      ],
      "metadata": {
        "colab": {
          "base_uri": "https://localhost:8080/"
        },
        "id": "9zcKNOb2ilkj",
        "outputId": "22912c5a-1526-4348-ac56-7c82c435ad35"
      },
      "execution_count": null,
      "outputs": [
        {
          "output_type": "execute_result",
          "data": {
            "text/plain": [
              "tensor([3., 6., 9.])"
            ]
          },
          "metadata": {},
          "execution_count": 40
        }
      ]
    },
    {
      "cell_type": "code",
      "source": [
        "float_32_tensor.dtype #even if we mentioned None, the default value is set to float32"
      ],
      "metadata": {
        "colab": {
          "base_uri": "https://localhost:8080/"
        },
        "id": "QzHVRGsqixSA",
        "outputId": "04580d1d-b166-49a6-e3d1-526b4d4227eb"
      },
      "execution_count": null,
      "outputs": [
        {
          "output_type": "execute_result",
          "data": {
            "text/plain": [
              "torch.float32"
            ]
          },
          "metadata": {},
          "execution_count": 41
        }
      ]
    },
    {
      "cell_type": "code",
      "source": [
        "#changing the datatype\n",
        "float_32_tensor = torch.tensor([3.0,6.0,9.0],\n",
        "                               dtype= torch.float16)\n",
        "float_32_tensor"
      ],
      "metadata": {
        "colab": {
          "base_uri": "https://localhost:8080/"
        },
        "id": "fiNm4naNi3M1",
        "outputId": "07bb588d-edba-493a-a0e3-a122b577f1a8"
      },
      "execution_count": null,
      "outputs": [
        {
          "output_type": "execute_result",
          "data": {
            "text/plain": [
              "tensor([3., 6., 9.], dtype=torch.float16)"
            ]
          },
          "metadata": {},
          "execution_count": 42
        }
      ]
    },
    {
      "cell_type": "code",
      "source": [
        "float_32_tensor.dtype"
      ],
      "metadata": {
        "colab": {
          "base_uri": "https://localhost:8080/"
        },
        "id": "XDxFCacjjI7v",
        "outputId": "dd7a4152-7e4f-4ce0-f264-d7337bf8e238"
      },
      "execution_count": null,
      "outputs": [
        {
          "output_type": "execute_result",
          "data": {
            "text/plain": [
              "torch.float16"
            ]
          },
          "metadata": {},
          "execution_count": 43
        }
      ]
    },
    {
      "cell_type": "markdown",
      "source": [
        "#important parameters while creating tensors"
      ],
      "metadata": {
        "id": "btZGYDj27DmA"
      }
    },
    {
      "cell_type": "code",
      "source": [
        "float_32_tensor = torch.tensor([3.0,6.0,9.0],\n",
        "                               dtype= None, #datatype\n",
        "                               device= None, #what device is your tensor on,bydefault=cpu\n",
        "                               requires_grad= False) #weather or not to track gradients\n",
        "float_32_tensor"
      ],
      "metadata": {
        "colab": {
          "base_uri": "https://localhost:8080/"
        },
        "id": "RibJmKv4jP9E",
        "outputId": "079e3b02-2155-4ccc-fe94-a08118fd13da"
      },
      "execution_count": null,
      "outputs": [
        {
          "output_type": "execute_result",
          "data": {
            "text/plain": [
              "tensor([3., 6., 9.])"
            ]
          },
          "metadata": {},
          "execution_count": 44
        }
      ]
    },
    {
      "cell_type": "code",
      "source": [
        "float_32_tensor.dtype"
      ],
      "metadata": {
        "colab": {
          "base_uri": "https://localhost:8080/"
        },
        "id": "4rq_8sFDlN3o",
        "outputId": "61416cad-f341-42e1-e496-5b20a08e15d5"
      },
      "execution_count": null,
      "outputs": [
        {
          "output_type": "execute_result",
          "data": {
            "text/plain": [
              "torch.float32"
            ]
          },
          "metadata": {},
          "execution_count": 47
        }
      ]
    },
    {
      "cell_type": "code",
      "source": [
        "float_16_tensor = float_32_tensor.type(torch.float16)\n",
        "float_16_tensor"
      ],
      "metadata": {
        "colab": {
          "base_uri": "https://localhost:8080/"
        },
        "id": "3ouGPZQ4jgDC",
        "outputId": "7c4bc663-e114-4cfd-c612-193827deda67"
      },
      "execution_count": null,
      "outputs": [
        {
          "output_type": "execute_result",
          "data": {
            "text/plain": [
              "tensor([3., 6., 9.], dtype=torch.float16)"
            ]
          },
          "metadata": {},
          "execution_count": 48
        }
      ]
    },
    {
      "cell_type": "code",
      "source": [
        "/float_16_tensor * float_32_tensor  #why no error when the datatypes are different"
      ],
      "metadata": {
        "colab": {
          "base_uri": "https://localhost:8080/"
        },
        "id": "BOLWDBkBlGEq",
        "outputId": "55854953-1c7d-4f60-ee5a-e98ba92cd99f"
      },
      "execution_count": null,
      "outputs": [
        {
          "output_type": "execute_result",
          "data": {
            "text/plain": [
              "tensor([ 9., 36., 81.])"
            ]
          },
          "metadata": {},
          "execution_count": 49
        }
      ]
    },
    {
      "cell_type": "code",
      "source": [
        "int_32_tensor = torch.tensor([3, 6, 9], dtype = torch.int64)\n",
        "int_32_tensor"
      ],
      "metadata": {
        "colab": {
          "base_uri": "https://localhost:8080/"
        },
        "id": "cJLhDapIlghh",
        "outputId": "d225ed3c-2b15-4fdc-d198-bb45d40dc517"
      },
      "execution_count": null,
      "outputs": [
        {
          "output_type": "execute_result",
          "data": {
            "text/plain": [
              "tensor([3, 6, 9])"
            ]
          },
          "metadata": {},
          "execution_count": 52
        }
      ]
    },
    {
      "cell_type": "code",
      "source": [
        "float_32_tensor * int_32_tensor"
      ],
      "metadata": {
        "colab": {
          "base_uri": "https://localhost:8080/"
        },
        "id": "6s52bTHHl2me",
        "outputId": "df07eb19-59f0-43dd-8e46-4c6639b2335d"
      },
      "execution_count": null,
      "outputs": [
        {
          "output_type": "execute_result",
          "data": {
            "text/plain": [
              "tensor([ 9., 36., 81.])"
            ]
          },
          "metadata": {},
          "execution_count": 53
        }
      ]
    },
    {
      "cell_type": "code",
      "source": [
        "#using long dtype\n",
        "int_32_tensor = torch.tensor([3, 6, 9], dtype = torch.long)\n",
        "int_32_tensor"
      ],
      "metadata": {
        "colab": {
          "base_uri": "https://localhost:8080/"
        },
        "id": "_COTCZBRl9hT",
        "outputId": "8817e5b3-8f90-4a78-cec3-05219f985c8b"
      },
      "execution_count": null,
      "outputs": [
        {
          "output_type": "execute_result",
          "data": {
            "text/plain": [
              "tensor([3, 6, 9])"
            ]
          },
          "metadata": {},
          "execution_count": 54
        }
      ]
    },
    {
      "cell_type": "code",
      "source": [
        "float_32_tensor * int_32_tensor  #still works, its robust"
      ],
      "metadata": {
        "colab": {
          "base_uri": "https://localhost:8080/"
        },
        "id": "dgA6AbCjmT1C",
        "outputId": "24066e79-d1e3-4d6a-b9f1-dd3fe80c2b4e"
      },
      "execution_count": null,
      "outputs": [
        {
          "output_type": "execute_result",
          "data": {
            "text/plain": [
              "tensor([ 9., 36., 81.])"
            ]
          },
          "metadata": {},
          "execution_count": 55
        }
      ]
    },
    {
      "cell_type": "code",
      "source": [
        " #getting information from tensor attributes\n",
        "\n",
        "display(float_32_tensor.shape)\n",
        "display(float_32_tensor.dtype)\n",
        "display(float_32_tensor.device)"
      ],
      "metadata": {
        "colab": {
          "base_uri": "https://localhost:8080/",
          "height": 69
        },
        "id": "1BfibmCrmXf7",
        "outputId": "5622d491-aa2a-404b-fcb2-61c8455ec85b"
      },
      "execution_count": null,
      "outputs": [
        {
          "output_type": "display_data",
          "data": {
            "text/plain": [
              "torch.Size([3])"
            ]
          },
          "metadata": {}
        },
        {
          "output_type": "display_data",
          "data": {
            "text/plain": [
              "torch.float32"
            ]
          },
          "metadata": {}
        },
        {
          "output_type": "display_data",
          "data": {
            "text/plain": [
              "device(type='cpu')"
            ]
          },
          "metadata": {}
        }
      ]
    },
    {
      "cell_type": "code",
      "source": [
        "#create a tensor\n",
        "some_tensor = torch.rand([3,4],dtype= torch.float16)\n",
        "some_tensor"
      ],
      "metadata": {
        "colab": {
          "base_uri": "https://localhost:8080/"
        },
        "id": "4nKmkk29nK7h",
        "outputId": "5aa3af8c-2d50-4f73-f483-96cbf5700d0b"
      },
      "execution_count": null,
      "outputs": [
        {
          "output_type": "execute_result",
          "data": {
            "text/plain": [
              "tensor([[0.6226, 0.2998, 0.0762, 0.7051],\n",
              "        [0.9556, 0.0918, 0.3628, 0.1450],\n",
              "        [0.6860, 0.3081, 0.2925, 0.2026]], dtype=torch.float16)"
            ]
          },
          "metadata": {},
          "execution_count": 66
        }
      ]
    },
    {
      "cell_type": "code",
      "source": [
        "some_tensor.shape , some_tensor.size"
      ],
      "metadata": {
        "colab": {
          "base_uri": "https://localhost:8080/"
        },
        "id": "1QONUDNMn20f",
        "outputId": "6f17d713-ed56-4088-d4fb-c0677f06570e"
      },
      "execution_count": null,
      "outputs": [
        {
          "output_type": "execute_result",
          "data": {
            "text/plain": [
              "(torch.Size([3, 4]), <function Tensor.size>)"
            ]
          },
          "metadata": {},
          "execution_count": 58
        }
      ]
    },
    {
      "cell_type": "code",
      "source": [
        "some_tensor.size()  #.shape is an attribute and .size is a function, they do the same job."
      ],
      "metadata": {
        "colab": {
          "base_uri": "https://localhost:8080/"
        },
        "id": "1Xq1xkJ6oBOT",
        "outputId": "a716970b-4419-4227-dcd4-2caecade1597"
      },
      "execution_count": null,
      "outputs": [
        {
          "output_type": "execute_result",
          "data": {
            "text/plain": [
              "torch.Size([3, 4])"
            ]
          },
          "metadata": {},
          "execution_count": 59
        }
      ]
    },
    {
      "cell_type": "code",
      "source": [
        "#find out the details about the tensor\n",
        "print(some_tensor)\n",
        "print(f'datatype of the tensor is : {some_tensor.dtype}')\n",
        "print(f'shape of the tensor: {some_tensor.shape}')\n",
        "print(f'device the tensor is on: {some_tensor.device}')"
      ],
      "metadata": {
        "colab": {
          "base_uri": "https://localhost:8080/"
        },
        "id": "7CY44YMMnVEk",
        "outputId": "2078c3b0-0c26-45d2-b1b5-8241380efac8"
      },
      "execution_count": null,
      "outputs": [
        {
          "output_type": "stream",
          "name": "stdout",
          "text": [
            "tensor([[0.4028, 0.2290, 0.1528, 0.6064],\n",
            "        [0.4077, 0.4536, 0.5820, 0.3164],\n",
            "        [0.9917, 0.1396, 0.9956, 0.3369]], dtype=torch.float16)\n",
            "datatype of the tensor is : torch.float16\n",
            "shape of the tensor: torch.Size([3, 4])\n",
            "device the tensor is on: cpu\n"
          ]
        }
      ]
    },
    {
      "cell_type": "markdown",
      "source": [
        "#Manipulating tensors or TENSOR OPERATIONS\n",
        "\n",
        "addition , subtraction , multiplication , division , matrix multiplication\n"
      ],
      "metadata": {
        "id": "hDwtTKmA7IYJ"
      }
    },
    {
      "cell_type": "code",
      "source": [
        "#create a tensor\n",
        "\n",
        "tensor = torch.tensor([1,2,3])\n",
        "tensor + 10"
      ],
      "metadata": {
        "colab": {
          "base_uri": "https://localhost:8080/"
        },
        "id": "t9Gd1KHrpMmn",
        "outputId": "1e5f78b0-bbc0-44af-d329-65276cbeb874"
      },
      "execution_count": null,
      "outputs": [
        {
          "output_type": "execute_result",
          "data": {
            "text/plain": [
              "tensor([11, 12, 13])"
            ]
          },
          "metadata": {},
          "execution_count": 71
        }
      ]
    },
    {
      "cell_type": "code",
      "source": [
        "tensor * 10"
      ],
      "metadata": {
        "colab": {
          "base_uri": "https://localhost:8080/"
        },
        "id": "ATOt8Ur_ppf8",
        "outputId": "c80f3761-076a-45fa-e9fb-005de19c4095"
      },
      "execution_count": null,
      "outputs": [
        {
          "output_type": "execute_result",
          "data": {
            "text/plain": [
              "tensor([10, 20, 30])"
            ]
          },
          "metadata": {},
          "execution_count": 72
        }
      ]
    },
    {
      "cell_type": "code",
      "source": [
        "#this does not change the original tensor\n",
        "#to change the original tensor, we have to reassign it\n",
        "\n",
        "tensor = tensor+10\n",
        "tensor"
      ],
      "metadata": {
        "colab": {
          "base_uri": "https://localhost:8080/"
        },
        "id": "YuepYdRLp3WS",
        "outputId": "397d0f9a-9f4d-4b23-c3ba-b78363ce0d42"
      },
      "execution_count": null,
      "outputs": [
        {
          "output_type": "execute_result",
          "data": {
            "text/plain": [
              "tensor([21, 22, 23])"
            ]
          },
          "metadata": {},
          "execution_count": 74
        }
      ]
    },
    {
      "cell_type": "code",
      "source": [
        "tensor"
      ],
      "metadata": {
        "colab": {
          "base_uri": "https://localhost:8080/"
        },
        "id": "Mc7RwMjOqLWR",
        "outputId": "6f99ca56-f5fb-4c53-9369-e9209276a0fb"
      },
      "execution_count": null,
      "outputs": [
        {
          "output_type": "execute_result",
          "data": {
            "text/plain": [
              "tensor([21, 22, 23])"
            ]
          },
          "metadata": {},
          "execution_count": 75
        }
      ]
    },
    {
      "cell_type": "code",
      "source": [
        "tensor - 10"
      ],
      "metadata": {
        "colab": {
          "base_uri": "https://localhost:8080/"
        },
        "id": "q3rj8DEXqOTD",
        "outputId": "c5eec9c6-97e8-4de5-8e0d-35845e8427f3"
      },
      "execution_count": null,
      "outputs": [
        {
          "output_type": "execute_result",
          "data": {
            "text/plain": [
              "tensor([11, 12, 13])"
            ]
          },
          "metadata": {},
          "execution_count": 76
        }
      ]
    },
    {
      "cell_type": "code",
      "source": [
        "#PyTorch inbuilt functions\n",
        "\n",
        "torch.mul(tensor , 10)"
      ],
      "metadata": {
        "colab": {
          "base_uri": "https://localhost:8080/"
        },
        "id": "WB03CjGXqXmJ",
        "outputId": "0c74f16d-9d40-48b2-9241-2a9c65ed4c51"
      },
      "execution_count": null,
      "outputs": [
        {
          "output_type": "execute_result",
          "data": {
            "text/plain": [
              "tensor([210, 220, 230])"
            ]
          },
          "metadata": {},
          "execution_count": 77
        }
      ]
    },
    {
      "cell_type": "code",
      "source": [
        "tensor"
      ],
      "metadata": {
        "colab": {
          "base_uri": "https://localhost:8080/"
        },
        "id": "xKXKREm1qlLQ",
        "outputId": "581fbf48-71cf-4bf5-ae71-244242b6ceaa"
      },
      "execution_count": null,
      "outputs": [
        {
          "output_type": "execute_result",
          "data": {
            "text/plain": [
              "tensor([21, 22, 23])"
            ]
          },
          "metadata": {},
          "execution_count": 79
        }
      ]
    },
    {
      "cell_type": "code",
      "source": [
        "torch.add(tensor , 10)"
      ],
      "metadata": {
        "colab": {
          "base_uri": "https://localhost:8080/"
        },
        "id": "GHiFG-XCqhlK",
        "outputId": "2d4807bc-648d-492d-bb72-309d97400ae1"
      },
      "execution_count": null,
      "outputs": [
        {
          "output_type": "execute_result",
          "data": {
            "text/plain": [
              "tensor([31, 32, 33])"
            ]
          },
          "metadata": {},
          "execution_count": 78
        }
      ]
    },
    {
      "cell_type": "code",
      "source": [
        "torch.sub(tensor , 10)"
      ],
      "metadata": {
        "colab": {
          "base_uri": "https://localhost:8080/"
        },
        "id": "mTxp3Fgmqnqk",
        "outputId": "a053acc1-f33a-40d4-c888-a734ad8fcade"
      },
      "execution_count": null,
      "outputs": [
        {
          "output_type": "execute_result",
          "data": {
            "text/plain": [
              "tensor([11, 12, 13])"
            ]
          },
          "metadata": {},
          "execution_count": 80
        }
      ]
    },
    {
      "cell_type": "markdown",
      "source": [
        "#Matrix Multiplication\n",
        "\n",
        "two ways of performing multiplication in nueral networks and deep learning;\n",
        "\n",
        "\n",
        " -- element wise multiplication\n",
        "\n",
        " -- matrix multiplication (dot product)"
      ],
      "metadata": {
        "id": "o95DuEE47OYJ"
      }
    },
    {
      "cell_type": "code",
      "source": [
        "#element wise multiplication\n",
        "tensor = torch.tensor([1,2,3])\n",
        "print(tensor, '*',tensor)\n",
        "print(f'equals: {tensor*tensor}')"
      ],
      "metadata": {
        "colab": {
          "base_uri": "https://localhost:8080/"
        },
        "id": "oa4kludoul8Q",
        "outputId": "3f1ebc64-61d8-4be3-c577-5df3f111f147"
      },
      "execution_count": null,
      "outputs": [
        {
          "output_type": "stream",
          "name": "stdout",
          "text": [
            "tensor([1, 2, 3]) * tensor([1, 2, 3])\n",
            "equals: tensor([1, 4, 9])\n"
          ]
        }
      ]
    },
    {
      "cell_type": "code",
      "source": [
        "#matrix multiplication - inbuilt function\n",
        "torch.matmul(tensor,tensor) #dot prod; 1+4+9=14"
      ],
      "metadata": {
        "colab": {
          "base_uri": "https://localhost:8080/"
        },
        "id": "3pecshp7u6Xt",
        "outputId": "2ab7c4e0-6cae-4749-f507-0e3eb62da0fa"
      },
      "execution_count": null,
      "outputs": [
        {
          "output_type": "execute_result",
          "data": {
            "text/plain": [
              "tensor(14)"
            ]
          },
          "metadata": {},
          "execution_count": 6
        }
      ]
    },
    {
      "cell_type": "code",
      "source": [
        "#comparing the time\n",
        "%%time\n",
        "value = 0\n",
        "for i in range(len(tensor)): #[1,2,3]\n",
        "  value+= tensor[i]*tensor[i]\n",
        "print(value)\n"
      ],
      "metadata": {
        "colab": {
          "base_uri": "https://localhost:8080/"
        },
        "id": "3awZJ0vrvPZV",
        "outputId": "32d1833b-a662-494b-9b17-766afe64bef1"
      },
      "execution_count": null,
      "outputs": [
        {
          "output_type": "stream",
          "name": "stdout",
          "text": [
            "tensor(14)\n",
            "CPU times: user 2.29 ms, sys: 56 µs, total: 2.34 ms\n",
            "Wall time: 6.91 ms\n"
          ]
        }
      ]
    },
    {
      "cell_type": "code",
      "source": [
        "%%time\n",
        "torch.matmul(tensor, tensor)"
      ],
      "metadata": {
        "id": "rh98fedowEr2"
      },
      "execution_count": null,
      "outputs": []
    },
    {
      "cell_type": "code",
      "source": [
        "#one of the most common errors in Deep Learning is shape errors"
      ],
      "metadata": {
        "id": "Ef6X0TVLwnRK"
      },
      "execution_count": null,
      "outputs": []
    },
    {
      "cell_type": "code",
      "source": [
        "tensor@tensor #@ is a symbol for matrix multiplication"
      ],
      "metadata": {
        "colab": {
          "base_uri": "https://localhost:8080/"
        },
        "id": "KW3HzAtIMgzE",
        "outputId": "dc110c55-ed91-45d2-d0c9-3b9f86eed2ab"
      },
      "execution_count": null,
      "outputs": [
        {
          "output_type": "execute_result",
          "data": {
            "text/plain": [
              "tensor(14)"
            ]
          },
          "metadata": {},
          "execution_count": 10
        }
      ]
    },
    {
      "cell_type": "code",
      "source": [
        "torch.matmul(torch.rand(3,2), torch.rand(3,2)) #does not work because the inner dim does not match\n"
      ],
      "metadata": {
        "colab": {
          "base_uri": "https://localhost:8080/",
          "height": 141
        },
        "id": "G5n1pgp9NFew",
        "outputId": "02a07867-04a0-4313-d793-6e04a0c94a5e"
      },
      "execution_count": null,
      "outputs": [
        {
          "output_type": "error",
          "ename": "RuntimeError",
          "evalue": "mat1 and mat2 shapes cannot be multiplied (3x2 and 3x2)",
          "traceback": [
            "\u001b[0;31m---------------------------------------------------------------------------\u001b[0m",
            "\u001b[0;31mRuntimeError\u001b[0m                              Traceback (most recent call last)",
            "\u001b[0;32m<ipython-input-11-16a1e5dd04a2>\u001b[0m in \u001b[0;36m<cell line: 1>\u001b[0;34m()\u001b[0m\n\u001b[0;32m----> 1\u001b[0;31m \u001b[0mtorch\u001b[0m\u001b[0;34m.\u001b[0m\u001b[0mmatmul\u001b[0m\u001b[0;34m(\u001b[0m\u001b[0mtorch\u001b[0m\u001b[0;34m.\u001b[0m\u001b[0mrand\u001b[0m\u001b[0;34m(\u001b[0m\u001b[0;36m3\u001b[0m\u001b[0;34m,\u001b[0m\u001b[0;36m2\u001b[0m\u001b[0;34m)\u001b[0m\u001b[0;34m,\u001b[0m \u001b[0mtorch\u001b[0m\u001b[0;34m.\u001b[0m\u001b[0mrand\u001b[0m\u001b[0;34m(\u001b[0m\u001b[0;36m3\u001b[0m\u001b[0;34m,\u001b[0m\u001b[0;36m2\u001b[0m\u001b[0;34m)\u001b[0m\u001b[0;34m)\u001b[0m\u001b[0;34m\u001b[0m\u001b[0;34m\u001b[0m\u001b[0m\n\u001b[0m",
            "\u001b[0;31mRuntimeError\u001b[0m: mat1 and mat2 shapes cannot be multiplied (3x2 and 3x2)"
          ]
        }
      ]
    },
    {
      "cell_type": "code",
      "source": [
        "# no error because inner dim are same\n",
        "# the resultant matrix has the shape of the outer dimensions\n",
        "\n",
        "torch.matmul(torch.rand(2,3), torch.rand(3,2))"
      ],
      "metadata": {
        "colab": {
          "base_uri": "https://localhost:8080/"
        },
        "id": "0w7N1FbKNgBQ",
        "outputId": "d1f0b3dc-086a-435e-ca22-c9b99200a612"
      },
      "execution_count": null,
      "outputs": [
        {
          "output_type": "execute_result",
          "data": {
            "text/plain": [
              "tensor([[0.2716, 0.4681],\n",
              "        [0.4174, 0.5410]])"
            ]
          },
          "metadata": {},
          "execution_count": 13
        }
      ]
    },
    {
      "cell_type": "code",
      "source": [
        "torch.matmul(torch.rand(3,2), torch.rand(2,3))"
      ],
      "metadata": {
        "colab": {
          "base_uri": "https://localhost:8080/"
        },
        "id": "d0tkuohtNwF2",
        "outputId": "61dc19fa-795e-4555-d29a-e7e962b03363"
      },
      "execution_count": null,
      "outputs": [
        {
          "output_type": "execute_result",
          "data": {
            "text/plain": [
              "tensor([[0.3798, 1.0004, 1.1834],\n",
              "        [0.4338, 1.0549, 1.1103],\n",
              "        [0.2882, 0.7662, 0.9174]])"
            ]
          },
          "metadata": {},
          "execution_count": 14
        }
      ]
    },
    {
      "cell_type": "code",
      "source": [
        "torch.matmul(torch.rand(10,3), torch.rand(3,10))"
      ],
      "metadata": {
        "colab": {
          "base_uri": "https://localhost:8080/"
        },
        "id": "65Uhi2giNvab",
        "outputId": "d8daad74-0cae-4073-b514-bbe1f2763702"
      },
      "execution_count": null,
      "outputs": [
        {
          "output_type": "execute_result",
          "data": {
            "text/plain": [
              "tensor([[0.5851, 0.0998, 0.2531, 0.3633, 0.2506, 0.3532, 0.2689, 0.3390, 0.1917,\n",
              "         0.2275],\n",
              "        [1.1615, 0.3018, 0.5630, 0.4880, 0.4466, 0.4849, 0.4174, 0.9267, 0.3985,\n",
              "         0.4909],\n",
              "        [0.7589, 0.2529, 0.2865, 0.3062, 0.2397, 0.2988, 0.2126, 0.6447, 0.3961,\n",
              "         0.3193],\n",
              "        [1.6706, 0.5513, 0.5778, 0.7350, 0.5193, 0.7115, 0.4750, 1.3641, 0.9263,\n",
              "         0.6911],\n",
              "        [1.4407, 0.2837, 0.7432, 0.7126, 0.6198, 0.7063, 0.6175, 1.0109, 0.3702,\n",
              "         0.5939],\n",
              "        [2.2604, 0.6693, 0.8847, 1.0211, 0.7725, 0.9955, 0.7257, 1.7836, 1.0763,\n",
              "         0.9352],\n",
              "        [1.1446, 0.2845, 0.3794, 0.6758, 0.4098, 0.6492, 0.4293, 0.7387, 0.5765,\n",
              "         0.4458],\n",
              "        [1.3515, 0.4314, 0.6475, 0.4413, 0.4685, 0.4439, 0.3968, 1.2281, 0.5379,\n",
              "         0.5908],\n",
              "        [1.3056, 0.4141, 0.5982, 0.4576, 0.4483, 0.4564, 0.3868, 1.1580, 0.5477,\n",
              "         0.5646],\n",
              "        [1.9467, 0.6154, 0.8071, 0.7696, 0.6511, 0.7568, 0.5808, 1.6505, 0.9089,\n",
              "         0.8246]])"
            ]
          },
          "metadata": {},
          "execution_count": 15
        }
      ]
    },
    {
      "cell_type": "code",
      "source": [
        "#shapes for matrix multiplication\n",
        "\n",
        "tensor_A = torch.tensor([[1,2],\n",
        "                         [3,4],\n",
        "                         [5,6]])\n",
        "\n",
        "tensor_B = torch.tensor([[7,10],\n",
        "                         [8,11],\n",
        "                         [9,12]])\n",
        "\n",
        "torch.mm(tensor_A , tensor_B) #torch.mm is same as torch.matmul"
      ],
      "metadata": {
        "colab": {
          "base_uri": "https://localhost:8080/",
          "height": 176
        },
        "id": "UQIFKkXnOWAr",
        "outputId": "035a0057-7d53-4d6f-cca6-15a5507a5994"
      },
      "execution_count": null,
      "outputs": [
        {
          "output_type": "error",
          "ename": "RuntimeError",
          "evalue": "mat1 and mat2 shapes cannot be multiplied (3x2 and 3x2)",
          "traceback": [
            "\u001b[0;31m---------------------------------------------------------------------------\u001b[0m",
            "\u001b[0;31mRuntimeError\u001b[0m                              Traceback (most recent call last)",
            "\u001b[0;32m<ipython-input-17-0eafce24422c>\u001b[0m in \u001b[0;36m<cell line: 11>\u001b[0;34m()\u001b[0m\n\u001b[1;32m      9\u001b[0m                          [9,12]])\n\u001b[1;32m     10\u001b[0m \u001b[0;34m\u001b[0m\u001b[0m\n\u001b[0;32m---> 11\u001b[0;31m \u001b[0mtorch\u001b[0m\u001b[0;34m.\u001b[0m\u001b[0mmm\u001b[0m\u001b[0;34m(\u001b[0m\u001b[0mtensor_A\u001b[0m \u001b[0;34m,\u001b[0m \u001b[0mtensor_B\u001b[0m\u001b[0;34m)\u001b[0m \u001b[0;31m#torch.mm is same as torch.matmul\u001b[0m\u001b[0;34m\u001b[0m\u001b[0;34m\u001b[0m\u001b[0m\n\u001b[0m",
            "\u001b[0;31mRuntimeError\u001b[0m: mat1 and mat2 shapes cannot be multiplied (3x2 and 3x2)"
          ]
        }
      ]
    },
    {
      "cell_type": "code",
      "source": [
        "tensor_A.shape , tensor_B.shape"
      ],
      "metadata": {
        "colab": {
          "base_uri": "https://localhost:8080/"
        },
        "id": "3OeTZMTWPpWR",
        "outputId": "2f51488c-41ac-4a14-eacc-2bf2ae628b8b"
      },
      "execution_count": null,
      "outputs": [
        {
          "output_type": "execute_result",
          "data": {
            "text/plain": [
              "(torch.Size([3, 2]), torch.Size([3, 2]))"
            ]
          },
          "metadata": {},
          "execution_count": 18
        }
      ]
    },
    {
      "cell_type": "code",
      "source": [
        "# we cannot multiply these because their inner dimensions are not the same, so to fix this\n",
        "# we can transpose these.\n",
        "# by transposing, we manipulate the shape of the one of the tensors\n"
      ],
      "metadata": {
        "id": "eNQ_pm92P2RK"
      },
      "execution_count": null,
      "outputs": []
    },
    {
      "cell_type": "code",
      "source": [
        "tensor_B.T , tensor_B"
      ],
      "metadata": {
        "colab": {
          "base_uri": "https://localhost:8080/"
        },
        "id": "A-vrRDIEQRvE",
        "outputId": "7985a8dc-dfb9-43b6-899a-215d0b9f0d8d"
      },
      "execution_count": null,
      "outputs": [
        {
          "output_type": "execute_result",
          "data": {
            "text/plain": [
              "(tensor([[ 7,  8,  9],\n",
              "         [10, 11, 12]]),\n",
              " tensor([[ 7, 10],\n",
              "         [ 8, 11],\n",
              "         [ 9, 12]]))"
            ]
          },
          "metadata": {},
          "execution_count": 19
        }
      ]
    },
    {
      "cell_type": "code",
      "source": [
        "tensor_B.T.shape , tensor_B.shape"
      ],
      "metadata": {
        "colab": {
          "base_uri": "https://localhost:8080/"
        },
        "id": "6oEz7MjuQVWc",
        "outputId": "af9e5a86-54b4-4d60-94d8-8f7c01a90359"
      },
      "execution_count": null,
      "outputs": [
        {
          "output_type": "execute_result",
          "data": {
            "text/plain": [
              "(torch.Size([2, 3]), torch.Size([3, 2]))"
            ]
          },
          "metadata": {},
          "execution_count": 20
        }
      ]
    },
    {
      "cell_type": "code",
      "source": [
        "print(f'the original shapes: tensor A = {tensor_A.shape}, tensor B = {tensor_B.shape}')\n",
        "print(f'New shapes: tensor A = {tensor_A.shape} is the same, tensor B = {tensor_B.T.shape}')\n",
        "print(f'Multiplying: {tensor_A.shape} @ {tensor_B.shape} inner dimensions must match ')\n",
        "print('output \\n')\n",
        "output = torch.mm(tensor_A , tensor_B.T)\n",
        "print(output)\n",
        "print(f'\\noutput shape: {output.shape}')\n",
        "\n"
      ],
      "metadata": {
        "colab": {
          "base_uri": "https://localhost:8080/"
        },
        "id": "Vxe_vs8qQiHh",
        "outputId": "a6be33d2-7d90-4c92-dd5c-2a74701b50c2"
      },
      "execution_count": null,
      "outputs": [
        {
          "output_type": "stream",
          "name": "stdout",
          "text": [
            "the original shapes: tensor A = torch.Size([3, 2]), tensor B = torch.Size([3, 2])\n",
            "New shapes: tensor A = torch.Size([3, 2]) is the same, tensor B = torch.Size([2, 3])\n",
            "Multiplying: torch.Size([3, 2]) @ torch.Size([3, 2]) inner dimensions must match \n",
            "output \n",
            "\n",
            "tensor([[ 27,  30,  33],\n",
            "        [ 61,  68,  75],\n",
            "        [ 95, 106, 117]])\n",
            "\n",
            "output shape: torch.Size([3, 3])\n"
          ]
        }
      ]
    },
    {
      "cell_type": "code",
      "source": [
        "tensor_B.T"
      ],
      "metadata": {
        "colab": {
          "base_uri": "https://localhost:8080/"
        },
        "id": "kr7W420aQ0jz",
        "outputId": "4425b489-bc09-4078-a5d0-9905baad619e"
      },
      "execution_count": null,
      "outputs": [
        {
          "output_type": "execute_result",
          "data": {
            "text/plain": [
              "tensor([[ 7,  8,  9],\n",
              "        [10, 11, 12]])"
            ]
          },
          "metadata": {},
          "execution_count": 28
        }
      ]
    },
    {
      "cell_type": "markdown",
      "source": [
        "#tensor aggregation\n",
        "\n",
        "finding the min, max, mean , sum , etc\n"
      ],
      "metadata": {
        "id": "K4FpR7bgS3QH"
      }
    },
    {
      "cell_type": "code",
      "source": [
        "#create a tensor\n",
        "x = torch.arange(0,100,10)\n",
        "x"
      ],
      "metadata": {
        "colab": {
          "base_uri": "https://localhost:8080/"
        },
        "id": "lnLRdlWxSXwT",
        "outputId": "41df13cb-845b-4647-fe7c-df9d99059af7"
      },
      "execution_count": null,
      "outputs": [
        {
          "output_type": "execute_result",
          "data": {
            "text/plain": [
              "tensor([ 0, 10, 20, 30, 40, 50, 60, 70, 80, 90])"
            ]
          },
          "metadata": {},
          "execution_count": 30
        }
      ]
    },
    {
      "cell_type": "code",
      "source": [
        "x.dtype  #torch.int64 is a long datatype"
      ],
      "metadata": {
        "colab": {
          "base_uri": "https://localhost:8080/"
        },
        "id": "_X0m269HTbun",
        "outputId": "f4d3d8c4-08e2-42ee-96c9-ab3fad802613"
      },
      "execution_count": null,
      "outputs": [
        {
          "output_type": "execute_result",
          "data": {
            "text/plain": [
              "torch.int64"
            ]
          },
          "metadata": {},
          "execution_count": 36
        }
      ]
    },
    {
      "cell_type": "code",
      "source": [
        "#find the min\n",
        "torch.min(x) , x.min()"
      ],
      "metadata": {
        "colab": {
          "base_uri": "https://localhost:8080/"
        },
        "id": "_sN1U2ouS-rq",
        "outputId": "ab90d012-cc35-4165-d03f-18d3f729e894"
      },
      "execution_count": null,
      "outputs": [
        {
          "output_type": "execute_result",
          "data": {
            "text/plain": [
              "(tensor(0), tensor(0))"
            ]
          },
          "metadata": {},
          "execution_count": 32
        }
      ]
    },
    {
      "cell_type": "code",
      "source": [
        "#find the max\n",
        "torch.max(x) , x.max()"
      ],
      "metadata": {
        "colab": {
          "base_uri": "https://localhost:8080/"
        },
        "id": "0tB9NAqrTFT6",
        "outputId": "c33d745b-23ee-43ca-fc80-177334fbee66"
      },
      "execution_count": null,
      "outputs": [
        {
          "output_type": "execute_result",
          "data": {
            "text/plain": [
              "(tensor(90), tensor(90))"
            ]
          },
          "metadata": {},
          "execution_count": 33
        }
      ]
    },
    {
      "cell_type": "code",
      "source": [
        "#find the mean\n",
        "torch.mean(x) #got the error because the mean function cannot work with a long datatype"
      ],
      "metadata": {
        "colab": {
          "base_uri": "https://localhost:8080/",
          "height": 176
        },
        "id": "xzne9mChTL7I",
        "outputId": "ae4492e6-f295-49cf-e55b-530f083d60c4"
      },
      "execution_count": null,
      "outputs": [
        {
          "output_type": "error",
          "ename": "RuntimeError",
          "evalue": "mean(): could not infer output dtype. Input dtype must be either a floating point or complex dtype. Got: Long",
          "traceback": [
            "\u001b[0;31m---------------------------------------------------------------------------\u001b[0m",
            "\u001b[0;31mRuntimeError\u001b[0m                              Traceback (most recent call last)",
            "\u001b[0;32m<ipython-input-35-119f79e5c8be>\u001b[0m in \u001b[0;36m<cell line: 2>\u001b[0;34m()\u001b[0m\n\u001b[1;32m      1\u001b[0m \u001b[0;31m#find the mean\u001b[0m\u001b[0;34m\u001b[0m\u001b[0;34m\u001b[0m\u001b[0m\n\u001b[0;32m----> 2\u001b[0;31m \u001b[0mtorch\u001b[0m\u001b[0;34m.\u001b[0m\u001b[0mmean\u001b[0m\u001b[0;34m(\u001b[0m\u001b[0mx\u001b[0m\u001b[0;34m)\u001b[0m\u001b[0;34m\u001b[0m\u001b[0;34m\u001b[0m\u001b[0m\n\u001b[0m",
            "\u001b[0;31mRuntimeError\u001b[0m: mean(): could not infer output dtype. Input dtype must be either a floating point or complex dtype. Got: Long"
          ]
        }
      ]
    },
    {
      "cell_type": "code",
      "source": [
        "torch.mean(x.type(torch.float32))"
      ],
      "metadata": {
        "colab": {
          "base_uri": "https://localhost:8080/"
        },
        "id": "MyX3ho2_TU1S",
        "outputId": "5a7c6b83-79d0-464c-83f2-fdf9e2803919"
      },
      "execution_count": null,
      "outputs": [
        {
          "output_type": "execute_result",
          "data": {
            "text/plain": [
              "tensor(45.)"
            ]
          },
          "metadata": {},
          "execution_count": 37
        }
      ]
    },
    {
      "cell_type": "code",
      "source": [
        "x.type(torch.float32).mean() #alternatively"
      ],
      "metadata": {
        "colab": {
          "base_uri": "https://localhost:8080/"
        },
        "id": "xi9VW8A-ULmj",
        "outputId": "15a23f38-ccd0-4041-edf6-4f0245ffc682"
      },
      "execution_count": null,
      "outputs": [
        {
          "output_type": "execute_result",
          "data": {
            "text/plain": [
              "tensor(45.)"
            ]
          },
          "metadata": {},
          "execution_count": 38
        }
      ]
    },
    {
      "cell_type": "code",
      "source": [
        "torch.sum(x) , x.sum()"
      ],
      "metadata": {
        "colab": {
          "base_uri": "https://localhost:8080/"
        },
        "id": "oDRGHNY8UZOo",
        "outputId": "8833627b-938d-4764-d2f3-17208c93a649"
      },
      "execution_count": null,
      "outputs": [
        {
          "output_type": "execute_result",
          "data": {
            "text/plain": [
              "(tensor(450), tensor(450))"
            ]
          },
          "metadata": {},
          "execution_count": 39
        }
      ]
    },
    {
      "cell_type": "code",
      "source": [
        "x"
      ],
      "metadata": {
        "colab": {
          "base_uri": "https://localhost:8080/"
        },
        "id": "Ci-i5aFSWPHs",
        "outputId": "bc91b2de-8c2e-481b-a187-a7d41095dd30"
      },
      "execution_count": null,
      "outputs": [
        {
          "output_type": "execute_result",
          "data": {
            "text/plain": [
              "tensor([ 0, 10, 20, 30, 40, 50, 60, 70, 80, 90])"
            ]
          },
          "metadata": {},
          "execution_count": 41
        }
      ]
    },
    {
      "cell_type": "code",
      "source": [
        "#argmin and argmax\n",
        "x.argmin()  #index of the min value"
      ],
      "metadata": {
        "colab": {
          "base_uri": "https://localhost:8080/"
        },
        "id": "nyYKDas8Upp4",
        "outputId": "7e641cbb-9e47-4934-a556-b4109eae44dd"
      },
      "execution_count": null,
      "outputs": [
        {
          "output_type": "execute_result",
          "data": {
            "text/plain": [
              "tensor(0)"
            ]
          },
          "metadata": {},
          "execution_count": 40
        }
      ]
    },
    {
      "cell_type": "code",
      "source": [
        "x.argmax()  ##index of the max value"
      ],
      "metadata": {
        "colab": {
          "base_uri": "https://localhost:8080/"
        },
        "id": "0HxAK6OUWL69",
        "outputId": "ec00b95a-1db4-425f-d10c-11fc11970f9f"
      },
      "execution_count": null,
      "outputs": [
        {
          "output_type": "execute_result",
          "data": {
            "text/plain": [
              "tensor(9)"
            ]
          },
          "metadata": {},
          "execution_count": 42
        }
      ]
    },
    {
      "cell_type": "code",
      "source": [
        "x[0] , x[9]"
      ],
      "metadata": {
        "colab": {
          "base_uri": "https://localhost:8080/"
        },
        "id": "LbMR16eOWaCK",
        "outputId": "476f5cfd-45dc-4ce3-c1ec-2c2a5646b12f"
      },
      "execution_count": null,
      "outputs": [
        {
          "output_type": "execute_result",
          "data": {
            "text/plain": [
              "(tensor(0), tensor(90))"
            ]
          },
          "metadata": {},
          "execution_count": 43
        }
      ]
    },
    {
      "cell_type": "markdown",
      "source": [
        "#reshaping , stacking , squeezing and unsqueezing tensors\n",
        "\n",
        "view - return a view of an input tensor of certain shape but keep the same memory as the original tensor\n",
        "\n",
        "stacking - combine multiple tensors on the top of the other stack(vstack) or side by side(hstack).\n",
        "\n",
        "squeeze - removes all 1 dimensions from the tensor.\n",
        "\n",
        "unsqueeze - add a 1 dimension to the target tensor\n",
        "\n",
        "permute - return a view of the input with dimensions permuted in a certain way"
      ],
      "metadata": {
        "id": "QkL2Y9TAXK2n"
      }
    },
    {
      "cell_type": "code",
      "source": [
        "#create a tensor\n",
        "\n",
        "x = torch.arange(1.,10.)\n",
        "x , x.shape"
      ],
      "metadata": {
        "colab": {
          "base_uri": "https://localhost:8080/"
        },
        "id": "lUcPzdlIYNb2",
        "outputId": "cba94d20-a171-4e0b-ed1c-90c46beb08b1"
      },
      "execution_count": null,
      "outputs": [
        {
          "output_type": "execute_result",
          "data": {
            "text/plain": [
              "(tensor([1., 2., 3., 4., 5., 6., 7., 8., 9.]), torch.Size([9]))"
            ]
          },
          "metadata": {},
          "execution_count": 53
        }
      ]
    },
    {
      "cell_type": "code",
      "source": [
        "#add an extra dimension by using reshape\n",
        "\n",
        "x_reshaped = x.reshape(1,9)\n",
        "x_reshaped , x_reshaped.shape"
      ],
      "metadata": {
        "colab": {
          "base_uri": "https://localhost:8080/"
        },
        "id": "AAO_N7RLYbxZ",
        "outputId": "4d32ce19-ee57-4d89-f09e-453c3e705fa3"
      },
      "execution_count": null,
      "outputs": [
        {
          "output_type": "execute_result",
          "data": {
            "text/plain": [
              "(tensor([[1., 2., 3., 4., 5., 6., 7., 8., 9.]]), torch.Size([1, 9]))"
            ]
          },
          "metadata": {},
          "execution_count": 56
        }
      ]
    },
    {
      "cell_type": "code",
      "source": [
        "#change the view\n",
        "\n",
        "z = x.view(1,9) #changing z changes x because the view of a tensor shares the same memory as the original input\n",
        "z , z.shape"
      ],
      "metadata": {
        "colab": {
          "base_uri": "https://localhost:8080/"
        },
        "id": "HKBQ5yBsY4EV",
        "outputId": "e8867d54-b01c-4afb-b565-559b8b8f37d8"
      },
      "execution_count": null,
      "outputs": [
        {
          "output_type": "execute_result",
          "data": {
            "text/plain": [
              "(tensor([[1., 2., 3., 4., 5., 6., 7., 8., 9.]]), torch.Size([1, 9]))"
            ]
          },
          "metadata": {},
          "execution_count": 58
        }
      ]
    },
    {
      "cell_type": "code",
      "source": [
        "#changing z\n",
        "z[:,0] = 5\n",
        "z,x"
      ],
      "metadata": {
        "colab": {
          "base_uri": "https://localhost:8080/"
        },
        "id": "waZxa743Zlx_",
        "outputId": "7b6ea667-864e-4fe9-bb18-4b2c8a4bf303"
      },
      "execution_count": null,
      "outputs": [
        {
          "output_type": "execute_result",
          "data": {
            "text/plain": [
              "(tensor([[5., 2., 3., 4., 5., 6., 7., 8., 9.]]),\n",
              " tensor([5., 2., 3., 4., 5., 6., 7., 8., 9.]))"
            ]
          },
          "metadata": {},
          "execution_count": 59
        }
      ]
    },
    {
      "cell_type": "code",
      "source": [
        "#stack tensors on top of each other\n",
        "\n",
        "x_stacked = torch.stack([x,x,x,x], dim=0)\n",
        "x_stacked"
      ],
      "metadata": {
        "colab": {
          "base_uri": "https://localhost:8080/"
        },
        "id": "5hdqVDBOaEPU",
        "outputId": "a2824e3d-dbc5-466b-90f7-5bbca4af1408"
      },
      "execution_count": null,
      "outputs": [
        {
          "output_type": "execute_result",
          "data": {
            "text/plain": [
              "tensor([[5., 2., 3., 4., 5., 6., 7., 8., 9.],\n",
              "        [5., 2., 3., 4., 5., 6., 7., 8., 9.],\n",
              "        [5., 2., 3., 4., 5., 6., 7., 8., 9.],\n",
              "        [5., 2., 3., 4., 5., 6., 7., 8., 9.]])"
            ]
          },
          "metadata": {},
          "execution_count": 61
        }
      ]
    },
    {
      "cell_type": "code",
      "source": [
        "x_stacked = torch.stack([x,x,x,x], dim=1)\n",
        "x_stacked"
      ],
      "metadata": {
        "colab": {
          "base_uri": "https://localhost:8080/"
        },
        "id": "_goNGhNaaVDu",
        "outputId": "cd5926eb-565a-41bd-a3d1-2b66be9e690c"
      },
      "execution_count": null,
      "outputs": [
        {
          "output_type": "execute_result",
          "data": {
            "text/plain": [
              "tensor([[5., 5., 5., 5.],\n",
              "        [2., 2., 2., 2.],\n",
              "        [3., 3., 3., 3.],\n",
              "        [4., 4., 4., 4.],\n",
              "        [5., 5., 5., 5.],\n",
              "        [6., 6., 6., 6.],\n",
              "        [7., 7., 7., 7.],\n",
              "        [8., 8., 8., 8.],\n",
              "        [9., 9., 9., 9.]])"
            ]
          },
          "metadata": {},
          "execution_count": 62
        }
      ]
    },
    {
      "cell_type": "code",
      "source": [
        "x_stacked = torch.stack([x,x,x,x], dim=2) #because the original shape of x is incompatible with changing the dim to 2\n",
        "x_stacked"
      ],
      "metadata": {
        "colab": {
          "base_uri": "https://localhost:8080/",
          "height": 176
        },
        "id": "hzl4GOepacoD",
        "outputId": "3431b299-9ed7-4f09-d2ca-ca2a4b6d0d44"
      },
      "execution_count": null,
      "outputs": [
        {
          "output_type": "error",
          "ename": "IndexError",
          "evalue": "Dimension out of range (expected to be in range of [-2, 1], but got 2)",
          "traceback": [
            "\u001b[0;31m---------------------------------------------------------------------------\u001b[0m",
            "\u001b[0;31mIndexError\u001b[0m                                Traceback (most recent call last)",
            "\u001b[0;32m<ipython-input-63-4440ca299d53>\u001b[0m in \u001b[0;36m<cell line: 1>\u001b[0;34m()\u001b[0m\n\u001b[0;32m----> 1\u001b[0;31m \u001b[0mx_stacked\u001b[0m \u001b[0;34m=\u001b[0m \u001b[0mtorch\u001b[0m\u001b[0;34m.\u001b[0m\u001b[0mstack\u001b[0m\u001b[0;34m(\u001b[0m\u001b[0;34m[\u001b[0m\u001b[0mx\u001b[0m\u001b[0;34m,\u001b[0m\u001b[0mx\u001b[0m\u001b[0;34m,\u001b[0m\u001b[0mx\u001b[0m\u001b[0;34m,\u001b[0m\u001b[0mx\u001b[0m\u001b[0;34m]\u001b[0m\u001b[0;34m,\u001b[0m \u001b[0mdim\u001b[0m\u001b[0;34m=\u001b[0m\u001b[0;36m2\u001b[0m\u001b[0;34m)\u001b[0m\u001b[0;34m\u001b[0m\u001b[0;34m\u001b[0m\u001b[0m\n\u001b[0m\u001b[1;32m      2\u001b[0m \u001b[0mx_stacked\u001b[0m\u001b[0;34m\u001b[0m\u001b[0;34m\u001b[0m\u001b[0m\n",
            "\u001b[0;31mIndexError\u001b[0m: Dimension out of range (expected to be in range of [-2, 1], but got 2)"
          ]
        }
      ]
    },
    {
      "cell_type": "code",
      "source": [
        "#squeeze - removes all the single dimensions from a target tensor\n",
        "x_reshaped"
      ],
      "metadata": {
        "id": "EqfkjGEEagts",
        "colab": {
          "base_uri": "https://localhost:8080/"
        },
        "outputId": "543dde57-6484-49f6-f7ba-2d1385aa89b5"
      },
      "execution_count": 66,
      "outputs": [
        {
          "output_type": "execute_result",
          "data": {
            "text/plain": [
              "tensor([[5., 2., 3., 4., 5., 6., 7., 8., 9.]])"
            ]
          },
          "metadata": {},
          "execution_count": 66
        }
      ]
    },
    {
      "cell_type": "code",
      "source": [
        "x_reshaped.shape"
      ],
      "metadata": {
        "colab": {
          "base_uri": "https://localhost:8080/"
        },
        "id": "k5sTfJ4Yp44a",
        "outputId": "784e1483-4a9f-4ec2-c952-17a34751eb6d"
      },
      "execution_count": 67,
      "outputs": [
        {
          "output_type": "execute_result",
          "data": {
            "text/plain": [
              "torch.Size([1, 9])"
            ]
          },
          "metadata": {},
          "execution_count": 67
        }
      ]
    },
    {
      "cell_type": "code",
      "source": [
        "x_reshaped.squeeze()"
      ],
      "metadata": {
        "colab": {
          "base_uri": "https://localhost:8080/"
        },
        "id": "CPChqL_pptv0",
        "outputId": "e25f3f35-096a-4ec8-d8d7-10844ce1cb11"
      },
      "execution_count": 65,
      "outputs": [
        {
          "output_type": "execute_result",
          "data": {
            "text/plain": [
              "tensor([5., 2., 3., 4., 5., 6., 7., 8., 9.])"
            ]
          },
          "metadata": {},
          "execution_count": 65
        }
      ]
    },
    {
      "cell_type": "code",
      "source": [
        "x_reshaped.squeeze().shape"
      ],
      "metadata": {
        "colab": {
          "base_uri": "https://localhost:8080/"
        },
        "id": "OeOCJojDpwpI",
        "outputId": "e9702503-8f26-4ac9-d759-cf996619e5eb"
      },
      "execution_count": 68,
      "outputs": [
        {
          "output_type": "execute_result",
          "data": {
            "text/plain": [
              "torch.Size([9])"
            ]
          },
          "metadata": {},
          "execution_count": 68
        }
      ]
    },
    {
      "cell_type": "code",
      "source": [
        "print(f'previous tensor:{x_reshaped}')\n",
        "print(f'previous shape:{x_reshaped.shape}')\n",
        "\n",
        "#remove extra dimensions from x_reshaped\n",
        "x_squeezed = x_reshaped.squeeze()\n",
        "print(f'\\nnew tensor: {x_squeezed}')\n",
        "print(f'new shape: {x_squeezed.shape}')"
      ],
      "metadata": {
        "colab": {
          "base_uri": "https://localhost:8080/"
        },
        "id": "YTaugXqCp9A5",
        "outputId": "ff178dcc-8cb3-4a7d-c0e8-f53dba8c0c23"
      },
      "execution_count": 69,
      "outputs": [
        {
          "output_type": "stream",
          "name": "stdout",
          "text": [
            "previous tensor:tensor([[5., 2., 3., 4., 5., 6., 7., 8., 9.]])\n",
            "previous shape:torch.Size([1, 9])\n",
            "\n",
            "new tensor: tensor([5., 2., 3., 4., 5., 6., 7., 8., 9.])\n",
            "new shape: torch.Size([9])\n"
          ]
        }
      ]
    },
    {
      "cell_type": "code",
      "source": [
        "#torch unsqueeze - adds a single dimension to a target tensor at a specific dim\n",
        "print(f'previous target: {x_squeezed}')\n",
        "print(f'previous shape: {x_squeezed.shape}')\n",
        "\n",
        "#add an extra dimension with the unsqueeze\n",
        "x_unsqueezed = x_squeezed.unsqueeze(dim=0)\n",
        "print(f'\\nnew tensor: {x_unsqueezed}')\n",
        "print(f'new tensor: {x_unsqueezed.shape}')"
      ],
      "metadata": {
        "colab": {
          "base_uri": "https://localhost:8080/"
        },
        "id": "Nq8eHbVlqiFX",
        "outputId": "63477dd8-0e2a-416d-aa14-06c2e65345a7"
      },
      "execution_count": 73,
      "outputs": [
        {
          "output_type": "stream",
          "name": "stdout",
          "text": [
            "previous target: tensor([5., 2., 3., 4., 5., 6., 7., 8., 9.])\n",
            "previous shape: torch.Size([9])\n",
            "\n",
            "new tensor: tensor([[5., 2., 3., 4., 5., 6., 7., 8., 9.]])\n",
            "new tensor: torch.Size([1, 9])\n"
          ]
        }
      ]
    },
    {
      "cell_type": "code",
      "source": [
        "# for another dim\n",
        "\n",
        "#torch unsqueeze - adds a single dimension to a target tensor at a specific dim\n",
        "print(f'previous target: {x_squeezed}')\n",
        "print(f'previous shape: {x_squeezed.shape}')\n",
        "\n",
        "#add an extra dimension with the unsqueeze\n",
        "x_unsqueezed = x_squeezed.unsqueeze(dim=1)\n",
        "print(f'\\nnew tensor: {x_unsqueezed}')\n",
        "print(f'new tensor: {x_unsqueezed.shape}')"
      ],
      "metadata": {
        "colab": {
          "base_uri": "https://localhost:8080/"
        },
        "id": "B9Z_p6-nrXf7",
        "outputId": "cfacd318-109c-4134-bd93-7150e2dffee4"
      },
      "execution_count": 75,
      "outputs": [
        {
          "output_type": "stream",
          "name": "stdout",
          "text": [
            "previous target: tensor([5., 2., 3., 4., 5., 6., 7., 8., 9.])\n",
            "previous shape: torch.Size([9])\n",
            "\n",
            "new tensor: tensor([[5.],\n",
            "        [2.],\n",
            "        [3.],\n",
            "        [4.],\n",
            "        [5.],\n",
            "        [6.],\n",
            "        [7.],\n",
            "        [8.],\n",
            "        [9.]])\n",
            "new tensor: torch.Size([9, 1])\n"
          ]
        }
      ]
    },
    {
      "cell_type": "code",
      "source": [
        "# torch.permute - reaaranges the dimensions of a target tensor in a specified order.\n",
        "\n",
        "x_original = torch.rand(size=(224,224,3)) #height,width,color channels\n",
        "\n",
        "#permute the original tensor to rearrange the axis order\n",
        "x_permuted = x_original.permute(2 , 0 , 1)\n",
        "\n",
        "print(f'previous shape: {x_original.shape}')\n",
        "print(f'new shape: {x_permuted.shape}') #color channels, height, weight"
      ],
      "metadata": {
        "colab": {
          "base_uri": "https://localhost:8080/"
        },
        "id": "lIG889SlrmAY",
        "outputId": "66cbfcfb-cf78-4a92-f43b-850a0f8b6d7c"
      },
      "execution_count": 78,
      "outputs": [
        {
          "output_type": "stream",
          "name": "stdout",
          "text": [
            "previous shape: torch.Size([224, 224, 3])\n",
            "new shape: torch.Size([3, 224, 224])\n"
          ]
        }
      ]
    },
    {
      "cell_type": "code",
      "source": [
        "x_original[0,0,0] = 10"
      ],
      "metadata": {
        "id": "ZiCGWIwasPaE"
      },
      "execution_count": 81,
      "outputs": []
    },
    {
      "cell_type": "code",
      "source": [
        "x_permuted[0,0,0]"
      ],
      "metadata": {
        "colab": {
          "base_uri": "https://localhost:8080/"
        },
        "id": "HwC7tNsLs_Z4",
        "outputId": "cf4d5f0f-5f61-41d2-cafb-fa2a973bbada"
      },
      "execution_count": 84,
      "outputs": [
        {
          "output_type": "execute_result",
          "data": {
            "text/plain": [
              "tensor(10.)"
            ]
          },
          "metadata": {},
          "execution_count": 84
        }
      ]
    },
    {
      "cell_type": "markdown",
      "source": [
        "#Indexing"
      ],
      "metadata": {
        "id": "o02e2f6h7vMZ"
      }
    },
    {
      "cell_type": "code",
      "source": [
        "x = torch.arange(1,10).reshape(1,3,3)\n",
        "x , x.shape"
      ],
      "metadata": {
        "colab": {
          "base_uri": "https://localhost:8080/"
        },
        "id": "ypzgQtCKtemJ",
        "outputId": "3ead8baf-f628-48e1-a762-86b45597638d"
      },
      "execution_count": 86,
      "outputs": [
        {
          "output_type": "execute_result",
          "data": {
            "text/plain": [
              "(tensor([[[1, 2, 3],\n",
              "          [4, 5, 6],\n",
              "          [7, 8, 9]]]),\n",
              " torch.Size([1, 3, 3]))"
            ]
          },
          "metadata": {},
          "execution_count": 86
        }
      ]
    },
    {
      "cell_type": "code",
      "source": [
        "x[0]  #targets the outer bracket"
      ],
      "metadata": {
        "colab": {
          "base_uri": "https://localhost:8080/"
        },
        "id": "LHLdFbXut7Et",
        "outputId": "4cf0d3de-2612-48ff-d1be-5dc214aa7269"
      },
      "execution_count": 87,
      "outputs": [
        {
          "output_type": "execute_result",
          "data": {
            "text/plain": [
              "tensor([[1, 2, 3],\n",
              "        [4, 5, 6],\n",
              "        [7, 8, 9]])"
            ]
          },
          "metadata": {},
          "execution_count": 87
        }
      ]
    },
    {
      "cell_type": "code",
      "source": [
        "#targets on the middle bracket\n",
        "x[0][0]"
      ],
      "metadata": {
        "colab": {
          "base_uri": "https://localhost:8080/"
        },
        "id": "ueXk2qSYuAbn",
        "outputId": "6821ebd9-cfc8-4c58-e16b-2796b6dad0dd"
      },
      "execution_count": 88,
      "outputs": [
        {
          "output_type": "execute_result",
          "data": {
            "text/plain": [
              "tensor([1, 2, 3])"
            ]
          },
          "metadata": {},
          "execution_count": 88
        }
      ]
    },
    {
      "cell_type": "code",
      "source": [
        "x[0][0][0] #targets the inner bracket"
      ],
      "metadata": {
        "colab": {
          "base_uri": "https://localhost:8080/"
        },
        "id": "WnUmceRKuLB0",
        "outputId": "c46aba73-77dc-4373-b9e3-732057c5ea47"
      },
      "execution_count": 89,
      "outputs": [
        {
          "output_type": "execute_result",
          "data": {
            "text/plain": [
              "tensor(1)"
            ]
          },
          "metadata": {},
          "execution_count": 89
        }
      ]
    },
    {
      "cell_type": "code",
      "source": [
        "x[1][1][1] #because the first dim ran out, it can only give 0"
      ],
      "metadata": {
        "colab": {
          "base_uri": "https://localhost:8080/",
          "height": 141
        },
        "id": "_pebouvguWCP",
        "outputId": "e8a5f70d-2a0c-47b6-8de1-45fa0e899f3f"
      },
      "execution_count": 92,
      "outputs": [
        {
          "output_type": "error",
          "ename": "IndexError",
          "evalue": "index 1 is out of bounds for dimension 0 with size 1",
          "traceback": [
            "\u001b[0;31m---------------------------------------------------------------------------\u001b[0m",
            "\u001b[0;31mIndexError\u001b[0m                                Traceback (most recent call last)",
            "\u001b[0;32m<ipython-input-92-e270b96106f3>\u001b[0m in \u001b[0;36m<cell line: 1>\u001b[0;34m()\u001b[0m\n\u001b[0;32m----> 1\u001b[0;31m \u001b[0mx\u001b[0m\u001b[0;34m[\u001b[0m\u001b[0;36m1\u001b[0m\u001b[0;34m]\u001b[0m\u001b[0;34m[\u001b[0m\u001b[0;36m1\u001b[0m\u001b[0;34m]\u001b[0m\u001b[0;34m[\u001b[0m\u001b[0;36m1\u001b[0m\u001b[0;34m]\u001b[0m\u001b[0;34m\u001b[0m\u001b[0;34m\u001b[0m\u001b[0m\n\u001b[0m",
            "\u001b[0;31mIndexError\u001b[0m: index 1 is out of bounds for dimension 0 with size 1"
          ]
        }
      ]
    },
    {
      "cell_type": "code",
      "source": [
        "x[:,0]"
      ],
      "metadata": {
        "colab": {
          "base_uri": "https://localhost:8080/"
        },
        "id": "HN9Ksa_0uoHS",
        "outputId": "521043d1-6823-43e6-b68e-3d22505c0fcf"
      },
      "execution_count": 95,
      "outputs": [
        {
          "output_type": "execute_result",
          "data": {
            "text/plain": [
              "tensor([[1, 2, 3]])"
            ]
          },
          "metadata": {},
          "execution_count": 95
        }
      ]
    },
    {
      "cell_type": "code",
      "source": [
        "x[:,:,1]"
      ],
      "metadata": {
        "colab": {
          "base_uri": "https://localhost:8080/"
        },
        "id": "ZbSDascNvHJ6",
        "outputId": "65356a8e-90cd-4f43-e7a7-49e9c799ac73"
      },
      "execution_count": 96,
      "outputs": [
        {
          "output_type": "execute_result",
          "data": {
            "text/plain": [
              "tensor([[2, 5, 8]])"
            ]
          },
          "metadata": {},
          "execution_count": 96
        }
      ]
    },
    {
      "cell_type": "code",
      "source": [
        "x[:,1,1]"
      ],
      "metadata": {
        "colab": {
          "base_uri": "https://localhost:8080/"
        },
        "id": "XxYBfJK8vUbk",
        "outputId": "78572d24-936b-495a-aeaa-747e3376d9aa"
      },
      "execution_count": 97,
      "outputs": [
        {
          "output_type": "execute_result",
          "data": {
            "text/plain": [
              "tensor([5])"
            ]
          },
          "metadata": {},
          "execution_count": 97
        }
      ]
    },
    {
      "cell_type": "code",
      "source": [
        "x[0,0,:]"
      ],
      "metadata": {
        "colab": {
          "base_uri": "https://localhost:8080/"
        },
        "id": "KFVp_Z4ivwU9",
        "outputId": "cfed4bb9-79dc-462c-9b75-923801fdc293"
      },
      "execution_count": 98,
      "outputs": [
        {
          "output_type": "execute_result",
          "data": {
            "text/plain": [
              "tensor([1, 2, 3])"
            ]
          },
          "metadata": {},
          "execution_count": 98
        }
      ]
    },
    {
      "cell_type": "code",
      "source": [
        "#index on x to return 9\n",
        "#index on x to return 3,6,9\n",
        "x\n"
      ],
      "metadata": {
        "colab": {
          "base_uri": "https://localhost:8080/"
        },
        "id": "PzBpCD25v8Y3",
        "outputId": "85bf9cbe-e867-4d87-f5aa-2eeefbe5e5a2"
      },
      "execution_count": 101,
      "outputs": [
        {
          "output_type": "execute_result",
          "data": {
            "text/plain": [
              "tensor([[[1, 2, 3],\n",
              "         [4, 5, 6],\n",
              "         [7, 8, 9]]])"
            ]
          },
          "metadata": {},
          "execution_count": 101
        }
      ]
    },
    {
      "cell_type": "code",
      "source": [
        "x[:,2,2]"
      ],
      "metadata": {
        "colab": {
          "base_uri": "https://localhost:8080/"
        },
        "id": "gxmyDLjrwOCb",
        "outputId": "a8a9486f-bd82-48b0-82ae-0df2556a120d"
      },
      "execution_count": 102,
      "outputs": [
        {
          "output_type": "execute_result",
          "data": {
            "text/plain": [
              "tensor([9])"
            ]
          },
          "metadata": {},
          "execution_count": 102
        }
      ]
    },
    {
      "cell_type": "code",
      "source": [
        "x[:,:,2]"
      ],
      "metadata": {
        "colab": {
          "base_uri": "https://localhost:8080/"
        },
        "id": "vBYvIyr8wWGJ",
        "outputId": "f2c943e6-84f0-48f5-d785-76d6d4759dcc"
      },
      "execution_count": 103,
      "outputs": [
        {
          "output_type": "execute_result",
          "data": {
            "text/plain": [
              "tensor([[3, 6, 9]])"
            ]
          },
          "metadata": {},
          "execution_count": 103
        }
      ]
    },
    {
      "cell_type": "markdown",
      "source": [
        "#PyTorch and Numpy\n",
        "\n",
        "Numpy is a popular scientific Python numerical computing library.\n",
        "\n",
        "and because of this, Pytorch has functionality to interact with it.\n",
        "\n",
        "data in numpy,want it in Tensor --> torch.from_numpy(ndarray)\n",
        "\n",
        "PyTorch tensor, in NumPy --> torch.tensor.numpy()"
      ],
      "metadata": {
        "id": "xdMwoqlIwnV4"
      }
    },
    {
      "cell_type": "code",
      "source": [
        "import torch\n",
        "import numpy as np\n",
        "\n",
        "array = np.arange(1.0,8.0)\n",
        "tensor = torch.from_numpy(array)\n",
        "array , tensor"
      ],
      "metadata": {
        "colab": {
          "base_uri": "https://localhost:8080/"
        },
        "id": "6qxkqdHAweV_",
        "outputId": "e78a8826-2de0-405d-8956-f61e1d69866d"
      },
      "execution_count": 104,
      "outputs": [
        {
          "output_type": "execute_result",
          "data": {
            "text/plain": [
              "(array([1., 2., 3., 4., 5., 6., 7.]),\n",
              " tensor([1., 2., 3., 4., 5., 6., 7.], dtype=torch.float64))"
            ]
          },
          "metadata": {},
          "execution_count": 104
        }
      ]
    },
    {
      "cell_type": "code",
      "source": [
        "#why tensor dtype is float64?\n",
        "#because the default numpy array dtype is float64 and PyTorch reflects that in the tensor\n",
        "array.dtype"
      ],
      "metadata": {
        "colab": {
          "base_uri": "https://localhost:8080/"
        },
        "id": "e2mqKZRbxdMH",
        "outputId": "99935c7d-7540-4cd1-9b0b-5c49f2fff68a"
      },
      "execution_count": 105,
      "outputs": [
        {
          "output_type": "execute_result",
          "data": {
            "text/plain": [
              "dtype('float64')"
            ]
          },
          "metadata": {},
          "execution_count": 105
        }
      ]
    },
    {
      "cell_type": "code",
      "source": [
        "#changing the data type\n",
        "array = np.arange(1.0,8.0)\n",
        "tensor = torch.from_numpy(array).type(torch.float32)\n",
        "array , tensor"
      ],
      "metadata": {
        "colab": {
          "base_uri": "https://localhost:8080/"
        },
        "id": "OjXvxDKpxmwP",
        "outputId": "d17b43cd-f31f-4292-8196-9a10a317180f"
      },
      "execution_count": 107,
      "outputs": [
        {
          "output_type": "execute_result",
          "data": {
            "text/plain": [
              "(array([1., 2., 3., 4., 5., 6., 7.]), tensor([1., 2., 3., 4., 5., 6., 7.]))"
            ]
          },
          "metadata": {},
          "execution_count": 107
        }
      ]
    },
    {
      "cell_type": "code",
      "source": [
        "#change the value of array , it doesn't chnge the value of the tensor\n",
        "\n",
        "array = array+1\n",
        "array , tensor"
      ],
      "metadata": {
        "colab": {
          "base_uri": "https://localhost:8080/"
        },
        "id": "uXXBMeKzyhWY",
        "outputId": "69885d72-30fc-4d25-eaa7-95809eae2cad"
      },
      "execution_count": 108,
      "outputs": [
        {
          "output_type": "execute_result",
          "data": {
            "text/plain": [
              "(array([2., 3., 4., 5., 6., 7., 8.]), tensor([1., 2., 3., 4., 5., 6., 7.]))"
            ]
          },
          "metadata": {},
          "execution_count": 108
        }
      ]
    },
    {
      "cell_type": "code",
      "source": [
        "#tensor to numpy\n",
        "\n",
        "tensor = torch.ones(9)\n",
        "numpy_tensor = tensor.numpy()\n",
        "\n",
        "tensor , numpy_tensor"
      ],
      "metadata": {
        "colab": {
          "base_uri": "https://localhost:8080/"
        },
        "id": "QWEzyYqcy2xr",
        "outputId": "c886f078-fb07-4154-be24-50acf56befeb"
      },
      "execution_count": 110,
      "outputs": [
        {
          "output_type": "execute_result",
          "data": {
            "text/plain": [
              "(tensor([1., 1., 1., 1., 1., 1., 1., 1., 1.]),\n",
              " array([1., 1., 1., 1., 1., 1., 1., 1., 1.], dtype=float32))"
            ]
          },
          "metadata": {},
          "execution_count": 110
        }
      ]
    },
    {
      "cell_type": "code",
      "source": [
        "numpy_tensor.dtype"
      ],
      "metadata": {
        "colab": {
          "base_uri": "https://localhost:8080/"
        },
        "id": "v0ILL5u5zCgF",
        "outputId": "a9f8907d-304f-40c7-e014-91e809e65a7f"
      },
      "execution_count": 111,
      "outputs": [
        {
          "output_type": "execute_result",
          "data": {
            "text/plain": [
              "dtype('float32')"
            ]
          },
          "metadata": {},
          "execution_count": 111
        }
      ]
    },
    {
      "cell_type": "code",
      "source": [
        "#change the value of tensor, numpy tensor remains the same.\n",
        "\n",
        "tensor = tensor+1\n",
        "numpy_tensor\n",
        "\n",
        "tensor , numpy_tensor"
      ],
      "metadata": {
        "colab": {
          "base_uri": "https://localhost:8080/"
        },
        "id": "TwDMwqcaza-n",
        "outputId": "e0373419-9590-4206-f61b-6d447e0c4bb8"
      },
      "execution_count": 112,
      "outputs": [
        {
          "output_type": "execute_result",
          "data": {
            "text/plain": [
              "(tensor([2., 2., 2., 2., 2., 2., 2., 2., 2.]),\n",
              " array([1., 1., 1., 1., 1., 1., 1., 1., 1.], dtype=float32))"
            ]
          },
          "metadata": {},
          "execution_count": 112
        }
      ]
    },
    {
      "cell_type": "markdown",
      "source": [
        "#PyTorch Reproducibility\n",
        "\n",
        "\n",
        "trying to take the random out of the random."
      ],
      "metadata": {
        "id": "JnZ2sVVG0TIL"
      }
    },
    {
      "cell_type": "code",
      "source": [
        "torch.rand(3,3)"
      ],
      "metadata": {
        "colab": {
          "base_uri": "https://localhost:8080/"
        },
        "id": "_vctYohX0AqH",
        "outputId": "98f1e146-204e-4c59-db37-d556d449a08b"
      },
      "execution_count": 113,
      "outputs": [
        {
          "output_type": "execute_result",
          "data": {
            "text/plain": [
              "tensor([[0.2892, 0.9250, 0.9060],\n",
              "        [0.7588, 0.6132, 0.4194],\n",
              "        [0.8783, 0.9250, 0.0317]])"
            ]
          },
          "metadata": {},
          "execution_count": 113
        }
      ]
    },
    {
      "cell_type": "code",
      "source": [
        "#random seed adds flavour to the randomness.\n",
        "\n",
        "random_tensor_A = torch.rand(3,4)\n",
        "random_tensor_B = torch.rand(3,4)\n",
        "\n",
        "print(random_tensor_A)\n",
        "print(random_tensor_B)\n",
        "print(random_tensor_A == random_tensor_B)"
      ],
      "metadata": {
        "colab": {
          "base_uri": "https://localhost:8080/"
        },
        "id": "NxFuk8zA0ke9",
        "outputId": "f33e8fda-aa3e-4bc1-9fd6-ab7d64445654"
      },
      "execution_count": 114,
      "outputs": [
        {
          "output_type": "stream",
          "name": "stdout",
          "text": [
            "tensor([[0.6499, 0.1114, 0.2684, 0.7832],\n",
            "        [0.2595, 0.5063, 0.8186, 0.7166],\n",
            "        [0.7415, 0.2738, 0.2199, 0.5393]])\n",
            "tensor([[0.3880, 0.3552, 0.5832, 0.3692],\n",
            "        [0.6369, 0.2100, 0.0253, 0.7033],\n",
            "        [0.5259, 0.1655, 0.7611, 0.3474]])\n",
            "tensor([[False, False, False, False],\n",
            "        [False, False, False, False],\n",
            "        [False, False, False, False]])\n"
          ]
        }
      ]
    },
    {
      "cell_type": "code",
      "source": [
        "# making random but reproducible tensors\n",
        "\n",
        "#set the random seed\n",
        "random_seed = 42\n",
        "torch.manual_seed(random_seed)\n",
        "\n",
        "random_tensor_C = torch.rand(3,4)\n",
        "random_tensor_D = torch.rand(3,4)\n",
        "\n",
        "print(random_tensor_C)\n",
        "print(random_tensor_D)\n",
        "print(random_tensor_C == random_tensor_D)"
      ],
      "metadata": {
        "colab": {
          "base_uri": "https://localhost:8080/"
        },
        "id": "ECGeY02w1b9G",
        "outputId": "dbad014a-2d78-48a6-d22b-91503cd5e3f2"
      },
      "execution_count": 117,
      "outputs": [
        {
          "output_type": "stream",
          "name": "stdout",
          "text": [
            "tensor([[0.8823, 0.9150, 0.3829, 0.9593],\n",
            "        [0.3904, 0.6009, 0.2566, 0.7936],\n",
            "        [0.9408, 0.1332, 0.9346, 0.5936]])\n",
            "tensor([[0.8694, 0.5677, 0.7411, 0.4294],\n",
            "        [0.8854, 0.5739, 0.2666, 0.6274],\n",
            "        [0.2696, 0.4414, 0.2969, 0.8317]])\n",
            "tensor([[False, False, False, False],\n",
            "        [False, False, False, False],\n",
            "        [False, False, False, False]])\n"
          ]
        }
      ]
    },
    {
      "cell_type": "code",
      "source": [
        "#still no random numbers matched , so we can used random seed before calling the random tensors\n",
        "\n",
        "\n",
        "random_seed = 42\n",
        "torch.manual_seed(random_seed)\n",
        "\n",
        "random_tensor_C = torch.rand(3,4)\n",
        "\n",
        "torch.manual_seed(random_seed)\n",
        "random_tensor_D = torch.rand(3,4)\n",
        "\n",
        "print(random_tensor_C)\n",
        "print(random_tensor_D)\n",
        "print(random_tensor_C == random_tensor_D)"
      ],
      "metadata": {
        "colab": {
          "base_uri": "https://localhost:8080/"
        },
        "id": "mKwt9H-72T0n",
        "outputId": "9a81b60f-e41d-4fcd-acdb-dee5632eb555"
      },
      "execution_count": 118,
      "outputs": [
        {
          "output_type": "stream",
          "name": "stdout",
          "text": [
            "tensor([[0.8823, 0.9150, 0.3829, 0.9593],\n",
            "        [0.3904, 0.6009, 0.2566, 0.7936],\n",
            "        [0.9408, 0.1332, 0.9346, 0.5936]])\n",
            "tensor([[0.8823, 0.9150, 0.3829, 0.9593],\n",
            "        [0.3904, 0.6009, 0.2566, 0.7936],\n",
            "        [0.9408, 0.1332, 0.9346, 0.5936]])\n",
            "tensor([[True, True, True, True],\n",
            "        [True, True, True, True],\n",
            "        [True, True, True, True]])\n"
          ]
        }
      ]
    },
    {
      "cell_type": "code",
      "source": [
        "# random seed makes torch.rand reproducibility\n",
        "#refer to PyTorch.org reproducibility"
      ],
      "metadata": {
        "id": "CKjQPYhj2xfX"
      },
      "execution_count": null,
      "outputs": []
    },
    {
      "cell_type": "markdown",
      "source": [
        "#Different ways of accessing GPUs for faster computations\n",
        "\n",
        "\n",
        "GPU = Faster computation on numbers\n",
        "\n",
        "getting a GPU:\n",
        "* google colab GPU for free\n",
        "* own GPU setup\n",
        "* use cloud computing"
      ],
      "metadata": {
        "id": "0Ymuf5_t3YGk"
      }
    },
    {
      "cell_type": "code",
      "source": [
        "import torch\n",
        "torch.cuda.is_available()"
      ],
      "metadata": {
        "colab": {
          "base_uri": "https://localhost:8080/"
        },
        "id": "j79x7yLz3kSB",
        "outputId": "0470a1b0-43bf-45cb-8660-046e7f6eae06"
      },
      "execution_count": 119,
      "outputs": [
        {
          "output_type": "execute_result",
          "data": {
            "text/plain": [
              "False"
            ]
          },
          "metadata": {},
          "execution_count": 119
        }
      ]
    },
    {
      "cell_type": "code",
      "source": [
        "device = 'cuda' if torch.cuda.is_available() else 'cpu'\n",
        "device"
      ],
      "metadata": {
        "colab": {
          "base_uri": "https://localhost:8080/",
          "height": 35
        },
        "id": "_t7yqm6v4MCx",
        "outputId": "a74b9d8d-d232-4e9f-830e-6eff9fb9bf63"
      },
      "execution_count": 121,
      "outputs": [
        {
          "output_type": "execute_result",
          "data": {
            "text/plain": [
              "'cpu'"
            ],
            "application/vnd.google.colaboratory.intrinsic+json": {
              "type": "string"
            }
          },
          "metadata": {},
          "execution_count": 121
        }
      ]
    },
    {
      "cell_type": "code",
      "source": [
        "#count the number of devices\n",
        "torch.cuda.device_count()"
      ],
      "metadata": {
        "colab": {
          "base_uri": "https://localhost:8080/"
        },
        "id": "hcz30nUw4gAV",
        "outputId": "0e6a76de-3d91-4bf9-e3c4-1cbfd102b015"
      },
      "execution_count": 122,
      "outputs": [
        {
          "output_type": "execute_result",
          "data": {
            "text/plain": [
              "0"
            ]
          },
          "metadata": {},
          "execution_count": 122
        }
      ]
    },
    {
      "cell_type": "code",
      "source": [
        "#create a tensor(on CPU)\n",
        "tensor = torch.tensor([1,2,3])\n",
        "\n",
        "#tensor not on GPU\n",
        "print(tensor , tensor.device)"
      ],
      "metadata": {
        "colab": {
          "base_uri": "https://localhost:8080/"
        },
        "id": "NvWIuDLJ4rYD",
        "outputId": "e7286f48-bf28-41e7-97d5-c109fa1fc47a"
      },
      "execution_count": 123,
      "outputs": [
        {
          "output_type": "stream",
          "name": "stdout",
          "text": [
            "tensor([1, 2, 3]) cpu\n"
          ]
        }
      ]
    },
    {
      "cell_type": "code",
      "source": [
        "tensor_on_gpu = tensor.to(device)\n",
        "tensor_on_gpu"
      ],
      "metadata": {
        "colab": {
          "base_uri": "https://localhost:8080/"
        },
        "id": "7wdTLis65g4j",
        "outputId": "5eae5fc9-692f-4b17-d0bd-a4a970c6df32"
      },
      "execution_count": 124,
      "outputs": [
        {
          "output_type": "execute_result",
          "data": {
            "text/plain": [
              "tensor([1, 2, 3])"
            ]
          },
          "metadata": {},
          "execution_count": 124
        }
      ]
    },
    {
      "cell_type": "code",
      "source": [
        "#moving back to cpu\n",
        "tensor_on_gpu.numpy() #to fix errors\n"
      ],
      "metadata": {
        "colab": {
          "base_uri": "https://localhost:8080/"
        },
        "id": "WcVc-vp85p88",
        "outputId": "080a79d2-20f0-4be6-aedf-a6c48c0b028b"
      },
      "execution_count": 125,
      "outputs": [
        {
          "output_type": "execute_result",
          "data": {
            "text/plain": [
              "array([1, 2, 3])"
            ]
          },
          "metadata": {},
          "execution_count": 125
        }
      ]
    },
    {
      "cell_type": "code",
      "source": [
        "tensor_back_on_cpu = tensor_on_gpu.cpu().numpy()\n",
        "tensor_back_on_cpu"
      ],
      "metadata": {
        "colab": {
          "base_uri": "https://localhost:8080/"
        },
        "id": "k9VcPRP4527S",
        "outputId": "aae24ff7-a5de-4771-bb79-b0a3eb294380"
      },
      "execution_count": 126,
      "outputs": [
        {
          "output_type": "execute_result",
          "data": {
            "text/plain": [
              "array([1, 2, 3])"
            ]
          },
          "metadata": {},
          "execution_count": 126
        }
      ]
    },
    {
      "cell_type": "code",
      "source": [],
      "metadata": {
        "id": "mEpLKgWL6OWG"
      },
      "execution_count": null,
      "outputs": []
    }
  ]
}