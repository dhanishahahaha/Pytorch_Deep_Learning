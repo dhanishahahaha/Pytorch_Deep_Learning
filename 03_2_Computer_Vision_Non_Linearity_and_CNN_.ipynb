{
  "nbformat": 4,
  "nbformat_minor": 0,
  "metadata": {
    "colab": {
      "provenance": []
    },
    "kernelspec": {
      "name": "python3",
      "display_name": "Python 3"
    },
    "language_info": {
      "name": "python"
    },
    "widgets": {
      "application/vnd.jupyter.widget-state+json": {
        "f0c3d98d22f4420a89845bdf15f4df92": {
          "model_module": "@jupyter-widgets/controls",
          "model_name": "HBoxModel",
          "model_module_version": "1.5.0",
          "state": {
            "_dom_classes": [],
            "_model_module": "@jupyter-widgets/controls",
            "_model_module_version": "1.5.0",
            "_model_name": "HBoxModel",
            "_view_count": null,
            "_view_module": "@jupyter-widgets/controls",
            "_view_module_version": "1.5.0",
            "_view_name": "HBoxView",
            "box_style": "",
            "children": [
              "IPY_MODEL_1ad7f7dbef214513bc09f0610e555b8e",
              "IPY_MODEL_0026d2f42d9c4f68b27463a72330fcdf",
              "IPY_MODEL_58cd492804b2430e978f4e517482bf9a"
            ],
            "layout": "IPY_MODEL_0a84d69c8eee45d397bef62e8ccbd0cc"
          }
        },
        "1ad7f7dbef214513bc09f0610e555b8e": {
          "model_module": "@jupyter-widgets/controls",
          "model_name": "HTMLModel",
          "model_module_version": "1.5.0",
          "state": {
            "_dom_classes": [],
            "_model_module": "@jupyter-widgets/controls",
            "_model_module_version": "1.5.0",
            "_model_name": "HTMLModel",
            "_view_count": null,
            "_view_module": "@jupyter-widgets/controls",
            "_view_module_version": "1.5.0",
            "_view_name": "HTMLView",
            "description": "",
            "description_tooltip": null,
            "layout": "IPY_MODEL_9d319e9dc19c437483145033232f7d93",
            "placeholder": "​",
            "style": "IPY_MODEL_1ff9259ebc9241988f8f1f04b42bac71",
            "value": "100%"
          }
        },
        "0026d2f42d9c4f68b27463a72330fcdf": {
          "model_module": "@jupyter-widgets/controls",
          "model_name": "FloatProgressModel",
          "model_module_version": "1.5.0",
          "state": {
            "_dom_classes": [],
            "_model_module": "@jupyter-widgets/controls",
            "_model_module_version": "1.5.0",
            "_model_name": "FloatProgressModel",
            "_view_count": null,
            "_view_module": "@jupyter-widgets/controls",
            "_view_module_version": "1.5.0",
            "_view_name": "ProgressView",
            "bar_style": "success",
            "description": "",
            "description_tooltip": null,
            "layout": "IPY_MODEL_76f64e43cf314b808334884d3bf4c7ff",
            "max": 3,
            "min": 0,
            "orientation": "horizontal",
            "style": "IPY_MODEL_388a1de926b5456e8b4ac48814fd53c0",
            "value": 3
          }
        },
        "58cd492804b2430e978f4e517482bf9a": {
          "model_module": "@jupyter-widgets/controls",
          "model_name": "HTMLModel",
          "model_module_version": "1.5.0",
          "state": {
            "_dom_classes": [],
            "_model_module": "@jupyter-widgets/controls",
            "_model_module_version": "1.5.0",
            "_model_name": "HTMLModel",
            "_view_count": null,
            "_view_module": "@jupyter-widgets/controls",
            "_view_module_version": "1.5.0",
            "_view_name": "HTMLView",
            "description": "",
            "description_tooltip": null,
            "layout": "IPY_MODEL_a719f4225bc3479ea26c444ecbd49ab4",
            "placeholder": "​",
            "style": "IPY_MODEL_f7bd52f7912e43df970bef463c9b3773",
            "value": " 3/3 [00:34&lt;00:00, 11.44s/it]"
          }
        },
        "0a84d69c8eee45d397bef62e8ccbd0cc": {
          "model_module": "@jupyter-widgets/base",
          "model_name": "LayoutModel",
          "model_module_version": "1.2.0",
          "state": {
            "_model_module": "@jupyter-widgets/base",
            "_model_module_version": "1.2.0",
            "_model_name": "LayoutModel",
            "_view_count": null,
            "_view_module": "@jupyter-widgets/base",
            "_view_module_version": "1.2.0",
            "_view_name": "LayoutView",
            "align_content": null,
            "align_items": null,
            "align_self": null,
            "border": null,
            "bottom": null,
            "display": null,
            "flex": null,
            "flex_flow": null,
            "grid_area": null,
            "grid_auto_columns": null,
            "grid_auto_flow": null,
            "grid_auto_rows": null,
            "grid_column": null,
            "grid_gap": null,
            "grid_row": null,
            "grid_template_areas": null,
            "grid_template_columns": null,
            "grid_template_rows": null,
            "height": null,
            "justify_content": null,
            "justify_items": null,
            "left": null,
            "margin": null,
            "max_height": null,
            "max_width": null,
            "min_height": null,
            "min_width": null,
            "object_fit": null,
            "object_position": null,
            "order": null,
            "overflow": null,
            "overflow_x": null,
            "overflow_y": null,
            "padding": null,
            "right": null,
            "top": null,
            "visibility": null,
            "width": null
          }
        },
        "9d319e9dc19c437483145033232f7d93": {
          "model_module": "@jupyter-widgets/base",
          "model_name": "LayoutModel",
          "model_module_version": "1.2.0",
          "state": {
            "_model_module": "@jupyter-widgets/base",
            "_model_module_version": "1.2.0",
            "_model_name": "LayoutModel",
            "_view_count": null,
            "_view_module": "@jupyter-widgets/base",
            "_view_module_version": "1.2.0",
            "_view_name": "LayoutView",
            "align_content": null,
            "align_items": null,
            "align_self": null,
            "border": null,
            "bottom": null,
            "display": null,
            "flex": null,
            "flex_flow": null,
            "grid_area": null,
            "grid_auto_columns": null,
            "grid_auto_flow": null,
            "grid_auto_rows": null,
            "grid_column": null,
            "grid_gap": null,
            "grid_row": null,
            "grid_template_areas": null,
            "grid_template_columns": null,
            "grid_template_rows": null,
            "height": null,
            "justify_content": null,
            "justify_items": null,
            "left": null,
            "margin": null,
            "max_height": null,
            "max_width": null,
            "min_height": null,
            "min_width": null,
            "object_fit": null,
            "object_position": null,
            "order": null,
            "overflow": null,
            "overflow_x": null,
            "overflow_y": null,
            "padding": null,
            "right": null,
            "top": null,
            "visibility": null,
            "width": null
          }
        },
        "1ff9259ebc9241988f8f1f04b42bac71": {
          "model_module": "@jupyter-widgets/controls",
          "model_name": "DescriptionStyleModel",
          "model_module_version": "1.5.0",
          "state": {
            "_model_module": "@jupyter-widgets/controls",
            "_model_module_version": "1.5.0",
            "_model_name": "DescriptionStyleModel",
            "_view_count": null,
            "_view_module": "@jupyter-widgets/base",
            "_view_module_version": "1.2.0",
            "_view_name": "StyleView",
            "description_width": ""
          }
        },
        "76f64e43cf314b808334884d3bf4c7ff": {
          "model_module": "@jupyter-widgets/base",
          "model_name": "LayoutModel",
          "model_module_version": "1.2.0",
          "state": {
            "_model_module": "@jupyter-widgets/base",
            "_model_module_version": "1.2.0",
            "_model_name": "LayoutModel",
            "_view_count": null,
            "_view_module": "@jupyter-widgets/base",
            "_view_module_version": "1.2.0",
            "_view_name": "LayoutView",
            "align_content": null,
            "align_items": null,
            "align_self": null,
            "border": null,
            "bottom": null,
            "display": null,
            "flex": null,
            "flex_flow": null,
            "grid_area": null,
            "grid_auto_columns": null,
            "grid_auto_flow": null,
            "grid_auto_rows": null,
            "grid_column": null,
            "grid_gap": null,
            "grid_row": null,
            "grid_template_areas": null,
            "grid_template_columns": null,
            "grid_template_rows": null,
            "height": null,
            "justify_content": null,
            "justify_items": null,
            "left": null,
            "margin": null,
            "max_height": null,
            "max_width": null,
            "min_height": null,
            "min_width": null,
            "object_fit": null,
            "object_position": null,
            "order": null,
            "overflow": null,
            "overflow_x": null,
            "overflow_y": null,
            "padding": null,
            "right": null,
            "top": null,
            "visibility": null,
            "width": null
          }
        },
        "388a1de926b5456e8b4ac48814fd53c0": {
          "model_module": "@jupyter-widgets/controls",
          "model_name": "ProgressStyleModel",
          "model_module_version": "1.5.0",
          "state": {
            "_model_module": "@jupyter-widgets/controls",
            "_model_module_version": "1.5.0",
            "_model_name": "ProgressStyleModel",
            "_view_count": null,
            "_view_module": "@jupyter-widgets/base",
            "_view_module_version": "1.2.0",
            "_view_name": "StyleView",
            "bar_color": null,
            "description_width": ""
          }
        },
        "a719f4225bc3479ea26c444ecbd49ab4": {
          "model_module": "@jupyter-widgets/base",
          "model_name": "LayoutModel",
          "model_module_version": "1.2.0",
          "state": {
            "_model_module": "@jupyter-widgets/base",
            "_model_module_version": "1.2.0",
            "_model_name": "LayoutModel",
            "_view_count": null,
            "_view_module": "@jupyter-widgets/base",
            "_view_module_version": "1.2.0",
            "_view_name": "LayoutView",
            "align_content": null,
            "align_items": null,
            "align_self": null,
            "border": null,
            "bottom": null,
            "display": null,
            "flex": null,
            "flex_flow": null,
            "grid_area": null,
            "grid_auto_columns": null,
            "grid_auto_flow": null,
            "grid_auto_rows": null,
            "grid_column": null,
            "grid_gap": null,
            "grid_row": null,
            "grid_template_areas": null,
            "grid_template_columns": null,
            "grid_template_rows": null,
            "height": null,
            "justify_content": null,
            "justify_items": null,
            "left": null,
            "margin": null,
            "max_height": null,
            "max_width": null,
            "min_height": null,
            "min_width": null,
            "object_fit": null,
            "object_position": null,
            "order": null,
            "overflow": null,
            "overflow_x": null,
            "overflow_y": null,
            "padding": null,
            "right": null,
            "top": null,
            "visibility": null,
            "width": null
          }
        },
        "f7bd52f7912e43df970bef463c9b3773": {
          "model_module": "@jupyter-widgets/controls",
          "model_name": "DescriptionStyleModel",
          "model_module_version": "1.5.0",
          "state": {
            "_model_module": "@jupyter-widgets/controls",
            "_model_module_version": "1.5.0",
            "_model_name": "DescriptionStyleModel",
            "_view_count": null,
            "_view_module": "@jupyter-widgets/base",
            "_view_module_version": "1.2.0",
            "_view_name": "StyleView",
            "description_width": ""
          }
        },
        "bd201a3d000c439aa064d8976c8b0157": {
          "model_module": "@jupyter-widgets/controls",
          "model_name": "HBoxModel",
          "model_module_version": "1.5.0",
          "state": {
            "_dom_classes": [],
            "_model_module": "@jupyter-widgets/controls",
            "_model_module_version": "1.5.0",
            "_model_name": "HBoxModel",
            "_view_count": null,
            "_view_module": "@jupyter-widgets/controls",
            "_view_module_version": "1.5.0",
            "_view_name": "HBoxView",
            "box_style": "",
            "children": [
              "IPY_MODEL_84b6c8069be245ca839815faea59d548",
              "IPY_MODEL_8b9c49fa793d4486b8f9fba734c73b2e",
              "IPY_MODEL_948734a793164770b422ab64497f45d4"
            ],
            "layout": "IPY_MODEL_d596130abee245028da3735caf8c5274"
          }
        },
        "84b6c8069be245ca839815faea59d548": {
          "model_module": "@jupyter-widgets/controls",
          "model_name": "HTMLModel",
          "model_module_version": "1.5.0",
          "state": {
            "_dom_classes": [],
            "_model_module": "@jupyter-widgets/controls",
            "_model_module_version": "1.5.0",
            "_model_name": "HTMLModel",
            "_view_count": null,
            "_view_module": "@jupyter-widgets/controls",
            "_view_module_version": "1.5.0",
            "_view_name": "HTMLView",
            "description": "",
            "description_tooltip": null,
            "layout": "IPY_MODEL_6d7b62a705d74e3592b87890fb28827a",
            "placeholder": "​",
            "style": "IPY_MODEL_a25f031920a54c4896b0e80ccbe7a017",
            "value": "100%"
          }
        },
        "8b9c49fa793d4486b8f9fba734c73b2e": {
          "model_module": "@jupyter-widgets/controls",
          "model_name": "FloatProgressModel",
          "model_module_version": "1.5.0",
          "state": {
            "_dom_classes": [],
            "_model_module": "@jupyter-widgets/controls",
            "_model_module_version": "1.5.0",
            "_model_name": "FloatProgressModel",
            "_view_count": null,
            "_view_module": "@jupyter-widgets/controls",
            "_view_module_version": "1.5.0",
            "_view_name": "ProgressView",
            "bar_style": "success",
            "description": "",
            "description_tooltip": null,
            "layout": "IPY_MODEL_6bed16e6d9b4420489597d6062f30b63",
            "max": 313,
            "min": 0,
            "orientation": "horizontal",
            "style": "IPY_MODEL_550f507ae018462d9e2e8ba24f70bbfd",
            "value": 313
          }
        },
        "948734a793164770b422ab64497f45d4": {
          "model_module": "@jupyter-widgets/controls",
          "model_name": "HTMLModel",
          "model_module_version": "1.5.0",
          "state": {
            "_dom_classes": [],
            "_model_module": "@jupyter-widgets/controls",
            "_model_module_version": "1.5.0",
            "_model_name": "HTMLModel",
            "_view_count": null,
            "_view_module": "@jupyter-widgets/controls",
            "_view_module_version": "1.5.0",
            "_view_name": "HTMLView",
            "description": "",
            "description_tooltip": null,
            "layout": "IPY_MODEL_ece4d8ec7b664ea482926f4719ff903b",
            "placeholder": "​",
            "style": "IPY_MODEL_2636ca79660e4d75adf35f74f71960ae",
            "value": " 313/313 [00:01&lt;00:00, 228.91it/s]"
          }
        },
        "d596130abee245028da3735caf8c5274": {
          "model_module": "@jupyter-widgets/base",
          "model_name": "LayoutModel",
          "model_module_version": "1.2.0",
          "state": {
            "_model_module": "@jupyter-widgets/base",
            "_model_module_version": "1.2.0",
            "_model_name": "LayoutModel",
            "_view_count": null,
            "_view_module": "@jupyter-widgets/base",
            "_view_module_version": "1.2.0",
            "_view_name": "LayoutView",
            "align_content": null,
            "align_items": null,
            "align_self": null,
            "border": null,
            "bottom": null,
            "display": null,
            "flex": null,
            "flex_flow": null,
            "grid_area": null,
            "grid_auto_columns": null,
            "grid_auto_flow": null,
            "grid_auto_rows": null,
            "grid_column": null,
            "grid_gap": null,
            "grid_row": null,
            "grid_template_areas": null,
            "grid_template_columns": null,
            "grid_template_rows": null,
            "height": null,
            "justify_content": null,
            "justify_items": null,
            "left": null,
            "margin": null,
            "max_height": null,
            "max_width": null,
            "min_height": null,
            "min_width": null,
            "object_fit": null,
            "object_position": null,
            "order": null,
            "overflow": null,
            "overflow_x": null,
            "overflow_y": null,
            "padding": null,
            "right": null,
            "top": null,
            "visibility": null,
            "width": null
          }
        },
        "6d7b62a705d74e3592b87890fb28827a": {
          "model_module": "@jupyter-widgets/base",
          "model_name": "LayoutModel",
          "model_module_version": "1.2.0",
          "state": {
            "_model_module": "@jupyter-widgets/base",
            "_model_module_version": "1.2.0",
            "_model_name": "LayoutModel",
            "_view_count": null,
            "_view_module": "@jupyter-widgets/base",
            "_view_module_version": "1.2.0",
            "_view_name": "LayoutView",
            "align_content": null,
            "align_items": null,
            "align_self": null,
            "border": null,
            "bottom": null,
            "display": null,
            "flex": null,
            "flex_flow": null,
            "grid_area": null,
            "grid_auto_columns": null,
            "grid_auto_flow": null,
            "grid_auto_rows": null,
            "grid_column": null,
            "grid_gap": null,
            "grid_row": null,
            "grid_template_areas": null,
            "grid_template_columns": null,
            "grid_template_rows": null,
            "height": null,
            "justify_content": null,
            "justify_items": null,
            "left": null,
            "margin": null,
            "max_height": null,
            "max_width": null,
            "min_height": null,
            "min_width": null,
            "object_fit": null,
            "object_position": null,
            "order": null,
            "overflow": null,
            "overflow_x": null,
            "overflow_y": null,
            "padding": null,
            "right": null,
            "top": null,
            "visibility": null,
            "width": null
          }
        },
        "a25f031920a54c4896b0e80ccbe7a017": {
          "model_module": "@jupyter-widgets/controls",
          "model_name": "DescriptionStyleModel",
          "model_module_version": "1.5.0",
          "state": {
            "_model_module": "@jupyter-widgets/controls",
            "_model_module_version": "1.5.0",
            "_model_name": "DescriptionStyleModel",
            "_view_count": null,
            "_view_module": "@jupyter-widgets/base",
            "_view_module_version": "1.2.0",
            "_view_name": "StyleView",
            "description_width": ""
          }
        },
        "6bed16e6d9b4420489597d6062f30b63": {
          "model_module": "@jupyter-widgets/base",
          "model_name": "LayoutModel",
          "model_module_version": "1.2.0",
          "state": {
            "_model_module": "@jupyter-widgets/base",
            "_model_module_version": "1.2.0",
            "_model_name": "LayoutModel",
            "_view_count": null,
            "_view_module": "@jupyter-widgets/base",
            "_view_module_version": "1.2.0",
            "_view_name": "LayoutView",
            "align_content": null,
            "align_items": null,
            "align_self": null,
            "border": null,
            "bottom": null,
            "display": null,
            "flex": null,
            "flex_flow": null,
            "grid_area": null,
            "grid_auto_columns": null,
            "grid_auto_flow": null,
            "grid_auto_rows": null,
            "grid_column": null,
            "grid_gap": null,
            "grid_row": null,
            "grid_template_areas": null,
            "grid_template_columns": null,
            "grid_template_rows": null,
            "height": null,
            "justify_content": null,
            "justify_items": null,
            "left": null,
            "margin": null,
            "max_height": null,
            "max_width": null,
            "min_height": null,
            "min_width": null,
            "object_fit": null,
            "object_position": null,
            "order": null,
            "overflow": null,
            "overflow_x": null,
            "overflow_y": null,
            "padding": null,
            "right": null,
            "top": null,
            "visibility": null,
            "width": null
          }
        },
        "550f507ae018462d9e2e8ba24f70bbfd": {
          "model_module": "@jupyter-widgets/controls",
          "model_name": "ProgressStyleModel",
          "model_module_version": "1.5.0",
          "state": {
            "_model_module": "@jupyter-widgets/controls",
            "_model_module_version": "1.5.0",
            "_model_name": "ProgressStyleModel",
            "_view_count": null,
            "_view_module": "@jupyter-widgets/base",
            "_view_module_version": "1.2.0",
            "_view_name": "StyleView",
            "bar_color": null,
            "description_width": ""
          }
        },
        "ece4d8ec7b664ea482926f4719ff903b": {
          "model_module": "@jupyter-widgets/base",
          "model_name": "LayoutModel",
          "model_module_version": "1.2.0",
          "state": {
            "_model_module": "@jupyter-widgets/base",
            "_model_module_version": "1.2.0",
            "_model_name": "LayoutModel",
            "_view_count": null,
            "_view_module": "@jupyter-widgets/base",
            "_view_module_version": "1.2.0",
            "_view_name": "LayoutView",
            "align_content": null,
            "align_items": null,
            "align_self": null,
            "border": null,
            "bottom": null,
            "display": null,
            "flex": null,
            "flex_flow": null,
            "grid_area": null,
            "grid_auto_columns": null,
            "grid_auto_flow": null,
            "grid_auto_rows": null,
            "grid_column": null,
            "grid_gap": null,
            "grid_row": null,
            "grid_template_areas": null,
            "grid_template_columns": null,
            "grid_template_rows": null,
            "height": null,
            "justify_content": null,
            "justify_items": null,
            "left": null,
            "margin": null,
            "max_height": null,
            "max_width": null,
            "min_height": null,
            "min_width": null,
            "object_fit": null,
            "object_position": null,
            "order": null,
            "overflow": null,
            "overflow_x": null,
            "overflow_y": null,
            "padding": null,
            "right": null,
            "top": null,
            "visibility": null,
            "width": null
          }
        },
        "2636ca79660e4d75adf35f74f71960ae": {
          "model_module": "@jupyter-widgets/controls",
          "model_name": "DescriptionStyleModel",
          "model_module_version": "1.5.0",
          "state": {
            "_model_module": "@jupyter-widgets/controls",
            "_model_module_version": "1.5.0",
            "_model_name": "DescriptionStyleModel",
            "_view_count": null,
            "_view_module": "@jupyter-widgets/base",
            "_view_module_version": "1.2.0",
            "_view_name": "StyleView",
            "description_width": ""
          }
        },
        "9fe21e71d97a4c658becaf1a15947d71": {
          "model_module": "@jupyter-widgets/controls",
          "model_name": "HBoxModel",
          "model_module_version": "1.5.0",
          "state": {
            "_dom_classes": [],
            "_model_module": "@jupyter-widgets/controls",
            "_model_module_version": "1.5.0",
            "_model_name": "HBoxModel",
            "_view_count": null,
            "_view_module": "@jupyter-widgets/controls",
            "_view_module_version": "1.5.0",
            "_view_name": "HBoxView",
            "box_style": "",
            "children": [
              "IPY_MODEL_f37af8930bb546c2b6689bd2af0d7737",
              "IPY_MODEL_41744812e9f748e892793590a7608c8d",
              "IPY_MODEL_068823dbaa48481e87f35115343f56a0"
            ],
            "layout": "IPY_MODEL_4838efb924fb42328fbabed1f8523fd0"
          }
        },
        "f37af8930bb546c2b6689bd2af0d7737": {
          "model_module": "@jupyter-widgets/controls",
          "model_name": "HTMLModel",
          "model_module_version": "1.5.0",
          "state": {
            "_dom_classes": [],
            "_model_module": "@jupyter-widgets/controls",
            "_model_module_version": "1.5.0",
            "_model_name": "HTMLModel",
            "_view_count": null,
            "_view_module": "@jupyter-widgets/controls",
            "_view_module_version": "1.5.0",
            "_view_name": "HTMLView",
            "description": "",
            "description_tooltip": null,
            "layout": "IPY_MODEL_e1b45e243742428b8d80e848f62444b4",
            "placeholder": "​",
            "style": "IPY_MODEL_3d06ccb25cae41cd99bd9dce0066df22",
            "value": " 67%"
          }
        },
        "41744812e9f748e892793590a7608c8d": {
          "model_module": "@jupyter-widgets/controls",
          "model_name": "FloatProgressModel",
          "model_module_version": "1.5.0",
          "state": {
            "_dom_classes": [],
            "_model_module": "@jupyter-widgets/controls",
            "_model_module_version": "1.5.0",
            "_model_name": "FloatProgressModel",
            "_view_count": null,
            "_view_module": "@jupyter-widgets/controls",
            "_view_module_version": "1.5.0",
            "_view_name": "ProgressView",
            "bar_style": "",
            "description": "",
            "description_tooltip": null,
            "layout": "IPY_MODEL_ff67524c8fbd470fbff00fd1b3ab4bf6",
            "max": 3,
            "min": 0,
            "orientation": "horizontal",
            "style": "IPY_MODEL_b9eec74e35a648a9af414568342b0bb4",
            "value": 2
          }
        },
        "068823dbaa48481e87f35115343f56a0": {
          "model_module": "@jupyter-widgets/controls",
          "model_name": "HTMLModel",
          "model_module_version": "1.5.0",
          "state": {
            "_dom_classes": [],
            "_model_module": "@jupyter-widgets/controls",
            "_model_module_version": "1.5.0",
            "_model_name": "HTMLModel",
            "_view_count": null,
            "_view_module": "@jupyter-widgets/controls",
            "_view_module_version": "1.5.0",
            "_view_name": "HTMLView",
            "description": "",
            "description_tooltip": null,
            "layout": "IPY_MODEL_c8a0584dc9b646f2b2b2eb5a13ae248c",
            "placeholder": "​",
            "style": "IPY_MODEL_e685f8bd9dca4d838c33eb4a6d885122",
            "value": " 2/3 [00:24&lt;00:12, 12.08s/it]"
          }
        },
        "4838efb924fb42328fbabed1f8523fd0": {
          "model_module": "@jupyter-widgets/base",
          "model_name": "LayoutModel",
          "model_module_version": "1.2.0",
          "state": {
            "_model_module": "@jupyter-widgets/base",
            "_model_module_version": "1.2.0",
            "_model_name": "LayoutModel",
            "_view_count": null,
            "_view_module": "@jupyter-widgets/base",
            "_view_module_version": "1.2.0",
            "_view_name": "LayoutView",
            "align_content": null,
            "align_items": null,
            "align_self": null,
            "border": null,
            "bottom": null,
            "display": null,
            "flex": null,
            "flex_flow": null,
            "grid_area": null,
            "grid_auto_columns": null,
            "grid_auto_flow": null,
            "grid_auto_rows": null,
            "grid_column": null,
            "grid_gap": null,
            "grid_row": null,
            "grid_template_areas": null,
            "grid_template_columns": null,
            "grid_template_rows": null,
            "height": null,
            "justify_content": null,
            "justify_items": null,
            "left": null,
            "margin": null,
            "max_height": null,
            "max_width": null,
            "min_height": null,
            "min_width": null,
            "object_fit": null,
            "object_position": null,
            "order": null,
            "overflow": null,
            "overflow_x": null,
            "overflow_y": null,
            "padding": null,
            "right": null,
            "top": null,
            "visibility": null,
            "width": null
          }
        },
        "e1b45e243742428b8d80e848f62444b4": {
          "model_module": "@jupyter-widgets/base",
          "model_name": "LayoutModel",
          "model_module_version": "1.2.0",
          "state": {
            "_model_module": "@jupyter-widgets/base",
            "_model_module_version": "1.2.0",
            "_model_name": "LayoutModel",
            "_view_count": null,
            "_view_module": "@jupyter-widgets/base",
            "_view_module_version": "1.2.0",
            "_view_name": "LayoutView",
            "align_content": null,
            "align_items": null,
            "align_self": null,
            "border": null,
            "bottom": null,
            "display": null,
            "flex": null,
            "flex_flow": null,
            "grid_area": null,
            "grid_auto_columns": null,
            "grid_auto_flow": null,
            "grid_auto_rows": null,
            "grid_column": null,
            "grid_gap": null,
            "grid_row": null,
            "grid_template_areas": null,
            "grid_template_columns": null,
            "grid_template_rows": null,
            "height": null,
            "justify_content": null,
            "justify_items": null,
            "left": null,
            "margin": null,
            "max_height": null,
            "max_width": null,
            "min_height": null,
            "min_width": null,
            "object_fit": null,
            "object_position": null,
            "order": null,
            "overflow": null,
            "overflow_x": null,
            "overflow_y": null,
            "padding": null,
            "right": null,
            "top": null,
            "visibility": null,
            "width": null
          }
        },
        "3d06ccb25cae41cd99bd9dce0066df22": {
          "model_module": "@jupyter-widgets/controls",
          "model_name": "DescriptionStyleModel",
          "model_module_version": "1.5.0",
          "state": {
            "_model_module": "@jupyter-widgets/controls",
            "_model_module_version": "1.5.0",
            "_model_name": "DescriptionStyleModel",
            "_view_count": null,
            "_view_module": "@jupyter-widgets/base",
            "_view_module_version": "1.2.0",
            "_view_name": "StyleView",
            "description_width": ""
          }
        },
        "ff67524c8fbd470fbff00fd1b3ab4bf6": {
          "model_module": "@jupyter-widgets/base",
          "model_name": "LayoutModel",
          "model_module_version": "1.2.0",
          "state": {
            "_model_module": "@jupyter-widgets/base",
            "_model_module_version": "1.2.0",
            "_model_name": "LayoutModel",
            "_view_count": null,
            "_view_module": "@jupyter-widgets/base",
            "_view_module_version": "1.2.0",
            "_view_name": "LayoutView",
            "align_content": null,
            "align_items": null,
            "align_self": null,
            "border": null,
            "bottom": null,
            "display": null,
            "flex": null,
            "flex_flow": null,
            "grid_area": null,
            "grid_auto_columns": null,
            "grid_auto_flow": null,
            "grid_auto_rows": null,
            "grid_column": null,
            "grid_gap": null,
            "grid_row": null,
            "grid_template_areas": null,
            "grid_template_columns": null,
            "grid_template_rows": null,
            "height": null,
            "justify_content": null,
            "justify_items": null,
            "left": null,
            "margin": null,
            "max_height": null,
            "max_width": null,
            "min_height": null,
            "min_width": null,
            "object_fit": null,
            "object_position": null,
            "order": null,
            "overflow": null,
            "overflow_x": null,
            "overflow_y": null,
            "padding": null,
            "right": null,
            "top": null,
            "visibility": null,
            "width": null
          }
        },
        "b9eec74e35a648a9af414568342b0bb4": {
          "model_module": "@jupyter-widgets/controls",
          "model_name": "ProgressStyleModel",
          "model_module_version": "1.5.0",
          "state": {
            "_model_module": "@jupyter-widgets/controls",
            "_model_module_version": "1.5.0",
            "_model_name": "ProgressStyleModel",
            "_view_count": null,
            "_view_module": "@jupyter-widgets/base",
            "_view_module_version": "1.2.0",
            "_view_name": "StyleView",
            "bar_color": null,
            "description_width": ""
          }
        },
        "c8a0584dc9b646f2b2b2eb5a13ae248c": {
          "model_module": "@jupyter-widgets/base",
          "model_name": "LayoutModel",
          "model_module_version": "1.2.0",
          "state": {
            "_model_module": "@jupyter-widgets/base",
            "_model_module_version": "1.2.0",
            "_model_name": "LayoutModel",
            "_view_count": null,
            "_view_module": "@jupyter-widgets/base",
            "_view_module_version": "1.2.0",
            "_view_name": "LayoutView",
            "align_content": null,
            "align_items": null,
            "align_self": null,
            "border": null,
            "bottom": null,
            "display": null,
            "flex": null,
            "flex_flow": null,
            "grid_area": null,
            "grid_auto_columns": null,
            "grid_auto_flow": null,
            "grid_auto_rows": null,
            "grid_column": null,
            "grid_gap": null,
            "grid_row": null,
            "grid_template_areas": null,
            "grid_template_columns": null,
            "grid_template_rows": null,
            "height": null,
            "justify_content": null,
            "justify_items": null,
            "left": null,
            "margin": null,
            "max_height": null,
            "max_width": null,
            "min_height": null,
            "min_width": null,
            "object_fit": null,
            "object_position": null,
            "order": null,
            "overflow": null,
            "overflow_x": null,
            "overflow_y": null,
            "padding": null,
            "right": null,
            "top": null,
            "visibility": null,
            "width": null
          }
        },
        "e685f8bd9dca4d838c33eb4a6d885122": {
          "model_module": "@jupyter-widgets/controls",
          "model_name": "DescriptionStyleModel",
          "model_module_version": "1.5.0",
          "state": {
            "_model_module": "@jupyter-widgets/controls",
            "_model_module_version": "1.5.0",
            "_model_name": "DescriptionStyleModel",
            "_view_count": null,
            "_view_module": "@jupyter-widgets/base",
            "_view_module_version": "1.2.0",
            "_view_name": "StyleView",
            "description_width": ""
          }
        }
      }
    }
  },
  "cells": [
    {
      "cell_type": "markdown",
      "source": [
        "#what is a CNN?\n",
        "\n",
        "--> architectures that are pretty good at recognising patterns in the images."
      ],
      "metadata": {
        "id": "UsGlmkcWe45j"
      }
    },
    {
      "cell_type": "markdown",
      "source": [
        "#architecture of a CNN:\n",
        "\n",
        "1. input image\n",
        "2. input layer --> takes in target images and preprocesses them for further layers\n",
        "3. convolution layer --> learns the most important layers\n",
        "4. hidden activation layers --> add non-linearity to the learned features\n",
        "5. pooling layers --> reduces the dimensionality of learned image features\n",
        "6. output layers/ linear layer --> takes learned features and outputs them in shape of target labels\n",
        "7. output activation --> coverts the output logits to the predicted probabilities\n"
      ],
      "metadata": {
        "id": "KTZDqKore7hT"
      }
    },
    {
      "cell_type": "markdown",
      "source": [
        "#FashionMNIST dataset"
      ],
      "metadata": {
        "id": "3XNxymAZfs_t"
      }
    },
    {
      "cell_type": "code",
      "source": [
        "import torch\n",
        "from torch import nn\n",
        "\n",
        "import torchvision\n",
        "from torchvision import datasets\n",
        "from torchvision import transforms\n",
        "from torchvision.transforms import ToTensor\n",
        "\n",
        "import matplotlib.pyplot as plt\n",
        "\n",
        "print(torch.__version__)\n",
        "print(torchvision.__version__)"
      ],
      "metadata": {
        "colab": {
          "base_uri": "https://localhost:8080/"
        },
        "id": "__wosrfddOeh",
        "outputId": "96026ad7-fe49-4259-c160-53a7ac4fac11"
      },
      "execution_count": 49,
      "outputs": [
        {
          "output_type": "stream",
          "name": "stdout",
          "text": [
            "2.3.0+cu121\n",
            "0.18.0+cu121\n"
          ]
        }
      ]
    },
    {
      "cell_type": "code",
      "source": [
        "#using the built-in dataset\n",
        "\n",
        "#setup the training data\n",
        "from torchvision import datasets\n",
        "\n",
        "train_data = datasets.FashionMNIST(\n",
        "    root = \"data\", #where to download the data to--\n",
        "    train = True, #do we want the training dataset, if False we get the testing dataset\n",
        "    download = True, #to get the dataset\n",
        "    transform = torchvision.transforms.ToTensor(), #convert the data to tensors\n",
        "    target_transform = None #how we want to transform the labels/targets\n",
        ")\n",
        "\n",
        "\n",
        "test_data = datasets.FashionMNIST(\n",
        "    root=\"data\",\n",
        "    train = False,\n",
        "    download = True,\n",
        "    transform = ToTensor(),\n",
        "    target_transform = None\n",
        ")"
      ],
      "metadata": {
        "id": "WT5uRCXLfOi7"
      },
      "execution_count": 50,
      "outputs": []
    },
    {
      "cell_type": "code",
      "source": [
        "#checking out the parameters or the attributes of the data\n",
        "len(train_data) , len(test_data)"
      ],
      "metadata": {
        "colab": {
          "base_uri": "https://localhost:8080/"
        },
        "id": "F1BDrBJEhHp_",
        "outputId": "515a3816-c85e-4567-db81-93dedca76a85"
      },
      "execution_count": 51,
      "outputs": [
        {
          "output_type": "execute_result",
          "data": {
            "text/plain": [
              "(60000, 10000)"
            ]
          },
          "metadata": {},
          "execution_count": 51
        }
      ]
    },
    {
      "cell_type": "code",
      "source": [
        "#see the first training example\n",
        "image , label = train_data[0]\n",
        "image , label"
      ],
      "metadata": {
        "colab": {
          "base_uri": "https://localhost:8080/"
        },
        "id": "G3VqOpq4hxDG",
        "outputId": "7e1eff8e-21c1-4795-bde7-f451c2730de0"
      },
      "execution_count": 52,
      "outputs": [
        {
          "output_type": "execute_result",
          "data": {
            "text/plain": [
              "(tensor([[[0.0000, 0.0000, 0.0000, 0.0000, 0.0000, 0.0000, 0.0000, 0.0000,\n",
              "           0.0000, 0.0000, 0.0000, 0.0000, 0.0000, 0.0000, 0.0000, 0.0000,\n",
              "           0.0000, 0.0000, 0.0000, 0.0000, 0.0000, 0.0000, 0.0000, 0.0000,\n",
              "           0.0000, 0.0000, 0.0000, 0.0000],\n",
              "          [0.0000, 0.0000, 0.0000, 0.0000, 0.0000, 0.0000, 0.0000, 0.0000,\n",
              "           0.0000, 0.0000, 0.0000, 0.0000, 0.0000, 0.0000, 0.0000, 0.0000,\n",
              "           0.0000, 0.0000, 0.0000, 0.0000, 0.0000, 0.0000, 0.0000, 0.0000,\n",
              "           0.0000, 0.0000, 0.0000, 0.0000],\n",
              "          [0.0000, 0.0000, 0.0000, 0.0000, 0.0000, 0.0000, 0.0000, 0.0000,\n",
              "           0.0000, 0.0000, 0.0000, 0.0000, 0.0000, 0.0000, 0.0000, 0.0000,\n",
              "           0.0000, 0.0000, 0.0000, 0.0000, 0.0000, 0.0000, 0.0000, 0.0000,\n",
              "           0.0000, 0.0000, 0.0000, 0.0000],\n",
              "          [0.0000, 0.0000, 0.0000, 0.0000, 0.0000, 0.0000, 0.0000, 0.0000,\n",
              "           0.0000, 0.0000, 0.0000, 0.0000, 0.0039, 0.0000, 0.0000, 0.0510,\n",
              "           0.2863, 0.0000, 0.0000, 0.0039, 0.0157, 0.0000, 0.0000, 0.0000,\n",
              "           0.0000, 0.0039, 0.0039, 0.0000],\n",
              "          [0.0000, 0.0000, 0.0000, 0.0000, 0.0000, 0.0000, 0.0000, 0.0000,\n",
              "           0.0000, 0.0000, 0.0000, 0.0000, 0.0118, 0.0000, 0.1412, 0.5333,\n",
              "           0.4980, 0.2431, 0.2118, 0.0000, 0.0000, 0.0000, 0.0039, 0.0118,\n",
              "           0.0157, 0.0000, 0.0000, 0.0118],\n",
              "          [0.0000, 0.0000, 0.0000, 0.0000, 0.0000, 0.0000, 0.0000, 0.0000,\n",
              "           0.0000, 0.0000, 0.0000, 0.0000, 0.0235, 0.0000, 0.4000, 0.8000,\n",
              "           0.6902, 0.5255, 0.5647, 0.4824, 0.0902, 0.0000, 0.0000, 0.0000,\n",
              "           0.0000, 0.0471, 0.0392, 0.0000],\n",
              "          [0.0000, 0.0000, 0.0000, 0.0000, 0.0000, 0.0000, 0.0000, 0.0000,\n",
              "           0.0000, 0.0000, 0.0000, 0.0000, 0.0000, 0.0000, 0.6078, 0.9255,\n",
              "           0.8118, 0.6980, 0.4196, 0.6118, 0.6314, 0.4275, 0.2510, 0.0902,\n",
              "           0.3020, 0.5098, 0.2824, 0.0588],\n",
              "          [0.0000, 0.0000, 0.0000, 0.0000, 0.0000, 0.0000, 0.0000, 0.0000,\n",
              "           0.0000, 0.0000, 0.0000, 0.0039, 0.0000, 0.2706, 0.8118, 0.8745,\n",
              "           0.8549, 0.8471, 0.8471, 0.6392, 0.4980, 0.4745, 0.4784, 0.5725,\n",
              "           0.5529, 0.3451, 0.6745, 0.2588],\n",
              "          [0.0000, 0.0000, 0.0000, 0.0000, 0.0000, 0.0000, 0.0000, 0.0000,\n",
              "           0.0000, 0.0039, 0.0039, 0.0039, 0.0000, 0.7843, 0.9098, 0.9098,\n",
              "           0.9137, 0.8980, 0.8745, 0.8745, 0.8431, 0.8353, 0.6431, 0.4980,\n",
              "           0.4824, 0.7686, 0.8980, 0.0000],\n",
              "          [0.0000, 0.0000, 0.0000, 0.0000, 0.0000, 0.0000, 0.0000, 0.0000,\n",
              "           0.0000, 0.0000, 0.0000, 0.0000, 0.0000, 0.7176, 0.8824, 0.8471,\n",
              "           0.8745, 0.8941, 0.9216, 0.8902, 0.8784, 0.8706, 0.8784, 0.8667,\n",
              "           0.8745, 0.9608, 0.6784, 0.0000],\n",
              "          [0.0000, 0.0000, 0.0000, 0.0000, 0.0000, 0.0000, 0.0000, 0.0000,\n",
              "           0.0000, 0.0000, 0.0000, 0.0000, 0.0000, 0.7569, 0.8941, 0.8549,\n",
              "           0.8353, 0.7765, 0.7059, 0.8314, 0.8235, 0.8275, 0.8353, 0.8745,\n",
              "           0.8627, 0.9529, 0.7922, 0.0000],\n",
              "          [0.0000, 0.0000, 0.0000, 0.0000, 0.0000, 0.0000, 0.0000, 0.0000,\n",
              "           0.0000, 0.0039, 0.0118, 0.0000, 0.0471, 0.8588, 0.8627, 0.8314,\n",
              "           0.8549, 0.7529, 0.6627, 0.8902, 0.8157, 0.8549, 0.8784, 0.8314,\n",
              "           0.8863, 0.7725, 0.8196, 0.2039],\n",
              "          [0.0000, 0.0000, 0.0000, 0.0000, 0.0000, 0.0000, 0.0000, 0.0000,\n",
              "           0.0000, 0.0000, 0.0235, 0.0000, 0.3882, 0.9569, 0.8706, 0.8627,\n",
              "           0.8549, 0.7961, 0.7765, 0.8667, 0.8431, 0.8353, 0.8706, 0.8627,\n",
              "           0.9608, 0.4667, 0.6549, 0.2196],\n",
              "          [0.0000, 0.0000, 0.0000, 0.0000, 0.0000, 0.0000, 0.0000, 0.0000,\n",
              "           0.0000, 0.0157, 0.0000, 0.0000, 0.2157, 0.9255, 0.8941, 0.9020,\n",
              "           0.8941, 0.9412, 0.9098, 0.8353, 0.8549, 0.8745, 0.9176, 0.8510,\n",
              "           0.8510, 0.8196, 0.3608, 0.0000],\n",
              "          [0.0000, 0.0000, 0.0039, 0.0157, 0.0235, 0.0275, 0.0078, 0.0000,\n",
              "           0.0000, 0.0000, 0.0000, 0.0000, 0.9294, 0.8863, 0.8510, 0.8745,\n",
              "           0.8706, 0.8588, 0.8706, 0.8667, 0.8471, 0.8745, 0.8980, 0.8431,\n",
              "           0.8549, 1.0000, 0.3020, 0.0000],\n",
              "          [0.0000, 0.0118, 0.0000, 0.0000, 0.0000, 0.0000, 0.0000, 0.0000,\n",
              "           0.0000, 0.2431, 0.5686, 0.8000, 0.8941, 0.8118, 0.8353, 0.8667,\n",
              "           0.8549, 0.8157, 0.8275, 0.8549, 0.8784, 0.8745, 0.8588, 0.8431,\n",
              "           0.8784, 0.9569, 0.6235, 0.0000],\n",
              "          [0.0000, 0.0000, 0.0000, 0.0000, 0.0706, 0.1725, 0.3216, 0.4196,\n",
              "           0.7412, 0.8941, 0.8627, 0.8706, 0.8510, 0.8863, 0.7843, 0.8039,\n",
              "           0.8275, 0.9020, 0.8784, 0.9176, 0.6902, 0.7373, 0.9804, 0.9725,\n",
              "           0.9137, 0.9333, 0.8431, 0.0000],\n",
              "          [0.0000, 0.2235, 0.7333, 0.8157, 0.8784, 0.8667, 0.8784, 0.8157,\n",
              "           0.8000, 0.8392, 0.8157, 0.8196, 0.7843, 0.6235, 0.9608, 0.7569,\n",
              "           0.8078, 0.8745, 1.0000, 1.0000, 0.8667, 0.9176, 0.8667, 0.8275,\n",
              "           0.8627, 0.9098, 0.9647, 0.0000],\n",
              "          [0.0118, 0.7922, 0.8941, 0.8784, 0.8667, 0.8275, 0.8275, 0.8392,\n",
              "           0.8039, 0.8039, 0.8039, 0.8627, 0.9412, 0.3137, 0.5882, 1.0000,\n",
              "           0.8980, 0.8667, 0.7373, 0.6039, 0.7490, 0.8235, 0.8000, 0.8196,\n",
              "           0.8706, 0.8941, 0.8824, 0.0000],\n",
              "          [0.3843, 0.9137, 0.7765, 0.8235, 0.8706, 0.8980, 0.8980, 0.9176,\n",
              "           0.9765, 0.8627, 0.7608, 0.8431, 0.8510, 0.9451, 0.2549, 0.2863,\n",
              "           0.4157, 0.4588, 0.6588, 0.8588, 0.8667, 0.8431, 0.8510, 0.8745,\n",
              "           0.8745, 0.8784, 0.8980, 0.1137],\n",
              "          [0.2941, 0.8000, 0.8314, 0.8000, 0.7569, 0.8039, 0.8275, 0.8824,\n",
              "           0.8471, 0.7255, 0.7725, 0.8078, 0.7765, 0.8353, 0.9412, 0.7647,\n",
              "           0.8902, 0.9608, 0.9373, 0.8745, 0.8549, 0.8314, 0.8196, 0.8706,\n",
              "           0.8627, 0.8667, 0.9020, 0.2627],\n",
              "          [0.1882, 0.7961, 0.7176, 0.7608, 0.8353, 0.7725, 0.7255, 0.7451,\n",
              "           0.7608, 0.7529, 0.7922, 0.8392, 0.8588, 0.8667, 0.8627, 0.9255,\n",
              "           0.8824, 0.8471, 0.7804, 0.8078, 0.7294, 0.7098, 0.6941, 0.6745,\n",
              "           0.7098, 0.8039, 0.8078, 0.4510],\n",
              "          [0.0000, 0.4784, 0.8588, 0.7569, 0.7020, 0.6706, 0.7176, 0.7686,\n",
              "           0.8000, 0.8235, 0.8353, 0.8118, 0.8275, 0.8235, 0.7843, 0.7686,\n",
              "           0.7608, 0.7490, 0.7647, 0.7490, 0.7765, 0.7529, 0.6902, 0.6118,\n",
              "           0.6549, 0.6941, 0.8235, 0.3608],\n",
              "          [0.0000, 0.0000, 0.2902, 0.7412, 0.8314, 0.7490, 0.6863, 0.6745,\n",
              "           0.6863, 0.7098, 0.7255, 0.7373, 0.7412, 0.7373, 0.7569, 0.7765,\n",
              "           0.8000, 0.8196, 0.8235, 0.8235, 0.8275, 0.7373, 0.7373, 0.7608,\n",
              "           0.7529, 0.8471, 0.6667, 0.0000],\n",
              "          [0.0078, 0.0000, 0.0000, 0.0000, 0.2588, 0.7843, 0.8706, 0.9294,\n",
              "           0.9373, 0.9490, 0.9647, 0.9529, 0.9569, 0.8667, 0.8627, 0.7569,\n",
              "           0.7490, 0.7020, 0.7137, 0.7137, 0.7098, 0.6902, 0.6510, 0.6588,\n",
              "           0.3882, 0.2275, 0.0000, 0.0000],\n",
              "          [0.0000, 0.0000, 0.0000, 0.0000, 0.0000, 0.0000, 0.0000, 0.1569,\n",
              "           0.2392, 0.1725, 0.2824, 0.1608, 0.1373, 0.0000, 0.0000, 0.0000,\n",
              "           0.0000, 0.0000, 0.0000, 0.0000, 0.0000, 0.0000, 0.0000, 0.0000,\n",
              "           0.0000, 0.0000, 0.0000, 0.0000],\n",
              "          [0.0000, 0.0000, 0.0000, 0.0000, 0.0000, 0.0000, 0.0000, 0.0000,\n",
              "           0.0000, 0.0000, 0.0000, 0.0000, 0.0000, 0.0000, 0.0000, 0.0000,\n",
              "           0.0000, 0.0000, 0.0000, 0.0000, 0.0000, 0.0000, 0.0000, 0.0000,\n",
              "           0.0000, 0.0000, 0.0000, 0.0000],\n",
              "          [0.0000, 0.0000, 0.0000, 0.0000, 0.0000, 0.0000, 0.0000, 0.0000,\n",
              "           0.0000, 0.0000, 0.0000, 0.0000, 0.0000, 0.0000, 0.0000, 0.0000,\n",
              "           0.0000, 0.0000, 0.0000, 0.0000, 0.0000, 0.0000, 0.0000, 0.0000,\n",
              "           0.0000, 0.0000, 0.0000, 0.0000]]]),\n",
              " 9)"
            ]
          },
          "metadata": {},
          "execution_count": 52
        }
      ]
    },
    {
      "cell_type": "code",
      "source": [
        "class_names = train_data.classes\n",
        "class_names"
      ],
      "metadata": {
        "colab": {
          "base_uri": "https://localhost:8080/"
        },
        "id": "Xf0ngepHh2zt",
        "outputId": "e2cb21fd-42cb-4129-972b-d64c379dd86b"
      },
      "execution_count": 53,
      "outputs": [
        {
          "output_type": "execute_result",
          "data": {
            "text/plain": [
              "['T-shirt/top',\n",
              " 'Trouser',\n",
              " 'Pullover',\n",
              " 'Dress',\n",
              " 'Coat',\n",
              " 'Sandal',\n",
              " 'Shirt',\n",
              " 'Sneaker',\n",
              " 'Bag',\n",
              " 'Ankle boot']"
            ]
          },
          "metadata": {},
          "execution_count": 53
        }
      ]
    },
    {
      "cell_type": "code",
      "source": [
        "class_to_index = train_data.class_to_idx #map class labels (or categories) to their corresponding indices\n",
        "class_to_index"
      ],
      "metadata": {
        "colab": {
          "base_uri": "https://localhost:8080/"
        },
        "id": "v-_Fjlrlibve",
        "outputId": "3c95dacc-0673-468d-cd56-2c29651683e1"
      },
      "execution_count": 54,
      "outputs": [
        {
          "output_type": "execute_result",
          "data": {
            "text/plain": [
              "{'T-shirt/top': 0,\n",
              " 'Trouser': 1,\n",
              " 'Pullover': 2,\n",
              " 'Dress': 3,\n",
              " 'Coat': 4,\n",
              " 'Sandal': 5,\n",
              " 'Shirt': 6,\n",
              " 'Sneaker': 7,\n",
              " 'Bag': 8,\n",
              " 'Ankle boot': 9}"
            ]
          },
          "metadata": {},
          "execution_count": 54
        }
      ]
    },
    {
      "cell_type": "code",
      "source": [
        "train_data.targets"
      ],
      "metadata": {
        "colab": {
          "base_uri": "https://localhost:8080/"
        },
        "id": "NM13yW1_ip1t",
        "outputId": "d1f31345-b534-46a2-d375-7a1263f3de61"
      },
      "execution_count": 55,
      "outputs": [
        {
          "output_type": "execute_result",
          "data": {
            "text/plain": [
              "tensor([9, 0, 0,  ..., 3, 0, 5])"
            ]
          },
          "metadata": {},
          "execution_count": 55
        }
      ]
    },
    {
      "cell_type": "code",
      "source": [
        "#checking the shape of the image\n",
        "image.shape , label #label is associated with the category"
      ],
      "metadata": {
        "colab": {
          "base_uri": "https://localhost:8080/"
        },
        "id": "6Ekne1UWiwC4",
        "outputId": "fc0e36ff-5494-46f3-b87d-b836882c99f4"
      },
      "execution_count": 56,
      "outputs": [
        {
          "output_type": "execute_result",
          "data": {
            "text/plain": [
              "(torch.Size([1, 28, 28]), 9)"
            ]
          },
          "metadata": {},
          "execution_count": 56
        }
      ]
    },
    {
      "cell_type": "markdown",
      "source": [
        "--> reason why cant we access the shape of the label directly: Integers do not have shapes because they are scalar values representing single data points.\n"
      ],
      "metadata": {
        "id": "-Xak3tN3_Tc1"
      }
    },
    {
      "cell_type": "code",
      "source": [
        "print(f'image shape is: {image.shape} --> [color channel, height, width]')\n",
        "print(f'image label is: {class_names[label]}')"
      ],
      "metadata": {
        "colab": {
          "base_uri": "https://localhost:8080/"
        },
        "id": "G93BbV54i8lX",
        "outputId": "a25d1529-138f-4bbe-f698-2cc287a03a46"
      },
      "execution_count": 57,
      "outputs": [
        {
          "output_type": "stream",
          "name": "stdout",
          "text": [
            "image shape is: torch.Size([1, 28, 28]) --> [color channel, height, width]\n",
            "image label is: Ankle boot\n"
          ]
        }
      ]
    },
    {
      "cell_type": "markdown",
      "source": [
        "#Prepare the DataLoader"
      ],
      "metadata": {
        "id": "ztIJVtofxzeO"
      }
    },
    {
      "cell_type": "code",
      "source": [
        "from torch.utils.data import DataLoader\n",
        "\n",
        "batch_size = 32 #setup the batch size hyperparameter\n",
        "\n",
        "train_dataloader = DataLoader(dataset=train_data,\n",
        "                              batch_size=batch_size,\n",
        "                              shuffle=True) #for randomness\n",
        "\n",
        "test_dataloader = DataLoader(dataset=test_data,\n",
        "                             batch_size=batch_size,\n",
        "                             shuffle=False)\n",
        "\n",
        "train_dataloader , test_dataloader"
      ],
      "metadata": {
        "colab": {
          "base_uri": "https://localhost:8080/"
        },
        "id": "1ZIPqxSgZthq",
        "outputId": "91f5c4c7-30fa-457d-c001-f2ab5ad6a585"
      },
      "execution_count": 58,
      "outputs": [
        {
          "output_type": "execute_result",
          "data": {
            "text/plain": [
              "(<torch.utils.data.dataloader.DataLoader at 0x7834ea33fd60>,\n",
              " <torch.utils.data.dataloader.DataLoader at 0x7834ea33fe80>)"
            ]
          },
          "metadata": {},
          "execution_count": 58
        }
      ]
    },
    {
      "cell_type": "code",
      "source": [
        "#to check what we have created\n",
        "print(f'Dataloaders: {train_dataloader , test_dataloader}')\n",
        "print(f'Length of the training dataloader is: {len(train_dataloader)} with batches of {batch_size}')\n",
        "print(f'Length of the testing dataloader is: {len(test_dataloader)} with batches of {batch_size}')\n"
      ],
      "metadata": {
        "colab": {
          "base_uri": "https://localhost:8080/"
        },
        "id": "h9wHd5tSje9Q",
        "outputId": "2998da1e-f606-4523-edfd-fa64b0484cfa"
      },
      "execution_count": 59,
      "outputs": [
        {
          "output_type": "stream",
          "name": "stdout",
          "text": [
            "Dataloaders: (<torch.utils.data.dataloader.DataLoader object at 0x7834ea33fd60>, <torch.utils.data.dataloader.DataLoader object at 0x7834ea33fe80>)\n",
            "Length of the training dataloader is: 1875 with batches of 32\n",
            "Length of the testing dataloader is: 313 with batches of 32\n"
          ]
        }
      ]
    },
    {
      "cell_type": "code",
      "source": [
        "train_features_batch , train_labels_batch = next(iter(train_dataloader))\n",
        "train_features_batch.shape , train_labels_batch.shape"
      ],
      "metadata": {
        "colab": {
          "base_uri": "https://localhost:8080/"
        },
        "id": "xfwBbm6LlMH5",
        "outputId": "360170a0-a3b6-4e15-a7fe-530ef8518e43"
      },
      "execution_count": 60,
      "outputs": [
        {
          "output_type": "execute_result",
          "data": {
            "text/plain": [
              "(torch.Size([32, 1, 28, 28]), torch.Size([32]))"
            ]
          },
          "metadata": {},
          "execution_count": 60
        }
      ]
    },
    {
      "cell_type": "markdown",
      "source": [
        "#building a baseline model\n",
        "\n",
        "--> a baseline model is a simple model we try to improve with some experiments.\n",
        "\n",
        "\n",
        "--> or in simple terms, start and then add complexity when necessary"
      ],
      "metadata": {
        "id": "VN4Za4gMARo4"
      }
    },
    {
      "cell_type": "code",
      "source": [
        "#create a flatten layer -->a flatten layer is a type of layer that is used to reshape the input data into a one-dimensional array\n",
        "flatten_model = nn.Flatten()\n",
        "\n",
        "#get a single sample\n",
        "x = train_features_batch[0]\n",
        "x.shape\n",
        "\n",
        "#now lets flatten the sample\n",
        "output = flatten_model(x)\n",
        "\n",
        "print(f'shape before flattening: {x.shape}, it consisted of [color_channels, height, width]')\n",
        "print(f'shape after flattening: {output.shape}, it now consists of [color_channels, height*wodth]')"
      ],
      "metadata": {
        "colab": {
          "base_uri": "https://localhost:8080/"
        },
        "id": "aKMQ6MVbpk7n",
        "outputId": "ea8f0010-9754-452b-bf1f-966b49bc165d"
      },
      "execution_count": 61,
      "outputs": [
        {
          "output_type": "stream",
          "name": "stdout",
          "text": [
            "shape before flattening: torch.Size([1, 28, 28]), it consisted of [color_channels, height, width]\n",
            "shape after flattening: torch.Size([1, 784]), it now consists of [color_channels, height*wodth]\n"
          ]
        }
      ]
    },
    {
      "cell_type": "markdown",
      "source": [
        "* Once the input data has been flattened, it can be passed as input to the fully connected layers of the neural network.\n",
        "\n",
        "*  we had done flattening because we want to use a linear layer as the baseline model.\n",
        "\n",
        "* the linear layer cannot handle multi-dimensional data like our images, so we wanted to have a single vector as our input  \n"
      ],
      "metadata": {
        "id": "7HVHDk8lAiRa"
      }
    },
    {
      "cell_type": "code",
      "source": [
        "from torch import nn\n",
        "class FashionMNISTModel(nn.Module):\n",
        "  def __init__(self,\n",
        "               input_shape: int,\n",
        "               hidden_units: int,\n",
        "               output_shape: int):\n",
        "    super().__init__()\n",
        "    self.layer_stack = nn.Sequential(\n",
        "        nn.Flatten(),\n",
        "        nn.Linear(in_features = input_shape,\n",
        "                  out_features = hidden_units),\n",
        "        nn.Linear(in_features = hidden_units,\n",
        "                  out_features = output_shape)\n",
        "    )\n",
        "\n",
        "  def forward(self,x):\n",
        "    return self.layer_stack(x)\n",
        "\n",
        "\n"
      ],
      "metadata": {
        "id": "svVxyk4urkFK"
      },
      "execution_count": 62,
      "outputs": []
    },
    {
      "cell_type": "code",
      "source": [
        "torch.manual_seed(42)\n",
        "\n",
        "model0 = FashionMNISTModel(\n",
        "    input_shape = 784,  #28*28\n",
        "    hidden_units = 10,\n",
        "    output_shape=len(class_names) #one for every class\n",
        ").to('cpu')\n",
        "\n",
        "model0"
      ],
      "metadata": {
        "colab": {
          "base_uri": "https://localhost:8080/"
        },
        "id": "WU2L3bbJssrB",
        "outputId": "64ad6374-d39a-4572-c381-ecdc92e16844"
      },
      "execution_count": 63,
      "outputs": [
        {
          "output_type": "execute_result",
          "data": {
            "text/plain": [
              "FashionMNISTModel(\n",
              "  (layer_stack): Sequential(\n",
              "    (0): Flatten(start_dim=1, end_dim=-1)\n",
              "    (1): Linear(in_features=784, out_features=10, bias=True)\n",
              "    (2): Linear(in_features=10, out_features=10, bias=True)\n",
              "  )\n",
              ")"
            ]
          },
          "metadata": {},
          "execution_count": 63
        }
      ]
    },
    {
      "cell_type": "code",
      "source": [
        "trial = torch.rand([1,1,28,28])\n",
        "model0(trial)"
      ],
      "metadata": {
        "colab": {
          "base_uri": "https://localhost:8080/"
        },
        "id": "wXjFvjbbtRwP",
        "outputId": "7f9f0c10-888c-47c4-b02b-a84bc83cd449"
      },
      "execution_count": 64,
      "outputs": [
        {
          "output_type": "execute_result",
          "data": {
            "text/plain": [
              "tensor([[-0.0315,  0.3171,  0.0531, -0.2525,  0.5959,  0.2112,  0.3233,  0.2694,\n",
              "         -0.1004,  0.0157]], grad_fn=<AddmmBackward0>)"
            ]
          },
          "metadata": {},
          "execution_count": 64
        }
      ]
    },
    {
      "cell_type": "markdown",
      "source": [
        "--> if we remove the 0th layer from the layer i.e the Flatten layer we get the error in the trial saying mat1 and mat2 cannot be multiplied"
      ],
      "metadata": {
        "id": "Gx1gGloNAsQN"
      }
    },
    {
      "cell_type": "markdown",
      "source": [
        "#Metrics for the model:\n",
        "\n",
        "1. LOSS FN --> since we are working with multiclass data, loss fn will be 'CrossEntropyLoss()'\n",
        "2. OPTIMZER --> torch.optim.SGD\n",
        "3. EVALUATION METRIC --> accuracy\n"
      ],
      "metadata": {
        "id": "d4bHGGG4AzZn"
      }
    },
    {
      "cell_type": "markdown",
      "source": [
        "#importing helper functions\n"
      ],
      "metadata": {
        "id": "pEvfUA6hA_Ep"
      }
    },
    {
      "cell_type": "code",
      "source": [
        "import requests\n",
        "from pathlib import Path\n",
        "\n",
        "if Path('helper_functions.py').is_file():\n",
        "  print('helper function already exists, skipping download...')\n",
        "else:\n",
        "  print('Downloading the helper_functions.py')\n",
        "  request = requests.get('https://raw.githubusercontent.com/mrdbourke/pytorch-deep-learning/main/helper_functions.py')\n",
        "  with open('helper_functions.py','wb') as f:\n",
        "    f.write(request.content)"
      ],
      "metadata": {
        "colab": {
          "base_uri": "https://localhost:8080/"
        },
        "id": "xHNof2YwwAHZ",
        "outputId": "fe2ccb80-2c5b-487e-9f33-489bd4586d21"
      },
      "execution_count": 65,
      "outputs": [
        {
          "output_type": "stream",
          "name": "stdout",
          "text": [
            "helper function already exists, skipping download...\n"
          ]
        }
      ]
    },
    {
      "cell_type": "code",
      "source": [
        "#import the accuracy metric from the file\n",
        "from helper_functions import accuracy_fn\n",
        "\n",
        "#set up the loss function and optimizer\n",
        "loss_fn = nn.CrossEntropyLoss()\n",
        "optimizer = torch.optim.SGD(params = model0.parameters(),\n",
        "                            lr=0.1)"
      ],
      "metadata": {
        "id": "v_UYZA1QwADl"
      },
      "execution_count": 66,
      "outputs": []
    },
    {
      "cell_type": "code",
      "source": [
        "'''def accuracy_fn(y_true, y_pred):\n",
        "  correct = torch.eq(y_true, y_pred).sum().item()\n",
        "  acc = (correct/len(y_pred)) * 100\n",
        "  return acc'''"
      ],
      "metadata": {
        "id": "hffjzEvGveTI",
        "colab": {
          "base_uri": "https://localhost:8080/",
          "height": 35
        },
        "outputId": "5bb8c750-9b56-4197-8d32-3b00eb302c4e"
      },
      "execution_count": 67,
      "outputs": [
        {
          "output_type": "execute_result",
          "data": {
            "text/plain": [
              "'def accuracy_fn(y_true, y_pred):\\n  correct = torch.eq(y_true, y_pred).sum().item()\\n  acc = (correct/len(y_pred)) * 100\\n  return acc'"
            ],
            "application/vnd.google.colaboratory.intrinsic+json": {
              "type": "string"
            }
          },
          "metadata": {},
          "execution_count": 67
        }
      ]
    },
    {
      "cell_type": "code",
      "source": [
        "'''import numpy as np\n",
        "def plot_decision_boundary(model: torch.nn.Module, X: torch.Tensor, y: torch.Tensor):\n",
        "\n",
        "    # Put everything to CPU (works better with NumPy + Matplotlib)\n",
        "    model.to(\"cpu\")\n",
        "    X, y = X.to(\"cpu\"), y.to(\"cpu\")\n",
        "\n",
        "    # Setup prediction boundaries and grid\n",
        "    x_min, x_max = X[:, 0].min() - 0.1, X[:, 0].max() + 0.1\n",
        "    y_min, y_max = X[:, 1].min() - 0.1, X[:, 1].max() + 0.1\n",
        "    xx, yy = np.meshgrid(np.linspace(x_min, x_max, 101), np.linspace(y_min, y_max, 101))\n",
        "\n",
        "    # Make features\n",
        "    X_to_pred_on = torch.from_numpy(np.column_stack((xx.ravel(), yy.ravel()))).float()\n",
        "\n",
        "    # Make predictions\n",
        "    model.eval()\n",
        "    with torch.inference_mode():\n",
        "        y_logits = model(X_to_pred_on)\n",
        "\n",
        "    # Test for multi-class or binary and adjust logits to prediction labels\n",
        "    if len(torch.unique(y)) > 2:\n",
        "        y_pred = torch.softmax(y_logits, dim=1).argmax(dim=1)  # mutli-class\n",
        "    else:\n",
        "        y_pred = torch.round(torch.sigmoid(y_logits))  # binary\n",
        "\n",
        "\n",
        "    # Reshape preds and plot\n",
        "    y_pred = y_pred.reshape(xx.shape).detach().numpy()\n",
        "    plt.contourf(xx, yy, y_pred, cmap=plt.cm.RdYlBu, alpha=0.7)\n",
        "    plt.scatter(X[:, 0], X[:, 1], c=y, s=40, cmap=plt.cm.RdYlBu)\n",
        "    plt.xlim(xx.min(), xx.max())\n",
        "    plt.ylim(yy.min(), yy.max())'''"
      ],
      "metadata": {
        "id": "yoVpczYIveEG",
        "colab": {
          "base_uri": "https://localhost:8080/",
          "height": 139
        },
        "outputId": "d33d9503-a48a-4fa6-bc2a-597fbb9dd16e"
      },
      "execution_count": 68,
      "outputs": [
        {
          "output_type": "execute_result",
          "data": {
            "text/plain": [
              "'import numpy as np\\ndef plot_decision_boundary(model: torch.nn.Module, X: torch.Tensor, y: torch.Tensor):\\n\\n    # Put everything to CPU (works better with NumPy + Matplotlib)\\n    model.to(\"cpu\")\\n    X, y = X.to(\"cpu\"), y.to(\"cpu\")\\n\\n    # Setup prediction boundaries and grid\\n    x_min, x_max = X[:, 0].min() - 0.1, X[:, 0].max() + 0.1\\n    y_min, y_max = X[:, 1].min() - 0.1, X[:, 1].max() + 0.1\\n    xx, yy = np.meshgrid(np.linspace(x_min, x_max, 101), np.linspace(y_min, y_max, 101))\\n\\n    # Make features\\n    X_to_pred_on = torch.from_numpy(np.column_stack((xx.ravel(), yy.ravel()))).float()\\n\\n    # Make predictions\\n    model.eval()\\n    with torch.inference_mode():\\n        y_logits = model(X_to_pred_on)\\n\\n    # Test for multi-class or binary and adjust logits to prediction labels\\n    if len(torch.unique(y)) > 2:\\n        y_pred = torch.softmax(y_logits, dim=1).argmax(dim=1)  # mutli-class\\n    else:\\n        y_pred = torch.round(torch.sigmoid(y_logits))  # binary\\n\\n\\n    # Reshape preds and plot\\n    y_pred = y_pred.reshape(xx.shape).detach().numpy()\\n    plt.contourf(xx, yy, y_pred, cmap=plt.cm.RdYlBu, alpha=0.7)\\n    plt.scatter(X[:, 0], X[:, 1], c=y, s=40, cmap=plt.cm.RdYlBu)\\n    plt.xlim(xx.min(), xx.max())\\n    plt.ylim(yy.min(), yy.max())'"
            ],
            "application/vnd.google.colaboratory.intrinsic+json": {
              "type": "string"
            }
          },
          "metadata": {},
          "execution_count": 68
        }
      ]
    },
    {
      "cell_type": "markdown",
      "source": [
        "#creating a function to time our experiments\n",
        "\n",
        "two main things we want to track:\n",
        "\n",
        "1. models performance(loss and acc)\n",
        "2. how fast it runs\n",
        "\n"
      ],
      "metadata": {
        "id": "zMngVp_sBFBi"
      }
    },
    {
      "cell_type": "code",
      "source": [
        "from timeit import default_timer as timer\n",
        "\n",
        "def print_train_time(start: float,\n",
        "                     end:float,\n",
        "                     device: torch.device = None):\n",
        "  #prints the diff b/w start and stop time\n",
        "  total_time = end - start\n",
        "  print(f'train time on {device}: {total_time:.3f} seconds')\n",
        "  return total_time"
      ],
      "metadata": {
        "id": "t-4rf2TLyxsV"
      },
      "execution_count": 69,
      "outputs": []
    },
    {
      "cell_type": "code",
      "source": [
        "start_time = timer()\n",
        "\n",
        "end_time = timer()\n",
        "print_train_time(start=start_time , end=end_time, device='cpu')"
      ],
      "metadata": {
        "colab": {
          "base_uri": "https://localhost:8080/"
        },
        "id": "1hLz85LGzaEC",
        "outputId": "41c64734-61d4-4466-c58b-ec2727519d94"
      },
      "execution_count": 70,
      "outputs": [
        {
          "output_type": "stream",
          "name": "stdout",
          "text": [
            "train time on cpu: 0.000 seconds\n"
          ]
        },
        {
          "output_type": "execute_result",
          "data": {
            "text/plain": [
              "5.493800000522242e-05"
            ]
          },
          "metadata": {},
          "execution_count": 70
        }
      ]
    },
    {
      "cell_type": "markdown",
      "source": [
        "#training loop\n",
        "\n",
        "\n",
        "1. loop through epochs\n",
        "2. loop through training batches,  perform training steps, calculate the loss per batch.\n",
        "3. loop through testing batches, perform testing steps, calculate the test loss per batch.\n",
        "4. print out everything\n",
        "5. time it all\n"
      ],
      "metadata": {
        "id": "jxRLDkqTBKSs"
      }
    },
    {
      "cell_type": "code",
      "source": [
        "#import tqdm for progress bar\n",
        "from tqdm.auto import tqdm\n",
        "\n",
        "#set the seed and start the timer\n",
        "torch.manual_seed(42)\n",
        "train_time_start_on_cpu = timer()\n",
        "\n",
        "#set the number of epochs\n",
        "epochs = 3\n",
        "\n",
        "#create a training and testing loop\n",
        "for epoch in tqdm(range(epochs)):\n",
        "  print(f'epoch: {epoch}\\n------')\n",
        "\n",
        "  ####training\n",
        "  train_loss = 0 #cumulating values\n",
        "  #add a loop to loop through training batches\n",
        "  for batch, (x,y) in enumerate(train_dataloader): #x is the image and y is the label\n",
        "    model0.train()\n",
        "    #1. forward pass\n",
        "    y_pred = model0(x)\n",
        "\n",
        "    #2. calculate the loss (per batch)\n",
        "    loss = loss_fn(y_pred , y)\n",
        "    train_loss+= loss #to add loss of every batch\n",
        "\n",
        "    #3. optimizer zero grad\n",
        "    optimizer.zero_grad()\n",
        "\n",
        "    #4. loss backward\n",
        "    loss.backward()\n",
        "\n",
        "    #5. optimizer step\n",
        "    optimizer.step()\n",
        "\n",
        "    if batch%400 == 0:\n",
        "       print(f'looked at {batch * len(x)}/{len(train_dataloader.dataset)} samples.')\n",
        "\n",
        "  #divide total train loss by length of the train dataloader\n",
        "  train_loss /= len(train_dataloader)\n",
        "\n",
        "\n",
        "  ###testing\n",
        "  test_loss , test_acc = 0,0\n",
        "  model0.eval()\n",
        "  with torch.inference_mode():\n",
        "    for x_test,y_test in test_dataloader:\n",
        "\n",
        "      #1. forward pass\n",
        "      test_pred = model0(x_test)\n",
        "\n",
        "      #2. calculate the loss\n",
        "      test_loss+= loss_fn(test_pred , y_test)\n",
        "\n",
        "      #3. calculate the accuracy\n",
        "      test_acc+= accuracy_fn(y_true= y_test, y_pred = test_pred.argmax(dim=1))\n",
        "\n",
        "    #calculate the test loss average per batch\n",
        "    test_loss /= len(test_dataloader)\n",
        "\n",
        "    #calculate the test acc average per batch\n",
        "    test_acc/=len(test_dataloader)\n",
        "\n",
        "  #print out everything\n",
        "  print(f'\\ntrain loss: {train_loss:.4f} | test loss:{test_loss:.4f} | test acc : {test_acc:.4f}%')\n",
        "\n",
        "#calculate the training time\n",
        "train_time_end_on_cpu = timer()\n",
        "total_train_time_model0 = print_train_time(start = train_time_start_on_cpu,\n",
        "                                           end = train_time_end_on_cpu,\n",
        "                                           device = str(next(model0.parameters()).device))"
      ],
      "metadata": {
        "colab": {
          "base_uri": "https://localhost:8080/",
          "height": 535,
          "referenced_widgets": [
            "f0c3d98d22f4420a89845bdf15f4df92",
            "1ad7f7dbef214513bc09f0610e555b8e",
            "0026d2f42d9c4f68b27463a72330fcdf",
            "58cd492804b2430e978f4e517482bf9a",
            "0a84d69c8eee45d397bef62e8ccbd0cc",
            "9d319e9dc19c437483145033232f7d93",
            "1ff9259ebc9241988f8f1f04b42bac71",
            "76f64e43cf314b808334884d3bf4c7ff",
            "388a1de926b5456e8b4ac48814fd53c0",
            "a719f4225bc3479ea26c444ecbd49ab4",
            "f7bd52f7912e43df970bef463c9b3773"
          ]
        },
        "id": "bGhYLUZ_1y6O",
        "outputId": "2feb966a-a30a-451a-d63d-f55f6d6c1df9"
      },
      "execution_count": 71,
      "outputs": [
        {
          "output_type": "display_data",
          "data": {
            "text/plain": [
              "  0%|          | 0/3 [00:00<?, ?it/s]"
            ],
            "application/vnd.jupyter.widget-view+json": {
              "version_major": 2,
              "version_minor": 0,
              "model_id": "f0c3d98d22f4420a89845bdf15f4df92"
            }
          },
          "metadata": {}
        },
        {
          "output_type": "stream",
          "name": "stdout",
          "text": [
            "epoch: 0\n",
            "------\n",
            "looked at 0/60000 samples.\n",
            "looked at 12800/60000 samples.\n",
            "looked at 25600/60000 samples.\n",
            "looked at 38400/60000 samples.\n",
            "looked at 51200/60000 samples.\n",
            "\n",
            "train loss: 0.5904 | test loss:0.5095 | test acc : 82.0387%\n",
            "epoch: 1\n",
            "------\n",
            "looked at 0/60000 samples.\n",
            "looked at 12800/60000 samples.\n",
            "looked at 25600/60000 samples.\n",
            "looked at 38400/60000 samples.\n",
            "looked at 51200/60000 samples.\n",
            "\n",
            "train loss: 0.4763 | test loss:0.4799 | test acc : 83.1969%\n",
            "epoch: 2\n",
            "------\n",
            "looked at 0/60000 samples.\n",
            "looked at 12800/60000 samples.\n",
            "looked at 25600/60000 samples.\n",
            "looked at 38400/60000 samples.\n",
            "looked at 51200/60000 samples.\n",
            "\n",
            "train loss: 0.4550 | test loss:0.4766 | test acc : 83.4265%\n",
            "train time on cpu: 34.768 seconds\n"
          ]
        }
      ]
    },
    {
      "cell_type": "markdown",
      "source": [
        "#making predictions and getting model results\n"
      ],
      "metadata": {
        "id": "4MlB_tJ9BPfT"
      }
    },
    {
      "cell_type": "code",
      "source": [
        "torch.manual_seed(42)\n",
        "def eval_model(model: torch.nn.Module,\n",
        "               data_loader: torch.utils.data.DataLoader,\n",
        "               loss_fn: torch.nn.Module,\n",
        "               accuracy_fn):\n",
        "  #returns a dict containing the results of the model predictions on data_loader\n",
        "  loss ,  acc = 0 , 0\n",
        "  model.eval()\n",
        "  with torch.inference_mode():\n",
        "    for x,y in tqdm(data_loader):\n",
        "      y_pred = model(x)  #predictions\n",
        "\n",
        "      loss += loss_fn(y_pred , y)\n",
        "      acc+= accuracy_fn(y_true=y,\n",
        "                        y_pred=y_pred.argmax(dim=1))\n",
        "\n",
        "    #scale loss and acc to find the average loss and acc per batch\n",
        "    loss/= len(data_loader)\n",
        "    acc/= len(data_loader)\n",
        "\n",
        "  return {'model_name:' : model.__class__.__name__,\n",
        "          'model_loss:' : loss.item(),\n",
        "          'model_acc:' : acc}\n",
        "\n",
        "#calculate results\n",
        "model0_results = eval_model(model=model0,\n",
        "                            data_loader=test_dataloader,\n",
        "                            loss_fn=loss_fn,\n",
        "                            accuracy_fn=accuracy_fn)\n",
        "model0_results\n",
        "\n"
      ],
      "metadata": {
        "colab": {
          "base_uri": "https://localhost:8080/",
          "height": 101,
          "referenced_widgets": [
            "bd201a3d000c439aa064d8976c8b0157",
            "84b6c8069be245ca839815faea59d548",
            "8b9c49fa793d4486b8f9fba734c73b2e",
            "948734a793164770b422ab64497f45d4",
            "d596130abee245028da3735caf8c5274",
            "6d7b62a705d74e3592b87890fb28827a",
            "a25f031920a54c4896b0e80ccbe7a017",
            "6bed16e6d9b4420489597d6062f30b63",
            "550f507ae018462d9e2e8ba24f70bbfd",
            "ece4d8ec7b664ea482926f4719ff903b",
            "2636ca79660e4d75adf35f74f71960ae"
          ]
        },
        "id": "SMyOBY8s7b2d",
        "outputId": "f6ef92e9-7eac-416d-d5d6-1536a5997b51"
      },
      "execution_count": 72,
      "outputs": [
        {
          "output_type": "display_data",
          "data": {
            "text/plain": [
              "  0%|          | 0/313 [00:00<?, ?it/s]"
            ],
            "application/vnd.jupyter.widget-view+json": {
              "version_major": 2,
              "version_minor": 0,
              "model_id": "bd201a3d000c439aa064d8976c8b0157"
            }
          },
          "metadata": {}
        },
        {
          "output_type": "execute_result",
          "data": {
            "text/plain": [
              "{'model_name:': 'FashionMNISTModel',\n",
              " 'model_loss:': 0.47663894295692444,\n",
              " 'model_acc:': 83.42651757188499}"
            ]
          },
          "metadata": {},
          "execution_count": 72
        }
      ]
    },
    {
      "cell_type": "markdown",
      "source": [
        "#Non - Linearity"
      ],
      "metadata": {
        "id": "qK2Mk9Aey8lu"
      }
    },
    {
      "cell_type": "code",
      "source": [
        "# Setup device agnostic code\n",
        "import torch\n",
        "device = \"cuda\" if torch.cuda.is_available() else \"cpu\"\n",
        "device"
      ],
      "metadata": {
        "colab": {
          "base_uri": "https://localhost:8080/",
          "height": 35
        },
        "id": "w7sB5LxC10y6",
        "outputId": "12ba52e9-815b-4602-dd4a-684a35001975"
      },
      "execution_count": 73,
      "outputs": [
        {
          "output_type": "execute_result",
          "data": {
            "text/plain": [
              "'cpu'"
            ],
            "application/vnd.google.colaboratory.intrinsic+json": {
              "type": "string"
            }
          },
          "metadata": {},
          "execution_count": 73
        }
      ]
    },
    {
      "cell_type": "code",
      "source": [
        "class FashionMNISTModelV1(nn.Module):\n",
        "  def __init__(self,\n",
        "               input_shape : int,\n",
        "               hidden_units : int,\n",
        "               output_shape: int):\n",
        "    super().__init__()\n",
        "    self.layer_stack = nn.Sequential(\n",
        "        nn.Flatten(),\n",
        "        nn.Linear(in_features = input_shape,\n",
        "                  out_features = hidden_units),\n",
        "        nn.ReLU(),\n",
        "        nn.Linear(in_features = hidden_units,\n",
        "                  out_features = output_shape),\n",
        "        nn.ReLU(),\n",
        "\n",
        "    )\n",
        "\n",
        "  def forward(self, x: torch.Tensor):\n",
        "    return self.layer_stack(x)\n",
        "\n",
        "\n",
        "#this model is only different because of two Relu functions added"
      ],
      "metadata": {
        "id": "dmIIrvKk-K2T"
      },
      "execution_count": 74,
      "outputs": []
    },
    {
      "cell_type": "code",
      "source": [
        "#ReLU are the Non Linear Layers"
      ],
      "metadata": {
        "id": "Tj7jqNT02CLu"
      },
      "execution_count": 75,
      "outputs": []
    },
    {
      "cell_type": "code",
      "source": [
        "torch.manual_seed(42)\n",
        "model_1 = FashionMNISTModelV1(input_shape = 784,\n",
        "                             hidden_units = 10,\n",
        "                             output_shape = len(class_names)).to(device)\n",
        "\n",
        "next(model_1.parameters()).device"
      ],
      "metadata": {
        "colab": {
          "base_uri": "https://localhost:8080/"
        },
        "id": "Nzcusqm00Ju2",
        "outputId": "4362fca0-d593-4500-dbe6-2e66f96ec83d"
      },
      "execution_count": 76,
      "outputs": [
        {
          "output_type": "execute_result",
          "data": {
            "text/plain": [
              "device(type='cpu')"
            ]
          },
          "metadata": {},
          "execution_count": 76
        }
      ]
    },
    {
      "cell_type": "code",
      "source": [
        "#creating a loss function\n",
        "from helper_functions import accuracy_fn\n",
        "loss_fn = nn.CrossEntropyLoss()\n",
        "optimizer = torch.optim.SGD(params = model_1.parameters() ,\n",
        "                            lr = 0.1)"
      ],
      "metadata": {
        "id": "Sf35eo2m0vpq"
      },
      "execution_count": 77,
      "outputs": []
    },
    {
      "cell_type": "markdown",
      "source": [
        "#Creating a function for the training and testing loop"
      ],
      "metadata": {
        "id": "6ooYjSDh3DSH"
      }
    },
    {
      "cell_type": "code",
      "source": [
        "#training_loop = train_step\n",
        "#testing_loop = test_step\n"
      ],
      "metadata": {
        "id": "IMGUG37R20MF"
      },
      "execution_count": 78,
      "outputs": []
    },
    {
      "cell_type": "code",
      "source": [
        "def train_step(model: torch.nn.Module,\n",
        "                data_loader: torch.utils.data.DataLoader,\n",
        "                loss_fn: torch.nn.Module,\n",
        "                optimizer: torch.optim.Optimizer,\n",
        "                accuracy_fn,\n",
        "                device: torch.device = device):\n",
        "  train_loss , train_acc = 0 , 0\n",
        "  model.to(device)\n",
        "  #model.train()\n",
        "\n",
        "\n",
        "  #add a loop to loop through training batches\n",
        "  for batch, (X,y) in enumerate(train_dataloader): #x is the image and y is the label\n",
        "      #target device\n",
        "      X , y = X.to(device) , y.to(device)\n",
        "\n",
        "      #1. forward pass\n",
        "      y_pred = model(X)\n",
        "\n",
        "      #2. calculate the loss (per batch)\n",
        "      loss = loss_fn(y_pred , y)\n",
        "      train_loss+= loss #to add loss of every batch\n",
        "      train_acc += accuracy_fn(y_true = y,\n",
        "                                y_pred = y_pred.argmax(dim=1))\n",
        "      #3. optimizer zero grad\n",
        "      optimizer.zero_grad()\n",
        "\n",
        "      #4. loss backward\n",
        "      loss.backward()\n",
        "\n",
        "      #5. optimizer step\n",
        "      optimizer.step()\n",
        "\n",
        "\n",
        "  #divide total train loss by length of the train dataloader\n",
        "  train_loss /= len(data_loader)\n",
        "  train_acc /= len(data_loader)\n",
        "  print(f'TRAIN LOSS: {train_loss:.5f} | TRAIN ACC: {train_acc:.2f}')"
      ],
      "metadata": {
        "id": "-fX8AY423Bg9"
      },
      "execution_count": 79,
      "outputs": []
    },
    {
      "cell_type": "code",
      "source": [
        "#testing loop\n",
        "def test_step(model: torch.nn.Module,\n",
        "              data_loader: torch.utils.data.DataLoader,\n",
        "              loss_fn: torch.nn.Module,\n",
        "              accuracy_fn,\n",
        "              device: torch.device = device):\n",
        "  test_loss , test_acc =0,0\n",
        "\n",
        "  #put the model to eval mode\n",
        "  model.eval()\n",
        "\n",
        "  #turn on the inference mode\n",
        "  with torch.inference_mode():\n",
        "    for X, y in data_loader:\n",
        "      #send the data to the target device\n",
        "      X, y = X.to(device) , y.to(device)\n",
        "\n",
        "      #forward pass\n",
        "      test_pred = model(X)\n",
        "\n",
        "      #claculate the loss/acc\n",
        "      test_loss += loss_fn(test_pred , y)\n",
        "      test_acc += accuracy_fn(y_true = y,\n",
        "                              y_pred = test_pred.argmax(dim=1))\n",
        "\n",
        "      #adjust the matrics and print out the\n",
        "      test_loss /= len(data_loader)\n",
        "      test_acc /= len(data_loader)\n",
        "      print(f'Test loss: {test_loss:.5f} | Test Acc: {test_acc: .2f}')"
      ],
      "metadata": {
        "id": "D12kSS_d-9Eo"
      },
      "execution_count": 80,
      "outputs": []
    },
    {
      "cell_type": "code",
      "source": [
        "torch.manual_seed(42)\n",
        "\n",
        "#measure time\n",
        "from timeit import default_timer as timer\n",
        "train_time_start_on_gpu = timer()\n",
        "\n",
        "#set epochs\n",
        "epochs = 3\n",
        "\n",
        "#create a optimization and evaluation loop using train step and test step\n",
        "for epoch in tqdm(range(epochs)):\n",
        "  print(f'Epoch: {epoch}\\n--------')\n",
        "  train_step(model = model_1,\n",
        "             data_loader = train_dataloader,\n",
        "             loss_fn = loss_fn,\n",
        "             optimizer = optimizer,\n",
        "             accuracy_fn = accuracy_fn,\n",
        "             device = device)\n",
        "\n",
        "\n",
        "  test_step(model = model_1,\n",
        "            data_loader = test_dataloader,\n",
        "            loss_fn = loss_fn,\n",
        "            accuracy_fn = accuracy_fn,\n",
        "            device = device)\n",
        "\n",
        "train_time_end_on_gpu = timer()\n",
        "total_train_time_model_1 = print_train_time(start=train_time_start_on_gpu,\n",
        "                                            end = train_time_end_on_gpu,\n",
        "                                            device = device)"
      ],
      "metadata": {
        "colab": {
          "base_uri": "https://localhost:8080/",
          "height": 1000,
          "referenced_widgets": [
            "9fe21e71d97a4c658becaf1a15947d71",
            "f37af8930bb546c2b6689bd2af0d7737",
            "41744812e9f748e892793590a7608c8d",
            "068823dbaa48481e87f35115343f56a0",
            "4838efb924fb42328fbabed1f8523fd0",
            "e1b45e243742428b8d80e848f62444b4",
            "3d06ccb25cae41cd99bd9dce0066df22",
            "ff67524c8fbd470fbff00fd1b3ab4bf6",
            "b9eec74e35a648a9af414568342b0bb4",
            "c8a0584dc9b646f2b2b2eb5a13ae248c",
            "e685f8bd9dca4d838c33eb4a6d885122"
          ]
        },
        "id": "dAfy1eyw-8_5",
        "outputId": "d6f79b6f-6296-485d-d11b-824fc9e9d899"
      },
      "execution_count": null,
      "outputs": [
        {
          "output_type": "display_data",
          "data": {
            "text/plain": [
              "  0%|          | 0/3 [00:00<?, ?it/s]"
            ],
            "application/vnd.jupyter.widget-view+json": {
              "version_major": 2,
              "version_minor": 0,
              "model_id": "9fe21e71d97a4c658becaf1a15947d71"
            }
          },
          "metadata": {}
        },
        {
          "output_type": "stream",
          "name": "stdout",
          "text": [
            "Epoch: 0\n",
            "--------\n",
            "TRAIN LOSS: 1.09199 | TRAIN ACC: 61.34\n",
            "Test loss: 0.00306 | Test Acc:  0.22\n",
            "Test loss: 0.00278 | Test Acc:  0.21\n",
            "Test loss: 0.00261 | Test Acc:  0.21\n",
            "Test loss: 0.00220 | Test Acc:  0.24\n",
            "Test loss: 0.00204 | Test Acc:  0.25\n",
            "Test loss: 0.00254 | Test Acc:  0.21\n",
            "Test loss: 0.00241 | Test Acc:  0.23\n",
            "Test loss: 0.00335 | Test Acc:  0.20\n",
            "Test loss: 0.00262 | Test Acc:  0.21\n",
            "Test loss: 0.00309 | Test Acc:  0.23\n",
            "Test loss: 0.00293 | Test Acc:  0.18\n",
            "Test loss: 0.00291 | Test Acc:  0.22\n",
            "Test loss: 0.00222 | Test Acc:  0.24\n",
            "Test loss: 0.00216 | Test Acc:  0.24\n",
            "Test loss: 0.00408 | Test Acc:  0.18\n",
            "Test loss: 0.00288 | Test Acc:  0.22\n",
            "Test loss: 0.00292 | Test Acc:  0.20\n",
            "Test loss: 0.00313 | Test Acc:  0.20\n",
            "Test loss: 0.00333 | Test Acc:  0.20\n",
            "Test loss: 0.00337 | Test Acc:  0.19\n",
            "Test loss: 0.00206 | Test Acc:  0.25\n",
            "Test loss: 0.00338 | Test Acc:  0.21\n",
            "Test loss: 0.00325 | Test Acc:  0.24\n",
            "Test loss: 0.00278 | Test Acc:  0.22\n",
            "Test loss: 0.00220 | Test Acc:  0.24\n",
            "Test loss: 0.00278 | Test Acc:  0.23\n",
            "Test loss: 0.00262 | Test Acc:  0.22\n",
            "Test loss: 0.00280 | Test Acc:  0.23\n",
            "Test loss: 0.00254 | Test Acc:  0.20\n",
            "Test loss: 0.00198 | Test Acc:  0.25\n",
            "Test loss: 0.00465 | Test Acc:  0.17\n",
            "Test loss: 0.00390 | Test Acc:  0.15\n",
            "Test loss: 0.00286 | Test Acc:  0.21\n",
            "Test loss: 0.00253 | Test Acc:  0.23\n",
            "Test loss: 0.00321 | Test Acc:  0.20\n",
            "Test loss: 0.00299 | Test Acc:  0.18\n",
            "Test loss: 0.00246 | Test Acc:  0.24\n",
            "Test loss: 0.00288 | Test Acc:  0.20\n",
            "Test loss: 0.00325 | Test Acc:  0.20\n",
            "Test loss: 0.00244 | Test Acc:  0.25\n",
            "Test loss: 0.00276 | Test Acc:  0.23\n",
            "Test loss: 0.00324 | Test Acc:  0.23\n",
            "Test loss: 0.00247 | Test Acc:  0.24\n",
            "Test loss: 0.00242 | Test Acc:  0.23\n",
            "Test loss: 0.00210 | Test Acc:  0.24\n",
            "Test loss: 0.00278 | Test Acc:  0.22\n",
            "Test loss: 0.00328 | Test Acc:  0.18\n",
            "Test loss: 0.00327 | Test Acc:  0.20\n",
            "Test loss: 0.00286 | Test Acc:  0.21\n",
            "Test loss: 0.00256 | Test Acc:  0.24\n",
            "Test loss: 0.00335 | Test Acc:  0.18\n",
            "Test loss: 0.00318 | Test Acc:  0.20\n",
            "Test loss: 0.00253 | Test Acc:  0.25\n",
            "Test loss: 0.00369 | Test Acc:  0.18\n",
            "Test loss: 0.00309 | Test Acc:  0.21\n",
            "Test loss: 0.00238 | Test Acc:  0.22\n",
            "Test loss: 0.00410 | Test Acc:  0.19\n",
            "Test loss: 0.00366 | Test Acc:  0.18\n",
            "Test loss: 0.00182 | Test Acc:  0.25\n",
            "Test loss: 0.00247 | Test Acc:  0.24\n",
            "Test loss: 0.00208 | Test Acc:  0.26\n",
            "Test loss: 0.00413 | Test Acc:  0.16\n",
            "Test loss: 0.00337 | Test Acc:  0.20\n",
            "Test loss: 0.00380 | Test Acc:  0.18\n",
            "Test loss: 0.00414 | Test Acc:  0.15\n",
            "Test loss: 0.00265 | Test Acc:  0.24\n",
            "Test loss: 0.00254 | Test Acc:  0.23\n",
            "Test loss: 0.00316 | Test Acc:  0.21\n",
            "Test loss: 0.00451 | Test Acc:  0.14\n",
            "Test loss: 0.00227 | Test Acc:  0.25\n",
            "Test loss: 0.00252 | Test Acc:  0.23\n",
            "Test loss: 0.00263 | Test Acc:  0.20\n",
            "Test loss: 0.00346 | Test Acc:  0.19\n",
            "Test loss: 0.00307 | Test Acc:  0.18\n",
            "Test loss: 0.00312 | Test Acc:  0.21\n",
            "Test loss: 0.00263 | Test Acc:  0.22\n",
            "Test loss: 0.00296 | Test Acc:  0.20\n",
            "Test loss: 0.00321 | Test Acc:  0.19\n",
            "Test loss: 0.00383 | Test Acc:  0.19\n",
            "Test loss: 0.00318 | Test Acc:  0.20\n",
            "Test loss: 0.00229 | Test Acc:  0.23\n",
            "Test loss: 0.00259 | Test Acc:  0.26\n",
            "Test loss: 0.00276 | Test Acc:  0.23\n",
            "Test loss: 0.00332 | Test Acc:  0.21\n",
            "Test loss: 0.00287 | Test Acc:  0.23\n",
            "Test loss: 0.00295 | Test Acc:  0.21\n",
            "Test loss: 0.00290 | Test Acc:  0.21\n",
            "Test loss: 0.00261 | Test Acc:  0.24\n",
            "Test loss: 0.00323 | Test Acc:  0.19\n",
            "Test loss: 0.00322 | Test Acc:  0.23\n",
            "Test loss: 0.00413 | Test Acc:  0.19\n",
            "Test loss: 0.00340 | Test Acc:  0.19\n",
            "Test loss: 0.00242 | Test Acc:  0.22\n",
            "Test loss: 0.00302 | Test Acc:  0.22\n",
            "Test loss: 0.00331 | Test Acc:  0.19\n",
            "Test loss: 0.00315 | Test Acc:  0.21\n",
            "Test loss: 0.00277 | Test Acc:  0.21\n",
            "Test loss: 0.00321 | Test Acc:  0.24\n",
            "Test loss: 0.00209 | Test Acc:  0.25\n",
            "Test loss: 0.00311 | Test Acc:  0.22\n",
            "Test loss: 0.00301 | Test Acc:  0.23\n",
            "Test loss: 0.00427 | Test Acc:  0.19\n",
            "Test loss: 0.00286 | Test Acc:  0.23\n",
            "Test loss: 0.00424 | Test Acc:  0.17\n",
            "Test loss: 0.00262 | Test Acc:  0.23\n",
            "Test loss: 0.00214 | Test Acc:  0.24\n",
            "Test loss: 0.00329 | Test Acc:  0.19\n",
            "Test loss: 0.00249 | Test Acc:  0.23\n",
            "Test loss: 0.00415 | Test Acc:  0.18\n",
            "Test loss: 0.00302 | Test Acc:  0.20\n",
            "Test loss: 0.00310 | Test Acc:  0.21\n",
            "Test loss: 0.00237 | Test Acc:  0.24\n",
            "Test loss: 0.00300 | Test Acc:  0.20\n",
            "Test loss: 0.00296 | Test Acc:  0.24\n",
            "Test loss: 0.00384 | Test Acc:  0.16\n",
            "Test loss: 0.00391 | Test Acc:  0.20\n",
            "Test loss: 0.00319 | Test Acc:  0.19\n",
            "Test loss: 0.00249 | Test Acc:  0.22\n",
            "Test loss: 0.00365 | Test Acc:  0.18\n",
            "Test loss: 0.00375 | Test Acc:  0.20\n",
            "Test loss: 0.00261 | Test Acc:  0.22\n",
            "Test loss: 0.00239 | Test Acc:  0.24\n",
            "Test loss: 0.00374 | Test Acc:  0.18\n",
            "Test loss: 0.00362 | Test Acc:  0.20\n",
            "Test loss: 0.00334 | Test Acc:  0.21\n",
            "Test loss: 0.00296 | Test Acc:  0.20\n",
            "Test loss: 0.00364 | Test Acc:  0.20\n",
            "Test loss: 0.00431 | Test Acc:  0.17\n",
            "Test loss: 0.00178 | Test Acc:  0.25\n",
            "Test loss: 0.00500 | Test Acc:  0.16\n",
            "Test loss: 0.00275 | Test Acc:  0.22\n",
            "Test loss: 0.00258 | Test Acc:  0.22\n",
            "Test loss: 0.00244 | Test Acc:  0.23\n",
            "Test loss: 0.00297 | Test Acc:  0.23\n",
            "Test loss: 0.00281 | Test Acc:  0.23\n",
            "Test loss: 0.00244 | Test Acc:  0.23\n",
            "Test loss: 0.00229 | Test Acc:  0.23\n",
            "Test loss: 0.00351 | Test Acc:  0.20\n",
            "Test loss: 0.00287 | Test Acc:  0.20\n",
            "Test loss: 0.00246 | Test Acc:  0.21\n",
            "Test loss: 0.00334 | Test Acc:  0.19\n",
            "Test loss: 0.00138 | Test Acc:  0.27\n",
            "Test loss: 0.00261 | Test Acc:  0.23\n",
            "Test loss: 0.00214 | Test Acc:  0.23\n",
            "Test loss: 0.00298 | Test Acc:  0.21\n",
            "Test loss: 0.00335 | Test Acc:  0.19\n",
            "Test loss: 0.00456 | Test Acc:  0.16\n",
            "Test loss: 0.00250 | Test Acc:  0.25\n",
            "Test loss: 0.00399 | Test Acc:  0.17\n",
            "Test loss: 0.00195 | Test Acc:  0.24\n",
            "Test loss: 0.00489 | Test Acc:  0.16\n",
            "Test loss: 0.00351 | Test Acc:  0.19\n",
            "Test loss: 0.00288 | Test Acc:  0.19\n",
            "Test loss: 0.00399 | Test Acc:  0.18\n",
            "Test loss: 0.00429 | Test Acc:  0.17\n",
            "Test loss: 0.00258 | Test Acc:  0.22\n",
            "Test loss: 0.00390 | Test Acc:  0.17\n",
            "Test loss: 0.00281 | Test Acc:  0.21\n",
            "Test loss: 0.00439 | Test Acc:  0.15\n",
            "Test loss: 0.00358 | Test Acc:  0.16\n",
            "Test loss: 0.00301 | Test Acc:  0.24\n",
            "Test loss: 0.00372 | Test Acc:  0.18\n",
            "Test loss: 0.00354 | Test Acc:  0.20\n",
            "Test loss: 0.00204 | Test Acc:  0.25\n",
            "Test loss: 0.00344 | Test Acc:  0.21\n",
            "Test loss: 0.00297 | Test Acc:  0.20\n",
            "Test loss: 0.00364 | Test Acc:  0.21\n",
            "Test loss: 0.00208 | Test Acc:  0.24\n",
            "Test loss: 0.00273 | Test Acc:  0.20\n",
            "Test loss: 0.00385 | Test Acc:  0.15\n",
            "Test loss: 0.00313 | Test Acc:  0.22\n",
            "Test loss: 0.00309 | Test Acc:  0.21\n",
            "Test loss: 0.00467 | Test Acc:  0.17\n",
            "Test loss: 0.00332 | Test Acc:  0.20\n",
            "Test loss: 0.00433 | Test Acc:  0.18\n",
            "Test loss: 0.00346 | Test Acc:  0.20\n",
            "Test loss: 0.00284 | Test Acc:  0.19\n",
            "Test loss: 0.00453 | Test Acc:  0.13\n",
            "Test loss: 0.00317 | Test Acc:  0.21\n",
            "Test loss: 0.00341 | Test Acc:  0.20\n",
            "Test loss: 0.00369 | Test Acc:  0.18\n",
            "Test loss: 0.00317 | Test Acc:  0.21\n",
            "Test loss: 0.00301 | Test Acc:  0.22\n",
            "Test loss: 0.00157 | Test Acc:  0.25\n",
            "Test loss: 0.00254 | Test Acc:  0.24\n",
            "Test loss: 0.00298 | Test Acc:  0.21\n",
            "Test loss: 0.00372 | Test Acc:  0.16\n",
            "Test loss: 0.00304 | Test Acc:  0.19\n",
            "Test loss: 0.00356 | Test Acc:  0.18\n",
            "Test loss: 0.00273 | Test Acc:  0.23\n",
            "Test loss: 0.00287 | Test Acc:  0.19\n",
            "Test loss: 0.00308 | Test Acc:  0.21\n",
            "Test loss: 0.00383 | Test Acc:  0.16\n",
            "Test loss: 0.00391 | Test Acc:  0.17\n",
            "Test loss: 0.00306 | Test Acc:  0.19\n",
            "Test loss: 0.00288 | Test Acc:  0.20\n",
            "Test loss: 0.00347 | Test Acc:  0.20\n",
            "Test loss: 0.00337 | Test Acc:  0.19\n",
            "Test loss: 0.00340 | Test Acc:  0.20\n",
            "Test loss: 0.00277 | Test Acc:  0.20\n",
            "Test loss: 0.00308 | Test Acc:  0.20\n",
            "Test loss: 0.00282 | Test Acc:  0.22\n",
            "Test loss: 0.00259 | Test Acc:  0.23\n",
            "Test loss: 0.00207 | Test Acc:  0.23\n",
            "Test loss: 0.00284 | Test Acc:  0.21\n",
            "Test loss: 0.00307 | Test Acc:  0.19\n",
            "Test loss: 0.00274 | Test Acc:  0.26\n",
            "Test loss: 0.00396 | Test Acc:  0.19\n",
            "Test loss: 0.00427 | Test Acc:  0.17\n",
            "Test loss: 0.00409 | Test Acc:  0.18\n",
            "Test loss: 0.00333 | Test Acc:  0.18\n",
            "Test loss: 0.00286 | Test Acc:  0.22\n",
            "Test loss: 0.00293 | Test Acc:  0.19\n",
            "Test loss: 0.00311 | Test Acc:  0.18\n",
            "Test loss: 0.00330 | Test Acc:  0.21\n",
            "Test loss: 0.00392 | Test Acc:  0.17\n",
            "Test loss: 0.00267 | Test Acc:  0.20\n",
            "Test loss: 0.00235 | Test Acc:  0.24\n",
            "Test loss: 0.00292 | Test Acc:  0.23\n",
            "Test loss: 0.00354 | Test Acc:  0.18\n",
            "Test loss: 0.00260 | Test Acc:  0.23\n",
            "Test loss: 0.00365 | Test Acc:  0.19\n",
            "Test loss: 0.00263 | Test Acc:  0.22\n",
            "Test loss: 0.00340 | Test Acc:  0.18\n",
            "Test loss: 0.00361 | Test Acc:  0.20\n",
            "Test loss: 0.00285 | Test Acc:  0.20\n",
            "Test loss: 0.00284 | Test Acc:  0.22\n",
            "Test loss: 0.00290 | Test Acc:  0.21\n",
            "Test loss: 0.00331 | Test Acc:  0.17\n",
            "Test loss: 0.00405 | Test Acc:  0.17\n",
            "Test loss: 0.00407 | Test Acc:  0.18\n",
            "Test loss: 0.00252 | Test Acc:  0.23\n",
            "Test loss: 0.00311 | Test Acc:  0.21\n",
            "Test loss: 0.00210 | Test Acc:  0.24\n",
            "Test loss: 0.00360 | Test Acc:  0.18\n",
            "Test loss: 0.00419 | Test Acc:  0.18\n",
            "Test loss: 0.00347 | Test Acc:  0.20\n",
            "Test loss: 0.00398 | Test Acc:  0.19\n",
            "Test loss: 0.00346 | Test Acc:  0.20\n",
            "Test loss: 0.00353 | Test Acc:  0.18\n",
            "Test loss: 0.00226 | Test Acc:  0.23\n",
            "Test loss: 0.00329 | Test Acc:  0.21\n",
            "Test loss: 0.00195 | Test Acc:  0.26\n",
            "Test loss: 0.00224 | Test Acc:  0.24\n",
            "Test loss: 0.00445 | Test Acc:  0.16\n",
            "Test loss: 0.00317 | Test Acc:  0.19\n",
            "Test loss: 0.00411 | Test Acc:  0.17\n",
            "Test loss: 0.00234 | Test Acc:  0.26\n",
            "Test loss: 0.00317 | Test Acc:  0.22\n",
            "Test loss: 0.00295 | Test Acc:  0.22\n",
            "Test loss: 0.00337 | Test Acc:  0.20\n",
            "Test loss: 0.00291 | Test Acc:  0.21\n",
            "Test loss: 0.00350 | Test Acc:  0.17\n",
            "Test loss: 0.00310 | Test Acc:  0.19\n",
            "Test loss: 0.00357 | Test Acc:  0.20\n",
            "Test loss: 0.00230 | Test Acc:  0.24\n",
            "Test loss: 0.00339 | Test Acc:  0.23\n",
            "Test loss: 0.00232 | Test Acc:  0.26\n",
            "Test loss: 0.00261 | Test Acc:  0.23\n",
            "Test loss: 0.00360 | Test Acc:  0.17\n",
            "Test loss: 0.00232 | Test Acc:  0.25\n",
            "Test loss: 0.00208 | Test Acc:  0.25\n",
            "Test loss: 0.00329 | Test Acc:  0.20\n",
            "Test loss: 0.00253 | Test Acc:  0.21\n",
            "Test loss: 0.00305 | Test Acc:  0.20\n",
            "Test loss: 0.00293 | Test Acc:  0.21\n",
            "Test loss: 0.00223 | Test Acc:  0.23\n",
            "Test loss: 0.00237 | Test Acc:  0.25\n",
            "Test loss: 0.00363 | Test Acc:  0.19\n",
            "Test loss: 0.00267 | Test Acc:  0.21\n",
            "Test loss: 0.00218 | Test Acc:  0.25\n",
            "Test loss: 0.00218 | Test Acc:  0.23\n",
            "Test loss: 0.00393 | Test Acc:  0.16\n",
            "Test loss: 0.00425 | Test Acc:  0.17\n",
            "Test loss: 0.00357 | Test Acc:  0.18\n",
            "Test loss: 0.00209 | Test Acc:  0.25\n",
            "Test loss: 0.00272 | Test Acc:  0.21\n",
            "Test loss: 0.00278 | Test Acc:  0.21\n",
            "Test loss: 0.00385 | Test Acc:  0.18\n",
            "Test loss: 0.00353 | Test Acc:  0.17\n",
            "Test loss: 0.00284 | Test Acc:  0.22\n",
            "Test loss: 0.00238 | Test Acc:  0.25\n",
            "Test loss: 0.00244 | Test Acc:  0.21\n",
            "Test loss: 0.00287 | Test Acc:  0.21\n",
            "Test loss: 0.00290 | Test Acc:  0.19\n",
            "Test loss: 0.00429 | Test Acc:  0.16\n",
            "Test loss: 0.00407 | Test Acc:  0.16\n",
            "Test loss: 0.00300 | Test Acc:  0.22\n",
            "Test loss: 0.00313 | Test Acc:  0.18\n",
            "Test loss: 0.00372 | Test Acc:  0.20\n",
            "Test loss: 0.00288 | Test Acc:  0.20\n",
            "Test loss: 0.00312 | Test Acc:  0.21\n",
            "Test loss: 0.00339 | Test Acc:  0.17\n",
            "Test loss: 0.00298 | Test Acc:  0.20\n",
            "Test loss: 0.00192 | Test Acc:  0.24\n",
            "Test loss: 0.00306 | Test Acc:  0.19\n",
            "Test loss: 0.00364 | Test Acc:  0.21\n",
            "Test loss: 0.00359 | Test Acc:  0.20\n",
            "Test loss: 0.00316 | Test Acc:  0.23\n",
            "Test loss: 0.00254 | Test Acc:  0.23\n",
            "Test loss: 0.00298 | Test Acc:  0.21\n",
            "Test loss: 0.00287 | Test Acc:  0.22\n",
            "Test loss: 0.00319 | Test Acc:  0.19\n",
            "Test loss: 0.00159 | Test Acc:  0.27\n",
            "Test loss: 0.00229 | Test Acc:  0.25\n",
            "Test loss: 0.00181 | Test Acc:  0.25\n",
            "Test loss: 0.00317 | Test Acc:  0.21\n",
            "Test loss: 0.00196 | Test Acc:  0.23\n",
            "Test loss: 0.00337 | Test Acc:  0.23\n",
            "Test loss: 0.00297 | Test Acc:  0.21\n",
            "Test loss: 0.00357 | Test Acc:  0.20\n",
            "Test loss: 0.00357 | Test Acc:  0.18\n",
            "Test loss: 0.00220 | Test Acc:  0.24\n",
            "Epoch: 1\n",
            "--------\n",
            "TRAIN LOSS: 0.78101 | TRAIN ACC: 71.93\n",
            "Test loss: 0.00239 | Test Acc:  0.23\n",
            "Test loss: 0.00206 | Test Acc:  0.24\n",
            "Test loss: 0.00203 | Test Acc:  0.25\n",
            "Test loss: 0.00162 | Test Acc:  0.28\n",
            "Test loss: 0.00148 | Test Acc:  0.27\n",
            "Test loss: 0.00139 | Test Acc:  0.26\n",
            "Test loss: 0.00160 | Test Acc:  0.27\n",
            "Test loss: 0.00241 | Test Acc:  0.22\n",
            "Test loss: 0.00253 | Test Acc:  0.22\n",
            "Test loss: 0.00240 | Test Acc:  0.27\n",
            "Test loss: 0.00216 | Test Acc:  0.23\n",
            "Test loss: 0.00261 | Test Acc:  0.23\n",
            "Test loss: 0.00165 | Test Acc:  0.25\n",
            "Test loss: 0.00184 | Test Acc:  0.25\n",
            "Test loss: 0.00334 | Test Acc:  0.22\n",
            "Test loss: 0.00183 | Test Acc:  0.26\n",
            "Test loss: 0.00201 | Test Acc:  0.23\n",
            "Test loss: 0.00221 | Test Acc:  0.22\n",
            "Test loss: 0.00203 | Test Acc:  0.25\n",
            "Test loss: 0.00272 | Test Acc:  0.24\n",
            "Test loss: 0.00189 | Test Acc:  0.27\n",
            "Test loss: 0.00281 | Test Acc:  0.22\n",
            "Test loss: 0.00231 | Test Acc:  0.24\n",
            "Test loss: 0.00230 | Test Acc:  0.24\n",
            "Test loss: 0.00107 | Test Acc:  0.29\n",
            "Test loss: 0.00211 | Test Acc:  0.23\n",
            "Test loss: 0.00176 | Test Acc:  0.25\n",
            "Test loss: 0.00214 | Test Acc:  0.26\n",
            "Test loss: 0.00226 | Test Acc:  0.23\n",
            "Test loss: 0.00155 | Test Acc:  0.26\n",
            "Test loss: 0.00342 | Test Acc:  0.21\n",
            "Test loss: 0.00268 | Test Acc:  0.20\n",
            "Test loss: 0.00224 | Test Acc:  0.23\n",
            "Test loss: 0.00170 | Test Acc:  0.25\n",
            "Test loss: 0.00241 | Test Acc:  0.24\n",
            "Test loss: 0.00177 | Test Acc:  0.25\n",
            "Test loss: 0.00185 | Test Acc:  0.27\n",
            "Test loss: 0.00143 | Test Acc:  0.28\n",
            "Test loss: 0.00250 | Test Acc:  0.23\n",
            "Test loss: 0.00176 | Test Acc:  0.28\n",
            "Test loss: 0.00290 | Test Acc:  0.23\n",
            "Test loss: 0.00279 | Test Acc:  0.24\n",
            "Test loss: 0.00186 | Test Acc:  0.25\n",
            "Test loss: 0.00226 | Test Acc:  0.24\n",
            "Test loss: 0.00100 | Test Acc:  0.28\n",
            "Test loss: 0.00234 | Test Acc:  0.24\n",
            "Test loss: 0.00283 | Test Acc:  0.19\n",
            "Test loss: 0.00237 | Test Acc:  0.26\n",
            "Test loss: 0.00168 | Test Acc:  0.26\n",
            "Test loss: 0.00195 | Test Acc:  0.25\n",
            "Test loss: 0.00278 | Test Acc:  0.21\n",
            "Test loss: 0.00241 | Test Acc:  0.22\n",
            "Test loss: 0.00206 | Test Acc:  0.25\n",
            "Test loss: 0.00186 | Test Acc:  0.25\n",
            "Test loss: 0.00225 | Test Acc:  0.26\n",
            "Test loss: 0.00157 | Test Acc:  0.27\n",
            "Test loss: 0.00259 | Test Acc:  0.25\n",
            "Test loss: 0.00317 | Test Acc:  0.21\n",
            "Test loss: 0.00118 | Test Acc:  0.28\n",
            "Test loss: 0.00136 | Test Acc:  0.26\n",
            "Test loss: 0.00191 | Test Acc:  0.27\n",
            "Test loss: 0.00356 | Test Acc:  0.19\n",
            "Test loss: 0.00241 | Test Acc:  0.23\n",
            "Test loss: 0.00298 | Test Acc:  0.21\n",
            "Test loss: 0.00307 | Test Acc:  0.21\n",
            "Test loss: 0.00172 | Test Acc:  0.27\n",
            "Test loss: 0.00172 | Test Acc:  0.25\n",
            "Test loss: 0.00244 | Test Acc:  0.24\n",
            "Test loss: 0.00302 | Test Acc:  0.19\n",
            "Test loss: 0.00138 | Test Acc:  0.27\n",
            "Test loss: 0.00156 | Test Acc:  0.26\n",
            "Test loss: 0.00179 | Test Acc:  0.23\n",
            "Test loss: 0.00290 | Test Acc:  0.22\n",
            "Test loss: 0.00253 | Test Acc:  0.23\n",
            "Test loss: 0.00238 | Test Acc:  0.23\n",
            "Test loss: 0.00229 | Test Acc:  0.23\n",
            "Test loss: 0.00173 | Test Acc:  0.27\n",
            "Test loss: 0.00241 | Test Acc:  0.22\n",
            "Test loss: 0.00316 | Test Acc:  0.20\n",
            "Test loss: 0.00190 | Test Acc:  0.26\n",
            "Test loss: 0.00157 | Test Acc:  0.29\n",
            "Test loss: 0.00207 | Test Acc:  0.26\n",
            "Test loss: 0.00241 | Test Acc:  0.24\n",
            "Test loss: 0.00248 | Test Acc:  0.24\n",
            "Test loss: 0.00241 | Test Acc:  0.25\n",
            "Test loss: 0.00283 | Test Acc:  0.23\n",
            "Test loss: 0.00210 | Test Acc:  0.24\n",
            "Test loss: 0.00210 | Test Acc:  0.24\n",
            "Test loss: 0.00278 | Test Acc:  0.18\n",
            "Test loss: 0.00286 | Test Acc:  0.21\n",
            "Test loss: 0.00399 | Test Acc:  0.19\n",
            "Test loss: 0.00280 | Test Acc:  0.22\n",
            "Test loss: 0.00156 | Test Acc:  0.27\n",
            "Test loss: 0.00237 | Test Acc:  0.24\n",
            "Test loss: 0.00272 | Test Acc:  0.22\n",
            "Test loss: 0.00286 | Test Acc:  0.23\n",
            "Test loss: 0.00253 | Test Acc:  0.21\n",
            "Test loss: 0.00267 | Test Acc:  0.25\n",
            "Test loss: 0.00173 | Test Acc:  0.26\n",
            "Test loss: 0.00240 | Test Acc:  0.24\n",
            "Test loss: 0.00217 | Test Acc:  0.26\n",
            "Test loss: 0.00343 | Test Acc:  0.21\n",
            "Test loss: 0.00258 | Test Acc:  0.20\n",
            "Test loss: 0.00273 | Test Acc:  0.24\n",
            "Test loss: 0.00219 | Test Acc:  0.21\n",
            "Test loss: 0.00120 | Test Acc:  0.27\n",
            "Test loss: 0.00218 | Test Acc:  0.23\n",
            "Test loss: 0.00244 | Test Acc:  0.22\n",
            "Test loss: 0.00415 | Test Acc:  0.20\n",
            "Test loss: 0.00199 | Test Acc:  0.24\n",
            "Test loss: 0.00268 | Test Acc:  0.24\n",
            "Test loss: 0.00200 | Test Acc:  0.26\n",
            "Test loss: 0.00241 | Test Acc:  0.24\n",
            "Test loss: 0.00151 | Test Acc:  0.27\n",
            "Test loss: 0.00237 | Test Acc:  0.24\n",
            "Test loss: 0.00255 | Test Acc:  0.23\n",
            "Test loss: 0.00215 | Test Acc:  0.26\n",
            "Test loss: 0.00210 | Test Acc:  0.24\n",
            "Test loss: 0.00245 | Test Acc:  0.23\n",
            "Test loss: 0.00257 | Test Acc:  0.23\n",
            "Test loss: 0.00224 | Test Acc:  0.24\n",
            "Test loss: 0.00192 | Test Acc:  0.24\n",
            "Test loss: 0.00328 | Test Acc:  0.19\n",
            "Test loss: 0.00353 | Test Acc:  0.21\n",
            "Test loss: 0.00254 | Test Acc:  0.25\n",
            "Test loss: 0.00217 | Test Acc:  0.24\n",
            "Test loss: 0.00330 | Test Acc:  0.23\n",
            "Test loss: 0.00314 | Test Acc:  0.22\n",
            "Test loss: 0.00130 | Test Acc:  0.27\n",
            "Test loss: 0.00430 | Test Acc:  0.18\n",
            "Test loss: 0.00202 | Test Acc:  0.24\n",
            "Test loss: 0.00253 | Test Acc:  0.21\n",
            "Test loss: 0.00225 | Test Acc:  0.22\n",
            "Test loss: 0.00159 | Test Acc:  0.28\n",
            "Test loss: 0.00254 | Test Acc:  0.23\n",
            "Test loss: 0.00137 | Test Acc:  0.28\n",
            "Test loss: 0.00165 | Test Acc:  0.26\n",
            "Test loss: 0.00264 | Test Acc:  0.22\n",
            "Test loss: 0.00194 | Test Acc:  0.25\n",
            "Test loss: 0.00173 | Test Acc:  0.24\n",
            "Test loss: 0.00267 | Test Acc:  0.21\n",
            "Test loss: 0.00077 | Test Acc:  0.30\n",
            "Test loss: 0.00190 | Test Acc:  0.26\n",
            "Test loss: 0.00160 | Test Acc:  0.27\n",
            "Test loss: 0.00250 | Test Acc:  0.22\n",
            "Test loss: 0.00309 | Test Acc:  0.20\n",
            "Test loss: 0.00358 | Test Acc:  0.18\n",
            "Test loss: 0.00217 | Test Acc:  0.24\n",
            "Test loss: 0.00327 | Test Acc:  0.19\n",
            "Test loss: 0.00178 | Test Acc:  0.26\n",
            "Test loss: 0.00361 | Test Acc:  0.22\n",
            "Test loss: 0.00243 | Test Acc:  0.23\n",
            "Test loss: 0.00196 | Test Acc:  0.23\n",
            "Test loss: 0.00280 | Test Acc:  0.20\n",
            "Test loss: 0.00330 | Test Acc:  0.20\n",
            "Test loss: 0.00221 | Test Acc:  0.23\n",
            "Test loss: 0.00313 | Test Acc:  0.21\n",
            "Test loss: 0.00292 | Test Acc:  0.21\n",
            "Test loss: 0.00378 | Test Acc:  0.17\n",
            "Test loss: 0.00216 | Test Acc:  0.25\n",
            "Test loss: 0.00265 | Test Acc:  0.25\n",
            "Test loss: 0.00294 | Test Acc:  0.23\n",
            "Test loss: 0.00308 | Test Acc:  0.22\n",
            "Test loss: 0.00151 | Test Acc:  0.27\n",
            "Test loss: 0.00342 | Test Acc:  0.22\n",
            "Test loss: 0.00217 | Test Acc:  0.22\n",
            "Test loss: 0.00229 | Test Acc:  0.25\n",
            "Test loss: 0.00144 | Test Acc:  0.25\n",
            "Test loss: 0.00158 | Test Acc:  0.27\n",
            "Test loss: 0.00222 | Test Acc:  0.23\n",
            "Test loss: 0.00218 | Test Acc:  0.25\n",
            "Test loss: 0.00187 | Test Acc:  0.24\n",
            "Test loss: 0.00412 | Test Acc:  0.19\n",
            "Test loss: 0.00224 | Test Acc:  0.24\n",
            "Test loss: 0.00410 | Test Acc:  0.20\n",
            "Test loss: 0.00299 | Test Acc:  0.22\n",
            "Test loss: 0.00270 | Test Acc:  0.19\n",
            "Test loss: 0.00347 | Test Acc:  0.17\n",
            "Test loss: 0.00214 | Test Acc:  0.24\n",
            "Test loss: 0.00228 | Test Acc:  0.25\n",
            "Test loss: 0.00255 | Test Acc:  0.24\n",
            "Test loss: 0.00239 | Test Acc:  0.24\n",
            "Test loss: 0.00220 | Test Acc:  0.25\n",
            "Test loss: 0.00093 | Test Acc:  0.29\n",
            "Test loss: 0.00170 | Test Acc:  0.25\n",
            "Test loss: 0.00282 | Test Acc:  0.22\n",
            "Test loss: 0.00279 | Test Acc:  0.19\n",
            "Test loss: 0.00213 | Test Acc:  0.24\n",
            "Test loss: 0.00204 | Test Acc:  0.23\n",
            "Test loss: 0.00161 | Test Acc:  0.26\n",
            "Test loss: 0.00258 | Test Acc:  0.23\n",
            "Test loss: 0.00206 | Test Acc:  0.25\n",
            "Test loss: 0.00277 | Test Acc:  0.21\n",
            "Test loss: 0.00264 | Test Acc:  0.22\n",
            "Test loss: 0.00190 | Test Acc:  0.24\n",
            "Test loss: 0.00216 | Test Acc:  0.22\n",
            "Test loss: 0.00294 | Test Acc:  0.23\n",
            "Test loss: 0.00278 | Test Acc:  0.20\n",
            "Test loss: 0.00226 | Test Acc:  0.25\n",
            "Test loss: 0.00203 | Test Acc:  0.22\n",
            "Test loss: 0.00261 | Test Acc:  0.21\n",
            "Test loss: 0.00200 | Test Acc:  0.26\n",
            "Test loss: 0.00258 | Test Acc:  0.23\n",
            "Test loss: 0.00216 | Test Acc:  0.23\n",
            "Test loss: 0.00235 | Test Acc:  0.20\n",
            "Test loss: 0.00292 | Test Acc:  0.21\n",
            "Test loss: 0.00201 | Test Acc:  0.28\n",
            "Test loss: 0.00255 | Test Acc:  0.23\n",
            "Test loss: 0.00242 | Test Acc:  0.24\n",
            "Test loss: 0.00355 | Test Acc:  0.20\n",
            "Test loss: 0.00223 | Test Acc:  0.23\n",
            "Test loss: 0.00171 | Test Acc:  0.26\n",
            "Test loss: 0.00227 | Test Acc:  0.23\n",
            "Test loss: 0.00215 | Test Acc:  0.22\n",
            "Test loss: 0.00256 | Test Acc:  0.23\n",
            "Test loss: 0.00301 | Test Acc:  0.20\n",
            "Test loss: 0.00233 | Test Acc:  0.24\n",
            "Test loss: 0.00108 | Test Acc:  0.29\n",
            "Test loss: 0.00195 | Test Acc:  0.27\n",
            "Test loss: 0.00257 | Test Acc:  0.22\n",
            "Test loss: 0.00187 | Test Acc:  0.24\n",
            "Test loss: 0.00235 | Test Acc:  0.23\n",
            "Test loss: 0.00221 | Test Acc:  0.22\n",
            "Test loss: 0.00205 | Test Acc:  0.23\n",
            "Test loss: 0.00259 | Test Acc:  0.23\n",
            "Test loss: 0.00214 | Test Acc:  0.23\n",
            "Test loss: 0.00205 | Test Acc:  0.23\n",
            "Test loss: 0.00240 | Test Acc:  0.23\n",
            "Test loss: 0.00204 | Test Acc:  0.23\n",
            "Test loss: 0.00307 | Test Acc:  0.21\n",
            "Test loss: 0.00313 | Test Acc:  0.21\n",
            "Test loss: 0.00187 | Test Acc:  0.27\n",
            "Test loss: 0.00252 | Test Acc:  0.23\n",
            "Test loss: 0.00150 | Test Acc:  0.26\n",
            "Test loss: 0.00223 | Test Acc:  0.25\n",
            "Test loss: 0.00196 | Test Acc:  0.26\n",
            "Test loss: 0.00310 | Test Acc:  0.21\n",
            "Test loss: 0.00297 | Test Acc:  0.22\n",
            "Test loss: 0.00299 | Test Acc:  0.23\n",
            "Test loss: 0.00192 | Test Acc:  0.25\n",
            "Test loss: 0.00187 | Test Acc:  0.22\n",
            "Test loss: 0.00268 | Test Acc:  0.22\n",
            "Test loss: 0.00148 | Test Acc:  0.26\n",
            "Test loss: 0.00167 | Test Acc:  0.25\n",
            "Test loss: 0.00364 | Test Acc:  0.19\n",
            "Test loss: 0.00202 | Test Acc:  0.23\n",
            "Test loss: 0.00352 | Test Acc:  0.22\n",
            "Test loss: 0.00186 | Test Acc:  0.27\n",
            "Test loss: 0.00241 | Test Acc:  0.26\n",
            "Test loss: 0.00271 | Test Acc:  0.22\n",
            "Test loss: 0.00223 | Test Acc:  0.22\n",
            "Test loss: 0.00216 | Test Acc:  0.26\n",
            "Test loss: 0.00281 | Test Acc:  0.20\n",
            "Test loss: 0.00206 | Test Acc:  0.23\n",
            "Test loss: 0.00296 | Test Acc:  0.20\n",
            "Test loss: 0.00143 | Test Acc:  0.26\n",
            "Test loss: 0.00346 | Test Acc:  0.24\n",
            "Test loss: 0.00168 | Test Acc:  0.26\n",
            "Test loss: 0.00215 | Test Acc:  0.22\n",
            "Test loss: 0.00253 | Test Acc:  0.22\n",
            "Test loss: 0.00147 | Test Acc:  0.27\n",
            "Test loss: 0.00178 | Test Acc:  0.25\n",
            "Test loss: 0.00170 | Test Acc:  0.26\n",
            "Test loss: 0.00157 | Test Acc:  0.25\n",
            "Test loss: 0.00203 | Test Acc:  0.25\n",
            "Test loss: 0.00170 | Test Acc:  0.25\n",
            "Test loss: 0.00187 | Test Acc:  0.25\n",
            "Test loss: 0.00214 | Test Acc:  0.27\n",
            "Test loss: 0.00252 | Test Acc:  0.25\n",
            "Test loss: 0.00279 | Test Acc:  0.22\n",
            "Test loss: 0.00177 | Test Acc:  0.26\n",
            "Test loss: 0.00186 | Test Acc:  0.23\n",
            "Test loss: 0.00322 | Test Acc:  0.21\n",
            "Test loss: 0.00348 | Test Acc:  0.19\n",
            "Test loss: 0.00273 | Test Acc:  0.22\n",
            "Test loss: 0.00169 | Test Acc:  0.25\n",
            "Test loss: 0.00205 | Test Acc:  0.24\n",
            "Test loss: 0.00222 | Test Acc:  0.22\n",
            "Test loss: 0.00238 | Test Acc:  0.24\n",
            "Test loss: 0.00317 | Test Acc:  0.20\n",
            "Test loss: 0.00161 | Test Acc:  0.27\n",
            "Test loss: 0.00155 | Test Acc:  0.27\n",
            "Test loss: 0.00157 | Test Acc:  0.24\n",
            "Test loss: 0.00177 | Test Acc:  0.25\n",
            "Test loss: 0.00214 | Test Acc:  0.25\n",
            "Test loss: 0.00239 | Test Acc:  0.23\n",
            "Test loss: 0.00316 | Test Acc:  0.20\n",
            "Test loss: 0.00257 | Test Acc:  0.25\n",
            "Test loss: 0.00238 | Test Acc:  0.22\n",
            "Test loss: 0.00340 | Test Acc:  0.18\n",
            "Test loss: 0.00272 | Test Acc:  0.21\n",
            "Test loss: 0.00199 | Test Acc:  0.25\n",
            "Test loss: 0.00282 | Test Acc:  0.23\n",
            "Test loss: 0.00238 | Test Acc:  0.21\n",
            "Test loss: 0.00087 | Test Acc:  0.29\n",
            "Test loss: 0.00242 | Test Acc:  0.22\n",
            "Test loss: 0.00260 | Test Acc:  0.25\n",
            "Test loss: 0.00247 | Test Acc:  0.24\n",
            "Test loss: 0.00225 | Test Acc:  0.24\n",
            "Test loss: 0.00207 | Test Acc:  0.25\n",
            "Test loss: 0.00186 | Test Acc:  0.26\n",
            "Test loss: 0.00217 | Test Acc:  0.24\n",
            "Test loss: 0.00225 | Test Acc:  0.23\n",
            "Test loss: 0.00131 | Test Acc:  0.28\n",
            "Test loss: 0.00138 | Test Acc:  0.26\n",
            "Test loss: 0.00149 | Test Acc:  0.29\n",
            "Test loss: 0.00270 | Test Acc:  0.23\n",
            "Test loss: 0.00126 | Test Acc:  0.26\n",
            "Test loss: 0.00286 | Test Acc:  0.21\n",
            "Test loss: 0.00233 | Test Acc:  0.24\n",
            "Test loss: 0.00329 | Test Acc:  0.21\n",
            "Test loss: 0.00217 | Test Acc:  0.22\n",
            "Test loss: 0.00128 | Test Acc:  0.28\n",
            "Epoch: 2\n",
            "--------\n"
          ]
        }
      ]
    },
    {
      "cell_type": "code",
      "source": [
        "model0_results #baseline / previous model\n"
      ],
      "metadata": {
        "id": "__4lbm12-853"
      },
      "execution_count": null,
      "outputs": []
    },
    {
      "cell_type": "code",
      "source": [
        "total_train_time_model0"
      ],
      "metadata": {
        "id": "QWTLqtjl-75i"
      },
      "execution_count": null,
      "outputs": []
    },
    {
      "cell_type": "code",
      "source": [
        "#for now model 0 is better than model 1"
      ],
      "metadata": {
        "id": "ne-hEGNxIJZJ"
      },
      "execution_count": null,
      "outputs": []
    },
    {
      "cell_type": "code",
      "source": [
        "#getting model1 results\n",
        "model_1_results = eval_model(model = model_1,\n",
        "                             data_loader = test_dataloader,\n",
        "                             loss_fn = loss_fn,\n",
        "                             accuracy_fn = accuracy_fn)\n",
        "\n",
        "model_1_results"
      ],
      "metadata": {
        "id": "18J9JesNKhRA"
      },
      "execution_count": null,
      "outputs": []
    },
    {
      "cell_type": "code",
      "source": [
        "#since the new model was not able to beat the baseline model , we need a CNN"
      ],
      "metadata": {
        "id": "NVOjPo2GKhMO"
      },
      "execution_count": null,
      "outputs": []
    },
    {
      "cell_type": "markdown",
      "source": [
        "#Building a CNN for performance improvement\n",
        "\n",
        "* also known as ConvNet\n",
        "\n",
        "* different combined layers, such as input layers, Relu layers, pooling layers\n",
        "\n",
        "* deeper CNN - more layers\n",
        "\n",
        "* the more layers we add to our CNN, the more chances it gets to recognise a pattern.\n",
        "\n",
        "* Resnet CNN - related to residual learning"
      ],
      "metadata": {
        "id": "s9AFeLzsNcnr"
      }
    },
    {
      "cell_type": "code",
      "source": [
        "#CNN\n",
        "\n",
        "class FashionMNISTModelV2(nn.Module):\n",
        "  def __init__(self, input_shape: int,\n",
        "               hidden_units : int,\n",
        "               output_shape: int):\n",
        "    super().__init__()\n",
        "    self.conv_block_1 = nn.Sequential(\n",
        "        nn.Conv2d(in_channels = input_shape,\n",
        "                out_channels = hidden_units,\n",
        "                kernel_size=3,\n",
        "                stride=1,   #the no. of pixels by which the filter shifts\n",
        "                padding=1),\n",
        "        nn.ReLU(),\n",
        "        nn.Conv2d(in_channels = hidden_units,\n",
        "                out_channels = hidden_units,\n",
        "                kernel_size=3,\n",
        "                stride=1,   #the no. of pixels by which the filter shifts\n",
        "                padding=1),\n",
        "        nn.ReLU(),\n",
        "        nn.MaxPool2d(kernel_size=2)\n",
        "    )\n",
        "    self.conv_block2 = nn.Sequential(\n",
        "        nn.Conv2d(in_channels = hidden_units,\n",
        "                  out_channels = hidden_units,\n",
        "                  kernel_size=3,\n",
        "                  stride=1,\n",
        "                  padding=1),\n",
        "        nn.ReLU(),\n",
        "        nn.Conv2d(in_channels = hidden_units,\n",
        "                  out_channels = hidden_units,\n",
        "                  kernel_size=3,\n",
        "                  stride=1,\n",
        "                  padding=1),\n",
        "        nn.ReLU(),\n",
        "        nn.MaxPool2d(kernel_size=2)\n",
        "    )\n",
        "    self.classifier = nn.Sequential(\n",
        "        nn.Flatten(),\n",
        "        nn.Linear(in_features = hidden_units,\n",
        "                  out_features = output_shape)\n",
        "    )\n",
        "  def forward(self, x):\n",
        "    x= self.conv_block_1(x)\n",
        "    print(x.shape)\n",
        "    x = self.conv_block_2(x)\n",
        "    print(x.shape)\n",
        "    x = self.classifier(x)\n",
        "    return x\n",
        "\n",
        "\n"
      ],
      "metadata": {
        "id": "xEPgz4IrKhG_"
      },
      "execution_count": null,
      "outputs": []
    },
    {
      "cell_type": "code",
      "source": [
        "torch.manual_seed(42)\n",
        "model_2 = FashionMNISTModelV2(input_shape = 1,\n",
        "                              hidden_units = 10,\n",
        "                              output_shape = len(class_names)).to(device)"
      ],
      "metadata": {
        "id": "J-yUtEjQW_b4"
      },
      "execution_count": null,
      "outputs": []
    },
    {
      "cell_type": "code",
      "source": [
        "#the model is trying to take the input and learn a compressed representation from each\n",
        "#of these layers.\n",
        "\n",
        "#we will flatten the layers before putting them to output layers."
      ],
      "metadata": {
        "id": "-2iKN4JQUvnR"
      },
      "execution_count": null,
      "outputs": []
    },
    {
      "cell_type": "code",
      "source": [],
      "metadata": {
        "id": "hyRtmUKDYSkc"
      },
      "execution_count": null,
      "outputs": []
    }
  ]
}